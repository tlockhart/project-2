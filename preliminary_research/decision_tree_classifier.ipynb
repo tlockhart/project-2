{
 "cells": [
  {
   "cell_type": "code",
   "execution_count": 29,
   "id": "9dc86757",
   "metadata": {},
   "outputs": [
    {
     "name": "stdout",
     "output_type": "stream",
     "text": [
      "* Running on local URL:  http://127.0.0.1:7862\n",
      "\n",
      "To create a public link, set `share=True` in `launch()`.\n"
     ]
    },
    {
     "data": {
      "text/html": [
       "<div><iframe src=\"http://127.0.0.1:7862/\" width=\"100%\" height=\"500\" allow=\"autoplay; camera; microphone; clipboard-read; clipboard-write;\" frameborder=\"0\" allowfullscreen></iframe></div>"
      ],
      "text/plain": [
       "<IPython.core.display.HTML object>"
      ]
     },
     "metadata": {},
     "output_type": "display_data"
    },
    {
     "data": {
      "text/plain": []
     },
     "execution_count": 29,
     "metadata": {},
     "output_type": "execute_result"
    }
   ],
   "source": [
    "\n",
    "# Import necessary libraries\n",
    "import pandas as pd\n",
    "import gradio as gr\n",
    "from sklearn.tree import DecisionTreeClassifier\n",
    "from sklearn.model_selection import train_test_split\n",
    "from sklearn.preprocessing import OneHotEncoder\n",
    "from sklearn.compose import ColumnTransformer\n",
    "import numpy as np\n",
    "\n",
    "# Load dataset\n",
    "file_path = \"./resources/data_science_salaries.csv\"  # Update path if needed\n",
    "salary_df = pd.read_csv(file_path)\n",
    "\n",
    "# Define features and target variable\n",
    "categorical_features = [\"job_title\", \"experience_level\", \"employment_type\", \"work_models\", \n",
    "                        \"company_size\", \"employee_residence\", \"company_location\"]\n",
    "numerical_features = [\"work_year\"]\n",
    "\n",
    "# Binning Employee Salary (y):\n",
    "\n",
    "# Visual observation of the range of the Highest two bars\n",
    "bins = [1500, 50000, 156000, 176000, 750000]\n",
    "\n",
    "# Create labels for these bins\n",
    "group_names = [\"Very Low\", \"Low\", \"Average\", \"High\"]\n",
    "\n",
    "salary_data = salary_df[\"salary_in_usd\"]\n",
    "# Slice the data and place it into bins\n",
    "binned_data = pd.cut(salary_data, bins, labels=group_names, include_lowest=True)\n",
    "\n",
    "X = salary_df[categorical_features + numerical_features]\n",
    "y = binned_data  # This should already contain \"Very Low\", \"Low\", etc.\n",
    "\n",
    "# Apply OneHotEncoder for categorical variables\n",
    "preprocessor = ColumnTransformer(\n",
    "    transformers=[(\"cat\", OneHotEncoder(handle_unknown=\"ignore\"), categorical_features)],\n",
    "    remainder=\"passthrough\"\n",
    ")\n",
    "\n",
    "# Transform features and split dataset\n",
    "X_encoded = preprocessor.fit_transform(X)\n",
    "X_train, X_test, y_train, y_test = train_test_split(X_encoded, y, test_size=0.2, random_state=42)\n",
    "\n",
    "# Train Decision Tree Classifier with optimized depth\n",
    "dtc_model = DecisionTreeClassifier(max_depth=4, random_state=42)\n",
    "dtc_model.fit(X_train, y_train)\n",
    "\n",
    "# Gradio Interface Function\n",
    "def predict_salary(job_title, experience_level, employment_type, work_models, work_year, company_size, employee_residence, company_location):\n",
    "    \"\"\"Predicts salary bin using the trained Decision Tree Classifier.\"\"\"\n",
    "    user_input = pd.DataFrame([{\n",
    "        \"job_title\": job_title,\n",
    "        \"experience_level\": experience_level,\n",
    "        \"employment_type\": employment_type,\n",
    "        \"work_models\": work_models,\n",
    "        \"company_size\": company_size,\n",
    "        \"employee_residence\": employee_residence,\n",
    "        \"company_location\": company_location,\n",
    "        \"work_year\": int(work_year)\n",
    "    }])\n",
    "\n",
    "    # Apply OneHotEncoder transformation\n",
    "    user_encoded = preprocessor.transform(user_input)\n",
    "\n",
    "    # Predict salary bin\n",
    "    predicted_bin = dtc_model.predict(user_encoded)[0]\n",
    "\n",
    "    return f\"Predicted Salary Bin: {predicted_bin}\"\n",
    "\n",
    "# Extract unique values for dropdowns\n",
    "job_titles = list(salary_df[\"job_title\"].unique())\n",
    "experience_levels = list(salary_df[\"experience_level\"].unique())\n",
    "employment_types = list(salary_df[\"employment_type\"].unique())\n",
    "work_models = list(salary_df[\"work_models\"].unique())\n",
    "company_sizes = list(salary_df[\"company_size\"].unique())\n",
    "employee_residences = list(salary_df[\"employee_residence\"].unique())\n",
    "company_locations = list(salary_df[\"company_location\"].unique())\n",
    "\n",
    "# Create Gradio Interface\n",
    "gr_interface = gr.Interface(\n",
    "    fn=predict_salary,\n",
    "    inputs=[\n",
    "        gr.Dropdown(choices=job_titles, label=\"Job Title\"),\n",
    "        gr.Dropdown(choices=experience_levels, label=\"Experience Level\"),\n",
    "        gr.Dropdown(choices=employment_types, label=\"Employment Type\"),\n",
    "        gr.Dropdown(choices=work_models, label=\"Work Model\"),\n",
    "        gr.Number(label=\"Work Year\"),\n",
    "        gr.Dropdown(choices=company_sizes, label=\"Company Size\"),\n",
    "        gr.Dropdown(choices=employee_residences, label=\"Employee Residence\"),\n",
    "        gr.Dropdown(choices=company_locations, label=\"Company Location\")\n",
    "    ],\n",
    "    outputs=gr.Textbox(label=\"Predicted Salary Bin\"),\n",
    "    title=\"Salary Prediction App\",\n",
    "    description=\"Select your details and get an estimated salary category using a Decision Tree model.\"\n",
    ")\n",
    "\n",
    "# Launch Gradio App\n",
    "gr_interface.launch()\n"
   ]
  }
 ],
 "metadata": {
  "kernelspec": {
   "display_name": "dev",
   "language": "python",
   "name": "python3"
  },
  "language_info": {
   "codemirror_mode": {
    "name": "ipython",
    "version": 3
   },
   "file_extension": ".py",
   "mimetype": "text/x-python",
   "name": "python",
   "nbconvert_exporter": "python",
   "pygments_lexer": "ipython3",
   "version": "3.10.15"
  }
 },
 "nbformat": 4,
 "nbformat_minor": 2
}
