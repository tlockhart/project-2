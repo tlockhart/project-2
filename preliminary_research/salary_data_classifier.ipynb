{
 "cells": [
  {
   "cell_type": "code",
   "execution_count": 195,
   "metadata": {},
   "outputs": [],
   "source": [
    "# File Imports\n",
    "import pandas as pd\n",
    "from pathlib import Path\n",
    "from sklearn.preprocessing import OneHotEncoder\n",
    "from sklearn.model_selection import train_test_split\n",
    "from sklearn.metrics import mean_squared_error, r2_score\n",
    "from sklearn import tree\n",
    "\n",
    "import matplotlib.pyplot as plt\n",
    "import seaborn as sns\n",
    "from scipy.stats import norm\n",
    "import numpy as np\n",
    "\n",
    "from sklearn.pipeline import Pipeline\n",
    "from sklearn.linear_model import LinearRegression\n",
    "from sklearn.preprocessing import StandardScaler, LabelEncoder\n",
    "from sklearn.neighbors import KNeighborsClassifier\n",
    "from sklearn.tree import DecisionTreeClassifier\n",
    "from sklearn.ensemble import RandomForestClassifier, AdaBoostClassifier\n",
    "\n",
    "from sklearn.svm import SVC \n",
    "from imblearn.over_sampling import RandomOverSampler\n",
    "from imblearn.under_sampling import RandomUnderSampler\n",
    "from imblearn.combine import SMOTEENN\n",
    "from sklearn.model_selection import RandomizedSearchCV\n",
    "from sklearn.model_selection import GridSearchCV\n",
    "from sklearn.metrics import classification_report\n",
    "\n",
    "\n",
    "# Needed for decision tree visualization\n",
    "import pydotplus \n",
    "from IPython.display import Image\n",
    "\n",
    "# Suppress Warnings\n",
    "import warnings\n",
    "from sklearn.exceptions import DataConversionWarning\n",
    "\n",
    "warnings.filterwarnings(\"ignore\", category=DataConversionWarning)"
   ]
  },
  {
   "cell_type": "markdown",
   "metadata": {},
   "source": [
    "# Prepare the Data"
   ]
  },
  {
   "cell_type": "code",
   "execution_count": 196,
   "metadata": {},
   "outputs": [
    {
     "data": {
      "text/html": [
       "<div>\n",
       "<style scoped>\n",
       "    .dataframe tbody tr th:only-of-type {\n",
       "        vertical-align: middle;\n",
       "    }\n",
       "\n",
       "    .dataframe tbody tr th {\n",
       "        vertical-align: top;\n",
       "    }\n",
       "\n",
       "    .dataframe thead th {\n",
       "        text-align: right;\n",
       "    }\n",
       "</style>\n",
       "<table border=\"1\" class=\"dataframe\">\n",
       "  <thead>\n",
       "    <tr style=\"text-align: right;\">\n",
       "      <th></th>\n",
       "      <th>job_title</th>\n",
       "      <th>experience_level</th>\n",
       "      <th>employment_type</th>\n",
       "      <th>work_models</th>\n",
       "      <th>work_year</th>\n",
       "      <th>employee_residence</th>\n",
       "      <th>salary</th>\n",
       "      <th>salary_currency</th>\n",
       "      <th>salary_in_usd</th>\n",
       "      <th>company_location</th>\n",
       "      <th>company_size</th>\n",
       "    </tr>\n",
       "  </thead>\n",
       "  <tbody>\n",
       "    <tr>\n",
       "      <th>0</th>\n",
       "      <td>Data Engineer</td>\n",
       "      <td>Mid-level</td>\n",
       "      <td>Full-time</td>\n",
       "      <td>Remote</td>\n",
       "      <td>2024</td>\n",
       "      <td>United States</td>\n",
       "      <td>148100</td>\n",
       "      <td>USD</td>\n",
       "      <td>148100</td>\n",
       "      <td>United States</td>\n",
       "      <td>Medium</td>\n",
       "    </tr>\n",
       "    <tr>\n",
       "      <th>1</th>\n",
       "      <td>Data Engineer</td>\n",
       "      <td>Mid-level</td>\n",
       "      <td>Full-time</td>\n",
       "      <td>Remote</td>\n",
       "      <td>2024</td>\n",
       "      <td>United States</td>\n",
       "      <td>98700</td>\n",
       "      <td>USD</td>\n",
       "      <td>98700</td>\n",
       "      <td>United States</td>\n",
       "      <td>Medium</td>\n",
       "    </tr>\n",
       "    <tr>\n",
       "      <th>2</th>\n",
       "      <td>Data Scientist</td>\n",
       "      <td>Senior-level</td>\n",
       "      <td>Full-time</td>\n",
       "      <td>Remote</td>\n",
       "      <td>2024</td>\n",
       "      <td>United States</td>\n",
       "      <td>140032</td>\n",
       "      <td>USD</td>\n",
       "      <td>140032</td>\n",
       "      <td>United States</td>\n",
       "      <td>Medium</td>\n",
       "    </tr>\n",
       "    <tr>\n",
       "      <th>3</th>\n",
       "      <td>Data Scientist</td>\n",
       "      <td>Senior-level</td>\n",
       "      <td>Full-time</td>\n",
       "      <td>Remote</td>\n",
       "      <td>2024</td>\n",
       "      <td>United States</td>\n",
       "      <td>100022</td>\n",
       "      <td>USD</td>\n",
       "      <td>100022</td>\n",
       "      <td>United States</td>\n",
       "      <td>Medium</td>\n",
       "    </tr>\n",
       "    <tr>\n",
       "      <th>4</th>\n",
       "      <td>BI Developer</td>\n",
       "      <td>Mid-level</td>\n",
       "      <td>Full-time</td>\n",
       "      <td>On-site</td>\n",
       "      <td>2024</td>\n",
       "      <td>United States</td>\n",
       "      <td>120000</td>\n",
       "      <td>USD</td>\n",
       "      <td>120000</td>\n",
       "      <td>United States</td>\n",
       "      <td>Medium</td>\n",
       "    </tr>\n",
       "  </tbody>\n",
       "</table>\n",
       "</div>"
      ],
      "text/plain": [
       "        job_title experience_level employment_type work_models  work_year  \\\n",
       "0   Data Engineer        Mid-level       Full-time      Remote       2024   \n",
       "1   Data Engineer        Mid-level       Full-time      Remote       2024   \n",
       "2  Data Scientist     Senior-level       Full-time      Remote       2024   \n",
       "3  Data Scientist     Senior-level       Full-time      Remote       2024   \n",
       "4    BI Developer        Mid-level       Full-time     On-site       2024   \n",
       "\n",
       "  employee_residence  salary salary_currency  salary_in_usd company_location  \\\n",
       "0      United States  148100             USD         148100    United States   \n",
       "1      United States   98700             USD          98700    United States   \n",
       "2      United States  140032             USD         140032    United States   \n",
       "3      United States  100022             USD         100022    United States   \n",
       "4      United States  120000             USD         120000    United States   \n",
       "\n",
       "  company_size  \n",
       "0       Medium  \n",
       "1       Medium  \n",
       "2       Medium  \n",
       "3       Medium  \n",
       "4       Medium  "
      ]
     },
     "execution_count": 196,
     "metadata": {},
     "output_type": "execute_result"
    }
   ],
   "source": [
    "# Import the data:\n",
    "file_location = \"./resources/data_science_salaries.csv\"\n",
    "file_path = Path(file_location)\n",
    "\n",
    "salary_df = pd.read_csv(file_path)\n",
    "# Display the DataFrame:\n",
    "salary_df.head()"
   ]
  },
  {
   "cell_type": "code",
   "execution_count": 197,
   "metadata": {},
   "outputs": [
    {
     "data": {
      "text/plain": [
       "<module 'matplotlib.pyplot' from '/Users/tlockhart/anaconda3/envs/dev/lib/python3.10/site-packages/matplotlib/pyplot.py'>"
      ]
     },
     "execution_count": 197,
     "metadata": {},
     "output_type": "execute_result"
    },
    {
     "data": {
      "image/png": "[encoded data removed]",
      "text/plain": [
       "<Figure size 1500x1000 with 16 Axes>"
      ]
     },
     "metadata": {},
     "output_type": "display_data"
    }
   ],
   "source": [
    "# Graph Feature Dat:\n",
    "import matplotlib.pyplot as plt\n",
    "import seaborn as sns\n",
    "\n",
    "# Plot histograms for each feature in X\n",
    "X = salary_df.select_dtypes(include=['float64', 'int64'])  # Select numerical features\n",
    "X.hist(bins=20, figsize=(15, 10), layout=(4, 4), color='blue', alpha=0.7)\n",
    "plt.suptitle('Distribution of Features in X', fontsize=16)\n",
    "plt.tight_layout(rect=[0, 0, 1, 0.95])\n",
    "plt"
   ]
  },
  {
   "cell_type": "code",
   "execution_count": 198,
   "metadata": {},
   "outputs": [
    {
     "data": {
      "image/png": "[encoded data removed]",
      "text/plain": [
       "<Figure size 640x480 with 1 Axes>"
      ]
     },
     "metadata": {},
     "output_type": "display_data"
    }
   ],
   "source": [
    "# Choose a specific column from X or y\n",
    "feature_to_plot = X.iloc[:, 2]  # Replace with specific feature column if needed\n",
    "\n",
    "# Plot the histogram with KDE\n",
    "sns.histplot(feature_to_plot, kde=True, stat=\"density\", color=\"blue\", bins=30)\n",
    "# Overlay a normal distribution\n",
    "mean, std = feature_to_plot.mean(), feature_to_plot.std()\n",
    "xmin, xmax = plt.xlim()\n",
    "x = np.linspace(xmin, xmax, 100)\n",
    "p = norm.pdf(x, mean, std)\n",
    "plt.plot(x, p, 'r', linewidth=2)\n",
    "plt.title('Feature Distribution with Normal Curve')\n",
    "plt.show()"
   ]
  },
  {
   "cell_type": "code",
   "execution_count": 199,
   "metadata": {},
   "outputs": [
    {
     "name": "stdout",
     "output_type": "stream",
     "text": [
      "68% range: (74619.09627855755, 216502.0208604029)\n"
     ]
    }
   ],
   "source": [
    "# Data Partitioning: Attempt 1 of 2: Calculate the average range based on the 68% of the Empirical rule\n",
    "mean_salary = np.mean(feature_to_plot)\n",
    "std_salary = np.std(feature_to_plot)\n",
    "\n",
    "lower_bound = mean_salary - std_salary\n",
    "upper_bound = mean_salary + std_salary\n",
    "\n",
    "print(f\"68% range: ({lower_bound}, {upper_bound})\")"
   ]
  },
  {
   "cell_type": "code",
   "execution_count": 200,
   "metadata": {},
   "outputs": [
    {
     "data": {
      "image/png": "[encoded data removed]",
      "text/plain": [
       "<Figure size 800x500 with 1 Axes>"
      ]
     },
     "metadata": {},
     "output_type": "display_data"
    },
    {
     "name": "stdout",
     "output_type": "stream",
     "text": [
      "Top 2 most frequent salary ranges: [(88500.0, 125250.0), (125250.0, 162000.0)]\n"
     ]
    }
   ],
   "source": [
    "# Data Partitionaing: Attempt 2 of 2: Using the two highest bars as the average\n",
    "counts, bin_edges = np.histogram(feature_to_plot, bins=20)  # Adjust bins as needed\n",
    "\n",
    "# Find indices of the two highest bins\n",
    "top_2_indices = np.argsort(counts)[-2:]  # Get the two highest bins\n",
    "\n",
    "# Get the corresponding salary ranges\n",
    "top_2_ranges = [(bin_edges[i], bin_edges[i+1]) for i in top_2_indices]\n",
    "\n",
    "# Plot the histogram\n",
    "plt.figure(figsize=(8, 5))\n",
    "sns.histplot(feature_to_plot, bins=20, kde=True, color=\"blue\", alpha=0.5)\n",
    "\n",
    "# Highlight the two highest bars\n",
    "for low, high in top_2_ranges:\n",
    "    plt.axvspan(low, high, color=\"red\", alpha=0.3)  # Highlight range\n",
    "\n",
    "plt.xlabel(\"Salary (USD)\")\n",
    "plt.ylabel(\"Density\")\n",
    "plt.title(\"Histogram with Top 2 Salary Ranges Highlighted\")\n",
    "plt.show()\n",
    "\n",
    "# Print the identified ranges\n",
    "print(f\"Top 2 most frequent salary ranges: {top_2_ranges}\")"
   ]
  },
  {
   "cell_type": "code",
   "execution_count": null,
   "metadata": {},
   "outputs": [
    {
     "data": {
      "text/plain": [
       "0            Low\n",
       "1            Low\n",
       "2            Low\n",
       "3            Low\n",
       "4            Low\n",
       "          ...   \n",
       "6594    Very Low\n",
       "6595    Very Low\n",
       "6596         Low\n",
       "6597         Low\n",
       "6598         Low\n",
       "Name: salary_in_usd, Length: 6599, dtype: category\n",
       "Categories (4, object): ['Very Low' < 'Low' < 'Average' < 'High']"
      ]
     },
     "metadata": {},
     "output_type": "display_data"
    }
   ],
   "source": [
    "# Binning Employee Salary (y):\n",
    "\n",
    "# Visual observation of the range of the Highest two bars\n",
    "bins = [1500, 50000, 156000, 176000, 750000]\n",
    "\n",
    "# Statical calculation of the range for the Highest two bars\n",
    "# bins = [1500, 50000, 8500, 162000, 750000]\n",
    "\n",
    "\n",
    "# PDCUT: Binning\n",
    "# salary_df[\"Employee Salary\"], bin_edges = pd.qcut(salary_df[\"salary_in_usd\"], q=4, labels=False, retbins=True)\n",
    "\n",
    "# Create labels for these bins\n",
    "group_names = [\"Very Low\", \"Low\", \"Average\", \"High\"]\n",
    "\n",
    "salary_data = X[\"salary_in_usd\"]\n",
    "# Slice the data and place it into bins\n",
    "binned_data = pd.cut(salary_data, bins, labels=group_names, include_lowest=True)\n",
    "display(binned_data)\n",
    "salary_binned = pd.DataFrame()\n",
    "\n",
    "# Place the data series into Employee Salary DataFrame\n",
    "salary_binned[\"Employee Salary\"] = binned_data"
   ]
  },
  {
   "cell_type": "code",
   "execution_count": 202,
   "metadata": {},
   "outputs": [
    {
     "name": "stdout",
     "output_type": "stream",
     "text": [
      "            Employee Count  Average Salary\n",
      "Salary Bin                                \n",
      "Very Low               494    41010.093117\n",
      "Low                   3357   107939.917188\n",
      "Average                835   163510.844311\n",
      "High                  1913   230741.914794\n"
     ]
    }
   ],
   "source": [
    "# Create DataFrame with binned categories and original salaries\n",
    "salary_and_bin = pd.DataFrame({\"Employee Salary\": salary_data, \"Salary Bin\": binned_data})\n",
    "\n",
    "\n",
    "# Compute count and mean for each bin\n",
    "salary_stats = salary_and_bin.groupby(\"Salary Bin\", observed=False)[\"Employee Salary\"].agg(['count', 'mean'])\n",
    "# Rename columns for clarity\n",
    "salary_stats.columns = [\"Employee Count\", \"Average Salary\"]\n",
    "\n",
    "# Display as a table\n",
    "print(salary_stats)"
   ]
  },
  {
   "cell_type": "code",
   "execution_count": 203,
   "metadata": {},
   "outputs": [
    {
     "name": "stdout",
     "output_type": "stream",
     "text": [
      "<class 'pandas.core.frame.DataFrame'>\n",
      "RangeIndex: 6599 entries, 0 to 6598\n",
      "Data columns (total 7 columns):\n",
      " #   Column              Non-Null Count  Dtype \n",
      "---  ------              --------------  ----- \n",
      " 0   job_title           6599 non-null   object\n",
      " 1   experience_level    6599 non-null   object\n",
      " 2   employment_type     6599 non-null   object\n",
      " 3   work_models         6599 non-null   object\n",
      " 4   employee_residence  6599 non-null   object\n",
      " 5   company_location    6599 non-null   object\n",
      " 6   company_size        6599 non-null   object\n",
      "dtypes: object(7)\n",
      "memory usage: 361.0+ KB\n"
     ]
    },
    {
     "data": {
      "text/plain": [
       "'Info:'"
      ]
     },
     "metadata": {},
     "output_type": "display_data"
    },
    {
     "data": {
      "text/plain": [
       "None"
      ]
     },
     "metadata": {},
     "output_type": "display_data"
    },
    {
     "data": {
      "text/plain": [
       "'Salary:'"
      ]
     },
     "metadata": {},
     "output_type": "display_data"
    },
    {
     "data": {
      "text/html": [
       "<div>\n",
       "<style scoped>\n",
       "    .dataframe tbody tr th:only-of-type {\n",
       "        vertical-align: middle;\n",
       "    }\n",
       "\n",
       "    .dataframe tbody tr th {\n",
       "        vertical-align: top;\n",
       "    }\n",
       "\n",
       "    .dataframe thead th {\n",
       "        text-align: right;\n",
       "    }\n",
       "</style>\n",
       "<table border=\"1\" class=\"dataframe\">\n",
       "  <thead>\n",
       "    <tr style=\"text-align: right;\">\n",
       "      <th></th>\n",
       "      <th>job_title</th>\n",
       "      <th>experience_level</th>\n",
       "      <th>employment_type</th>\n",
       "      <th>work_models</th>\n",
       "      <th>employee_residence</th>\n",
       "      <th>company_location</th>\n",
       "      <th>company_size</th>\n",
       "    </tr>\n",
       "  </thead>\n",
       "  <tbody>\n",
       "    <tr>\n",
       "      <th>0</th>\n",
       "      <td>Data Engineer</td>\n",
       "      <td>Mid-level</td>\n",
       "      <td>Full-time</td>\n",
       "      <td>Remote</td>\n",
       "      <td>United States</td>\n",
       "      <td>United States</td>\n",
       "      <td>Medium</td>\n",
       "    </tr>\n",
       "    <tr>\n",
       "      <th>1</th>\n",
       "      <td>Data Engineer</td>\n",
       "      <td>Mid-level</td>\n",
       "      <td>Full-time</td>\n",
       "      <td>Remote</td>\n",
       "      <td>United States</td>\n",
       "      <td>United States</td>\n",
       "      <td>Medium</td>\n",
       "    </tr>\n",
       "    <tr>\n",
       "      <th>2</th>\n",
       "      <td>Data Scientist</td>\n",
       "      <td>Senior-level</td>\n",
       "      <td>Full-time</td>\n",
       "      <td>Remote</td>\n",
       "      <td>United States</td>\n",
       "      <td>United States</td>\n",
       "      <td>Medium</td>\n",
       "    </tr>\n",
       "    <tr>\n",
       "      <th>3</th>\n",
       "      <td>Data Scientist</td>\n",
       "      <td>Senior-level</td>\n",
       "      <td>Full-time</td>\n",
       "      <td>Remote</td>\n",
       "      <td>United States</td>\n",
       "      <td>United States</td>\n",
       "      <td>Medium</td>\n",
       "    </tr>\n",
       "    <tr>\n",
       "      <th>4</th>\n",
       "      <td>BI Developer</td>\n",
       "      <td>Mid-level</td>\n",
       "      <td>Full-time</td>\n",
       "      <td>On-site</td>\n",
       "      <td>United States</td>\n",
       "      <td>United States</td>\n",
       "      <td>Medium</td>\n",
       "    </tr>\n",
       "  </tbody>\n",
       "</table>\n",
       "</div>"
      ],
      "text/plain": [
       "        job_title experience_level employment_type work_models  \\\n",
       "0   Data Engineer        Mid-level       Full-time      Remote   \n",
       "1   Data Engineer        Mid-level       Full-time      Remote   \n",
       "2  Data Scientist     Senior-level       Full-time      Remote   \n",
       "3  Data Scientist     Senior-level       Full-time      Remote   \n",
       "4    BI Developer        Mid-level       Full-time     On-site   \n",
       "\n",
       "  employee_residence company_location company_size  \n",
       "0      United States    United States       Medium  \n",
       "1      United States    United States       Medium  \n",
       "2      United States    United States       Medium  \n",
       "3      United States    United States       Medium  \n",
       "4      United States    United States       Medium  "
      ]
     },
     "metadata": {},
     "output_type": "display_data"
    },
    {
     "data": {
      "text/plain": [
       "'value_counts:'"
      ]
     },
     "metadata": {},
     "output_type": "display_data"
    },
    {
     "data": {
      "text/plain": [
       "work_models\n",
       "On-site    3813\n",
       "Remote     2561\n",
       "Hybrid      225\n",
       "Name: count, dtype: int64"
      ]
     },
     "metadata": {},
     "output_type": "display_data"
    }
   ],
   "source": [
    "# Load X dataset:\n",
    "# Drop collinear data:\n",
    "X = salary_df.copy()\n",
    "X = X.drop(columns=[\"salary\", \"salary_currency\", \"salary_in_usd\", \"work_year\"], axis=1)\n",
    "\n",
    "display(\"Info:\", X.info())\n",
    "display(\"Salary:\", X.head())\n",
    "display(\"value_counts:\", X[\"work_models\"].value_counts())\n",
    "\n",
    "# Get Nominal Column Names Only\n",
    "nominal_features = X.select_dtypes(include=\"object\").columns"
   ]
  },
  {
   "cell_type": "code",
   "execution_count": 204,
   "metadata": {},
   "outputs": [
    {
     "data": {
      "text/plain": [
       "'X shape:'"
      ]
     },
     "metadata": {},
     "output_type": "display_data"
    },
    {
     "data": {
      "text/plain": [
       "6599"
      ]
     },
     "metadata": {},
     "output_type": "display_data"
    },
    {
     "data": {
      "text/plain": [
       "'y'"
      ]
     },
     "metadata": {},
     "output_type": "display_data"
    },
    {
     "data": {
      "text/plain": [
       "0            Low\n",
       "1            Low\n",
       "2            Low\n",
       "3            Low\n",
       "4            Low\n",
       "          ...   \n",
       "6594    Very Low\n",
       "6595    Very Low\n",
       "6596         Low\n",
       "6597         Low\n",
       "6598         Low\n",
       "Name: salary_in_usd, Length: 6599, dtype: category\n",
       "Categories (4, object): ['Very Low' < 'Low' < 'Average' < 'High']"
      ]
     },
     "metadata": {},
     "output_type": "display_data"
    },
    {
     "name": "stdout",
     "output_type": "stream",
     "text": [
      "<class 'pandas.core.series.Series'>\n",
      "RangeIndex: 6599 entries, 0 to 6598\n",
      "Series name: salary_in_usd\n",
      "Non-Null Count  Dtype   \n",
      "--------------  -----   \n",
      "6599 non-null   category\n",
      "dtypes: category(1)\n",
      "memory usage: 6.8 KB\n"
     ]
    },
    {
     "data": {
      "text/plain": [
       "'y'"
      ]
     },
     "metadata": {},
     "output_type": "display_data"
    },
    {
     "data": {
      "text/plain": [
       "None"
      ]
     },
     "metadata": {},
     "output_type": "display_data"
    },
    {
     "data": {
      "text/plain": [
       "'Y shape:'"
      ]
     },
     "metadata": {},
     "output_type": "display_data"
    },
    {
     "data": {
      "text/plain": [
       "(6599,)"
      ]
     },
     "metadata": {},
     "output_type": "display_data"
    },
    {
     "data": {
      "text/plain": [
       "count     6599\n",
       "unique       4\n",
       "top        Low\n",
       "freq      3357\n",
       "Name: salary_in_usd, dtype: object"
      ]
     },
     "metadata": {},
     "output_type": "display_data"
    }
   ],
   "source": [
    "# Load Y dataset:\n",
    "# y = binned_data\n",
    "y = binned_data\n",
    "display(\"X shape:\", X.shape[0])\n",
    "display(\"y\", y)\n",
    "display(\"y\", y.info())\n",
    "display(\"Y shape:\", y.shape)\n",
    "display(y.describe())"
   ]
  },
  {
   "cell_type": "code",
   "execution_count": 205,
   "metadata": {},
   "outputs": [
    {
     "data": {
      "text/plain": [
       "'xTrain:'"
      ]
     },
     "metadata": {},
     "output_type": "display_data"
    },
    {
     "data": {
      "text/html": [
       "<div>\n",
       "<style scoped>\n",
       "    .dataframe tbody tr th:only-of-type {\n",
       "        vertical-align: middle;\n",
       "    }\n",
       "\n",
       "    .dataframe tbody tr th {\n",
       "        vertical-align: top;\n",
       "    }\n",
       "\n",
       "    .dataframe thead th {\n",
       "        text-align: right;\n",
       "    }\n",
       "</style>\n",
       "<table border=\"1\" class=\"dataframe\">\n",
       "  <thead>\n",
       "    <tr style=\"text-align: right;\">\n",
       "      <th></th>\n",
       "      <th>job_title_AI Developer</th>\n",
       "      <th>job_title_AI Engineer</th>\n",
       "      <th>job_title_AI Product Manager</th>\n",
       "      <th>job_title_AI Programmer</th>\n",
       "      <th>job_title_AI Research Engineer</th>\n",
       "      <th>job_title_AI Scientist</th>\n",
       "      <th>job_title_AWS Data Architect</th>\n",
       "      <th>job_title_Analytics Engineer</th>\n",
       "      <th>job_title_Analytics Engineering Manager</th>\n",
       "      <th>job_title_Applied Data Scientist</th>\n",
       "      <th>...</th>\n",
       "      <th>company_location_Switzerland</th>\n",
       "      <th>company_location_Thailand</th>\n",
       "      <th>company_location_Turkey</th>\n",
       "      <th>company_location_Ukraine</th>\n",
       "      <th>company_location_United Arab Emirates</th>\n",
       "      <th>company_location_United Kingdom</th>\n",
       "      <th>company_location_United States</th>\n",
       "      <th>company_location_Vietnam</th>\n",
       "      <th>company_size_Medium</th>\n",
       "      <th>company_size_Small</th>\n",
       "    </tr>\n",
       "  </thead>\n",
       "  <tbody>\n",
       "    <tr>\n",
       "      <th>477</th>\n",
       "      <td>0</td>\n",
       "      <td>0</td>\n",
       "      <td>0</td>\n",
       "      <td>0</td>\n",
       "      <td>0</td>\n",
       "      <td>0</td>\n",
       "      <td>0</td>\n",
       "      <td>0</td>\n",
       "      <td>0</td>\n",
       "      <td>0</td>\n",
       "      <td>...</td>\n",
       "      <td>0</td>\n",
       "      <td>0</td>\n",
       "      <td>0</td>\n",
       "      <td>0</td>\n",
       "      <td>0</td>\n",
       "      <td>0</td>\n",
       "      <td>1</td>\n",
       "      <td>0</td>\n",
       "      <td>1</td>\n",
       "      <td>0</td>\n",
       "    </tr>\n",
       "    <tr>\n",
       "      <th>1989</th>\n",
       "      <td>0</td>\n",
       "      <td>0</td>\n",
       "      <td>0</td>\n",
       "      <td>0</td>\n",
       "      <td>0</td>\n",
       "      <td>0</td>\n",
       "      <td>0</td>\n",
       "      <td>0</td>\n",
       "      <td>0</td>\n",
       "      <td>0</td>\n",
       "      <td>...</td>\n",
       "      <td>0</td>\n",
       "      <td>0</td>\n",
       "      <td>0</td>\n",
       "      <td>0</td>\n",
       "      <td>0</td>\n",
       "      <td>0</td>\n",
       "      <td>1</td>\n",
       "      <td>0</td>\n",
       "      <td>1</td>\n",
       "      <td>0</td>\n",
       "    </tr>\n",
       "    <tr>\n",
       "      <th>711</th>\n",
       "      <td>0</td>\n",
       "      <td>0</td>\n",
       "      <td>0</td>\n",
       "      <td>0</td>\n",
       "      <td>0</td>\n",
       "      <td>0</td>\n",
       "      <td>0</td>\n",
       "      <td>0</td>\n",
       "      <td>0</td>\n",
       "      <td>0</td>\n",
       "      <td>...</td>\n",
       "      <td>0</td>\n",
       "      <td>0</td>\n",
       "      <td>0</td>\n",
       "      <td>0</td>\n",
       "      <td>0</td>\n",
       "      <td>0</td>\n",
       "      <td>1</td>\n",
       "      <td>0</td>\n",
       "      <td>1</td>\n",
       "      <td>0</td>\n",
       "    </tr>\n",
       "    <tr>\n",
       "      <th>3234</th>\n",
       "      <td>0</td>\n",
       "      <td>0</td>\n",
       "      <td>0</td>\n",
       "      <td>0</td>\n",
       "      <td>0</td>\n",
       "      <td>0</td>\n",
       "      <td>0</td>\n",
       "      <td>0</td>\n",
       "      <td>0</td>\n",
       "      <td>0</td>\n",
       "      <td>...</td>\n",
       "      <td>0</td>\n",
       "      <td>0</td>\n",
       "      <td>0</td>\n",
       "      <td>0</td>\n",
       "      <td>0</td>\n",
       "      <td>0</td>\n",
       "      <td>1</td>\n",
       "      <td>0</td>\n",
       "      <td>1</td>\n",
       "      <td>0</td>\n",
       "    </tr>\n",
       "    <tr>\n",
       "      <th>2857</th>\n",
       "      <td>0</td>\n",
       "      <td>0</td>\n",
       "      <td>0</td>\n",
       "      <td>0</td>\n",
       "      <td>0</td>\n",
       "      <td>0</td>\n",
       "      <td>0</td>\n",
       "      <td>0</td>\n",
       "      <td>0</td>\n",
       "      <td>0</td>\n",
       "      <td>...</td>\n",
       "      <td>0</td>\n",
       "      <td>0</td>\n",
       "      <td>0</td>\n",
       "      <td>0</td>\n",
       "      <td>0</td>\n",
       "      <td>0</td>\n",
       "      <td>1</td>\n",
       "      <td>0</td>\n",
       "      <td>1</td>\n",
       "      <td>0</td>\n",
       "    </tr>\n",
       "    <tr>\n",
       "      <th>...</th>\n",
       "      <td>...</td>\n",
       "      <td>...</td>\n",
       "      <td>...</td>\n",
       "      <td>...</td>\n",
       "      <td>...</td>\n",
       "      <td>...</td>\n",
       "      <td>...</td>\n",
       "      <td>...</td>\n",
       "      <td>...</td>\n",
       "      <td>...</td>\n",
       "      <td>...</td>\n",
       "      <td>...</td>\n",
       "      <td>...</td>\n",
       "      <td>...</td>\n",
       "      <td>...</td>\n",
       "      <td>...</td>\n",
       "      <td>...</td>\n",
       "      <td>...</td>\n",
       "      <td>...</td>\n",
       "      <td>...</td>\n",
       "      <td>...</td>\n",
       "    </tr>\n",
       "    <tr>\n",
       "      <th>905</th>\n",
       "      <td>0</td>\n",
       "      <td>0</td>\n",
       "      <td>0</td>\n",
       "      <td>0</td>\n",
       "      <td>0</td>\n",
       "      <td>0</td>\n",
       "      <td>0</td>\n",
       "      <td>0</td>\n",
       "      <td>0</td>\n",
       "      <td>0</td>\n",
       "      <td>...</td>\n",
       "      <td>0</td>\n",
       "      <td>0</td>\n",
       "      <td>0</td>\n",
       "      <td>0</td>\n",
       "      <td>0</td>\n",
       "      <td>0</td>\n",
       "      <td>1</td>\n",
       "      <td>0</td>\n",
       "      <td>1</td>\n",
       "      <td>0</td>\n",
       "    </tr>\n",
       "    <tr>\n",
       "      <th>5192</th>\n",
       "      <td>0</td>\n",
       "      <td>0</td>\n",
       "      <td>0</td>\n",
       "      <td>0</td>\n",
       "      <td>0</td>\n",
       "      <td>0</td>\n",
       "      <td>0</td>\n",
       "      <td>0</td>\n",
       "      <td>0</td>\n",
       "      <td>0</td>\n",
       "      <td>...</td>\n",
       "      <td>0</td>\n",
       "      <td>0</td>\n",
       "      <td>0</td>\n",
       "      <td>0</td>\n",
       "      <td>0</td>\n",
       "      <td>0</td>\n",
       "      <td>0</td>\n",
       "      <td>0</td>\n",
       "      <td>1</td>\n",
       "      <td>0</td>\n",
       "    </tr>\n",
       "    <tr>\n",
       "      <th>3980</th>\n",
       "      <td>0</td>\n",
       "      <td>0</td>\n",
       "      <td>0</td>\n",
       "      <td>0</td>\n",
       "      <td>0</td>\n",
       "      <td>0</td>\n",
       "      <td>0</td>\n",
       "      <td>0</td>\n",
       "      <td>0</td>\n",
       "      <td>0</td>\n",
       "      <td>...</td>\n",
       "      <td>0</td>\n",
       "      <td>0</td>\n",
       "      <td>0</td>\n",
       "      <td>0</td>\n",
       "      <td>0</td>\n",
       "      <td>0</td>\n",
       "      <td>1</td>\n",
       "      <td>0</td>\n",
       "      <td>1</td>\n",
       "      <td>0</td>\n",
       "    </tr>\n",
       "    <tr>\n",
       "      <th>235</th>\n",
       "      <td>0</td>\n",
       "      <td>0</td>\n",
       "      <td>0</td>\n",
       "      <td>0</td>\n",
       "      <td>0</td>\n",
       "      <td>0</td>\n",
       "      <td>0</td>\n",
       "      <td>0</td>\n",
       "      <td>0</td>\n",
       "      <td>0</td>\n",
       "      <td>...</td>\n",
       "      <td>0</td>\n",
       "      <td>0</td>\n",
       "      <td>0</td>\n",
       "      <td>0</td>\n",
       "      <td>0</td>\n",
       "      <td>0</td>\n",
       "      <td>1</td>\n",
       "      <td>0</td>\n",
       "      <td>1</td>\n",
       "      <td>0</td>\n",
       "    </tr>\n",
       "    <tr>\n",
       "      <th>5157</th>\n",
       "      <td>0</td>\n",
       "      <td>0</td>\n",
       "      <td>0</td>\n",
       "      <td>0</td>\n",
       "      <td>0</td>\n",
       "      <td>0</td>\n",
       "      <td>0</td>\n",
       "      <td>0</td>\n",
       "      <td>0</td>\n",
       "      <td>0</td>\n",
       "      <td>...</td>\n",
       "      <td>0</td>\n",
       "      <td>0</td>\n",
       "      <td>0</td>\n",
       "      <td>0</td>\n",
       "      <td>0</td>\n",
       "      <td>0</td>\n",
       "      <td>0</td>\n",
       "      <td>0</td>\n",
       "      <td>1</td>\n",
       "      <td>0</td>\n",
       "    </tr>\n",
       "  </tbody>\n",
       "</table>\n",
       "<p>4949 rows × 301 columns</p>\n",
       "</div>"
      ],
      "text/plain": [
       "      job_title_AI Developer  job_title_AI Engineer  \\\n",
       "477                        0                      0   \n",
       "1989                       0                      0   \n",
       "711                        0                      0   \n",
       "3234                       0                      0   \n",
       "2857                       0                      0   \n",
       "...                      ...                    ...   \n",
       "905                        0                      0   \n",
       "5192                       0                      0   \n",
       "3980                       0                      0   \n",
       "235                        0                      0   \n",
       "5157                       0                      0   \n",
       "\n",
       "      job_title_AI Product Manager  job_title_AI Programmer  \\\n",
       "477                              0                        0   \n",
       "1989                             0                        0   \n",
       "711                              0                        0   \n",
       "3234                             0                        0   \n",
       "2857                             0                        0   \n",
       "...                            ...                      ...   \n",
       "905                              0                        0   \n",
       "5192                             0                        0   \n",
       "3980                             0                        0   \n",
       "235                              0                        0   \n",
       "5157                             0                        0   \n",
       "\n",
       "      job_title_AI Research Engineer  job_title_AI Scientist  \\\n",
       "477                                0                       0   \n",
       "1989                               0                       0   \n",
       "711                                0                       0   \n",
       "3234                               0                       0   \n",
       "2857                               0                       0   \n",
       "...                              ...                     ...   \n",
       "905                                0                       0   \n",
       "5192                               0                       0   \n",
       "3980                               0                       0   \n",
       "235                                0                       0   \n",
       "5157                               0                       0   \n",
       "\n",
       "      job_title_AWS Data Architect  job_title_Analytics Engineer  \\\n",
       "477                              0                             0   \n",
       "1989                             0                             0   \n",
       "711                              0                             0   \n",
       "3234                             0                             0   \n",
       "2857                             0                             0   \n",
       "...                            ...                           ...   \n",
       "905                              0                             0   \n",
       "5192                             0                             0   \n",
       "3980                             0                             0   \n",
       "235                              0                             0   \n",
       "5157                             0                             0   \n",
       "\n",
       "      job_title_Analytics Engineering Manager  \\\n",
       "477                                         0   \n",
       "1989                                        0   \n",
       "711                                         0   \n",
       "3234                                        0   \n",
       "2857                                        0   \n",
       "...                                       ...   \n",
       "905                                         0   \n",
       "5192                                        0   \n",
       "3980                                        0   \n",
       "235                                         0   \n",
       "5157                                        0   \n",
       "\n",
       "      job_title_Applied Data Scientist  ...  company_location_Switzerland  \\\n",
       "477                                  0  ...                             0   \n",
       "1989                                 0  ...                             0   \n",
       "711                                  0  ...                             0   \n",
       "3234                                 0  ...                             0   \n",
       "2857                                 0  ...                             0   \n",
       "...                                ...  ...                           ...   \n",
       "905                                  0  ...                             0   \n",
       "5192                                 0  ...                             0   \n",
       "3980                                 0  ...                             0   \n",
       "235                                  0  ...                             0   \n",
       "5157                                 0  ...                             0   \n",
       "\n",
       "      company_location_Thailand  company_location_Turkey  \\\n",
       "477                           0                        0   \n",
       "1989                          0                        0   \n",
       "711                           0                        0   \n",
       "3234                          0                        0   \n",
       "2857                          0                        0   \n",
       "...                         ...                      ...   \n",
       "905                           0                        0   \n",
       "5192                          0                        0   \n",
       "3980                          0                        0   \n",
       "235                           0                        0   \n",
       "5157                          0                        0   \n",
       "\n",
       "      company_location_Ukraine  company_location_United Arab Emirates  \\\n",
       "477                          0                                      0   \n",
       "1989                         0                                      0   \n",
       "711                          0                                      0   \n",
       "3234                         0                                      0   \n",
       "2857                         0                                      0   \n",
       "...                        ...                                    ...   \n",
       "905                          0                                      0   \n",
       "5192                         0                                      0   \n",
       "3980                         0                                      0   \n",
       "235                          0                                      0   \n",
       "5157                         0                                      0   \n",
       "\n",
       "      company_location_United Kingdom  company_location_United States  \\\n",
       "477                                 0                               1   \n",
       "1989                                0                               1   \n",
       "711                                 0                               1   \n",
       "3234                                0                               1   \n",
       "2857                                0                               1   \n",
       "...                               ...                             ...   \n",
       "905                                 0                               1   \n",
       "5192                                0                               0   \n",
       "3980                                0                               1   \n",
       "235                                 0                               1   \n",
       "5157                                0                               0   \n",
       "\n",
       "      company_location_Vietnam  company_size_Medium  company_size_Small  \n",
       "477                          0                    1                   0  \n",
       "1989                         0                    1                   0  \n",
       "711                          0                    1                   0  \n",
       "3234                         0                    1                   0  \n",
       "2857                         0                    1                   0  \n",
       "...                        ...                  ...                 ...  \n",
       "905                          0                    1                   0  \n",
       "5192                         0                    1                   0  \n",
       "3980                         0                    1                   0  \n",
       "235                          0                    1                   0  \n",
       "5157                         0                    1                   0  \n",
       "\n",
       "[4949 rows x 301 columns]"
      ]
     },
     "metadata": {},
     "output_type": "display_data"
    },
    {
     "data": {
      "text/plain": [
       "'yTrain:'"
      ]
     },
     "metadata": {},
     "output_type": "display_data"
    },
    {
     "data": {
      "text/plain": [
       "array([[1],\n",
       "       [1],\n",
       "       [2],\n",
       "       ...,\n",
       "       [0],\n",
       "       [1],\n",
       "       [1]])"
      ]
     },
     "metadata": {},
     "output_type": "display_data"
    }
   ],
   "source": [
    "# Preprocessing: Convert Nominal to Ordinal Data with Get Dummies:\n",
    "\n",
    "X_encoded = pd.get_dummies(X, columns=nominal_features, drop_first=True, dtype=int)\n",
    "# y_encoded = pd.get_dummies(y, drop_first=True, dtype=int)\n",
    "le = LabelEncoder()\n",
    "# One column only (reshape)\n",
    "y_encoded = le.fit_transform(y)\n",
    "y_encoded_1_dim = y_encoded\n",
    "# print(\"y_encoded:\", y_encoded.tolist())\n",
    "# display(\"y_encoded:\", y_encoded)\n",
    "\n",
    "y_encoded = y_encoded.reshape(-1, 1)\n",
    "X_train, X_test, y_train, y_test = train_test_split(X_encoded, y_encoded, random_state=1)\n",
    "\n",
    "display(\"xTrain:\", X_train)\n",
    "display(\"yTrain:\", y_train)"
   ]
  },
  {
   "cell_type": "code",
   "execution_count": 206,
   "metadata": {},
   "outputs": [
    {
     "name": "stdout",
     "output_type": "stream",
     "text": [
      "Score: KNN; 0.5145454545454545\n",
      "Score: SVC; 0.58\n",
      "Score: DTC; 0.566060606060606\n",
      "Score: RFC; 0.583030303030303\n"
     ]
    },
    {
     "name": "stderr",
     "output_type": "stream",
     "text": [
      "/Users/tlockhart/anaconda3/envs/dev/lib/python3.10/site-packages/sklearn/ensemble/_weight_boosting.py:527: FutureWarning: The SAMME.R algorithm (the default) is deprecated and will be removed in 1.6. Use the SAMME algorithm to circumvent this warning.\n",
      "  warnings.warn(\n"
     ]
    },
    {
     "name": "stdout",
     "output_type": "stream",
     "text": [
      "Score: ABC; 0.593939393939394\n"
     ]
    }
   ],
   "source": [
    "# Baseline Pipelineg Model Fitting:\n",
    "# pipe = Pipeline([(\"Scale\", StandardScaler()), (\"LR\", LinearRegression())])\n",
    "# KNeighborsClassifier(n_neighbors=5)\n",
    "\n",
    "models = {\n",
    "    \"KNN\": KNeighborsClassifier(n_neighbors=5),\n",
    "    \"SVC\": SVC(kernel='linear'),\n",
    "    \"DTC\": DecisionTreeClassifier(max_depth=5),\n",
    "    \"RFC\": RandomForestClassifier(),\n",
    "    \"ABC\": AdaBoostClassifier()\n",
    "}\n",
    "\n",
    "for name, model in models.items():\n",
    "    # Use odd n_neighbors for tie breakers\n",
    "    pipe = Pipeline([(\"Scale\", StandardScaler()), (name, model)])\n",
    "                                                \n",
    "    # Q3: Why am I getting an error here?\n",
    "    pipe.fit(X_train, y_train)\n",
    "\n",
    "    # Pass in text\n",
    "    y_pred = pipe.predict(X_test)\n",
    "    \n",
    "    print(f'Score: {name}; {pipe.score(X_test, y_test)}')"
   ]
  },
  {
   "cell_type": "code",
   "execution_count": 207,
   "metadata": {},
   "outputs": [],
   "source": [
    "# Optimization:\n",
    "# from sklearn.model_selection import RandomizedSearchCV\n",
    "\n",
    "\n",
    "untuned_model = KNeighborsClassifier()\n",
    "grid_tuned_model = KNeighborsClassifier()\n",
    "random_tuned_model = KNeighborsClassifier()\n",
    "\n"
   ]
  },
  {
   "cell_type": "code",
   "execution_count": 208,
   "metadata": {},
   "outputs": [
    {
     "name": "stdout",
     "output_type": "stream",
     "text": [
      "              precision    recall  f1-score   support\n",
      "\n",
      "           0       0.17      0.18      0.17       207\n",
      "           1       0.46      0.60      0.53       448\n",
      "           2       0.66      0.59      0.62       873\n",
      "           3       0.72      0.39      0.51       122\n",
      "\n",
      "    accuracy                           0.53      1650\n",
      "   macro avg       0.50      0.44      0.46      1650\n",
      "weighted avg       0.55      0.53      0.53      1650\n",
      "\n"
     ]
    }
   ],
   "source": [
    "# OP Part1: Untuned Model\n",
    "untuned_model = KNeighborsClassifier()\n",
    "untuned_model.fit(X_train, y_train)\n",
    "# predicted\n",
    "predictions_untuned = untuned_model.predict(X_test)\n",
    "target_names = [\"0\", \"1\", \"2\", \"3\"]\n",
    "print(classification_report(y_test, predictions_untuned, target_names=target_names))"
   ]
  },
  {
   "cell_type": "code",
   "execution_count": 209,
   "metadata": {},
   "outputs": [],
   "source": [
    "# # NOT STOPPING: \n",
    "# # OP Part2: Create the GridSearchCV estimator \n",
    "# # Include both uniform and distance options for weights.\n",
    "# from sklearn.model_selection import GridSearchCV\n",
    "# # hypertune params\n",
    "# # every other because it takes a long time, could do all\n",
    "\n",
    "# # create dictionary with parameters\n",
    "# grid_parameters = {\n",
    "#     \"n_neighbors\": np.arange(11, 21, 2),\n",
    "#     \"leaf_size\": np.arange(1, 501),\n",
    "#     \"weights\": [\"uniform\", \"distance\"]\n",
    "# }\n",
    "\n",
    "# # Create the instance of GridSearch CV model, with parameters\n",
    "# grid_model = GridSearchCV(grid_tuned_model, grid_parameters, verbose=3)\n",
    "\n",
    "# # Fit the model by using the grid search estimator.\n",
    "# grid_model.fit(X_train, y_train)\n",
    "# # List the best parameters for this dataset\n",
    "# # what is the best leafsize, and params\n",
    "# print(grid_model.best_params_)"
   ]
  },
  {
   "cell_type": "code",
   "execution_count": 210,
   "metadata": {},
   "outputs": [
    {
     "name": "stdout",
     "output_type": "stream",
     "text": [
      "Fitting 5 folds for each of 10 candidates, totalling 50 fits\n",
      "[CV 1/5] END leaf_size=452, n_neighbors=9, weights=distance;, score=0.464 total time=   0.1s\n",
      "[CV 2/5] END leaf_size=452, n_neighbors=9, weights=distance;, score=0.518 total time=   0.1s\n",
      "[CV 3/5] END leaf_size=452, n_neighbors=9, weights=distance;, score=0.539 total time=   0.1s\n",
      "[CV 4/5] END leaf_size=452, n_neighbors=9, weights=distance;, score=0.522 total time=   0.1s\n",
      "[CV 5/5] END leaf_size=452, n_neighbors=9, weights=distance;, score=0.540 total time=   0.1s\n",
      "[CV 1/5] END leaf_size=405, n_neighbors=11, weights=distance;, score=0.500 total time=   0.1s\n",
      "[CV 2/5] END leaf_size=405, n_neighbors=11, weights=distance;, score=0.520 total time=   0.1s\n",
      "[CV 3/5] END leaf_size=405, n_neighbors=11, weights=distance;, score=0.533 total time=   0.1s\n",
      "[CV 4/5] END leaf_size=405, n_neighbors=11, weights=distance;, score=0.528 total time=   0.1s\n",
      "[CV 5/5] END leaf_size=405, n_neighbors=11, weights=distance;, score=0.543 total time=   0.1s\n",
      "[CV 1/5] END leaf_size=401, n_neighbors=17, weights=distance;, score=0.507 total time=   0.1s\n",
      "[CV 2/5] END leaf_size=401, n_neighbors=17, weights=distance;, score=0.539 total time=   0.1s\n",
      "[CV 3/5] END leaf_size=401, n_neighbors=17, weights=distance;, score=0.532 total time=   0.1s\n",
      "[CV 4/5] END leaf_size=401, n_neighbors=17, weights=distance;, score=0.535 total time=   0.1s\n",
      "[CV 5/5] END leaf_size=401, n_neighbors=17, weights=distance;, score=0.544 total time=   0.1s\n",
      "[CV 1/5] END leaf_size=60, n_neighbors=9, weights=distance;, score=0.464 total time=   0.1s\n",
      "[CV 2/5] END leaf_size=60, n_neighbors=9, weights=distance;, score=0.518 total time=   0.1s\n",
      "[CV 3/5] END leaf_size=60, n_neighbors=9, weights=distance;, score=0.539 total time=   0.1s\n",
      "[CV 4/5] END leaf_size=60, n_neighbors=9, weights=distance;, score=0.522 total time=   0.1s\n",
      "[CV 5/5] END leaf_size=60, n_neighbors=9, weights=distance;, score=0.540 total time=   0.1s\n",
      "[CV 1/5] END leaf_size=286, n_neighbors=13, weights=distance;, score=0.516 total time=   0.1s\n",
      "[CV 2/5] END leaf_size=286, n_neighbors=13, weights=distance;, score=0.531 total time=   0.1s\n",
      "[CV 3/5] END leaf_size=286, n_neighbors=13, weights=distance;, score=0.530 total time=   0.2s\n",
      "[CV 4/5] END leaf_size=286, n_neighbors=13, weights=distance;, score=0.532 total time=   0.1s\n",
      "[CV 5/5] END leaf_size=286, n_neighbors=13, weights=distance;, score=0.539 total time=   0.1s\n",
      "[CV 1/5] END leaf_size=150, n_neighbors=7, weights=uniform;, score=0.470 total time=   0.1s\n",
      "[CV 2/5] END leaf_size=150, n_neighbors=7, weights=uniform;, score=0.512 total time=   0.1s\n",
      "[CV 3/5] END leaf_size=150, n_neighbors=7, weights=uniform;, score=0.522 total time=   0.1s\n",
      "[CV 4/5] END leaf_size=150, n_neighbors=7, weights=uniform;, score=0.528 total time=   0.1s\n",
      "[CV 5/5] END leaf_size=150, n_neighbors=7, weights=uniform;, score=0.541 total time=   0.2s\n",
      "[CV 1/5] END leaf_size=153, n_neighbors=5, weights=distance;, score=0.454 total time=   0.1s\n",
      "[CV 2/5] END leaf_size=153, n_neighbors=5, weights=distance;, score=0.502 total time=   0.1s\n",
      "[CV 3/5] END leaf_size=153, n_neighbors=5, weights=distance;, score=0.500 total time=   0.1s\n",
      "[CV 4/5] END leaf_size=153, n_neighbors=5, weights=distance;, score=0.490 total time=   0.1s\n",
      "[CV 5/5] END leaf_size=153, n_neighbors=5, weights=distance;, score=0.527 total time=   0.1s\n",
      "[CV 1/5] END leaf_size=371, n_neighbors=13, weights=distance;, score=0.516 total time=   0.1s\n",
      "[CV 2/5] END leaf_size=371, n_neighbors=13, weights=distance;, score=0.531 total time=   0.1s\n",
      "[CV 3/5] END leaf_size=371, n_neighbors=13, weights=distance;, score=0.530 total time=   0.1s\n",
      "[CV 4/5] END leaf_size=371, n_neighbors=13, weights=distance;, score=0.532 total time=   0.1s\n",
      "[CV 5/5] END leaf_size=371, n_neighbors=13, weights=distance;, score=0.539 total time=   0.1s\n",
      "[CV 1/5] END leaf_size=436, n_neighbors=13, weights=uniform;, score=0.538 total time=   0.1s\n",
      "[CV 2/5] END leaf_size=436, n_neighbors=13, weights=uniform;, score=0.552 total time=   0.1s\n",
      "[CV 3/5] END leaf_size=436, n_neighbors=13, weights=uniform;, score=0.540 total time=   0.1s\n",
      "[CV 4/5] END leaf_size=436, n_neighbors=13, weights=uniform;, score=0.524 total time=   0.1s\n",
      "[CV 5/5] END leaf_size=436, n_neighbors=13, weights=uniform;, score=0.549 total time=   0.1s\n",
      "[CV 1/5] END leaf_size=96, n_neighbors=19, weights=distance;, score=0.507 total time=   0.1s\n",
      "[CV 2/5] END leaf_size=96, n_neighbors=19, weights=distance;, score=0.538 total time=   0.1s\n",
      "[CV 3/5] END leaf_size=96, n_neighbors=19, weights=distance;, score=0.530 total time=   0.1s\n",
      "[CV 4/5] END leaf_size=96, n_neighbors=19, weights=distance;, score=0.533 total time=   0.1s\n",
      "[CV 5/5] END leaf_size=96, n_neighbors=19, weights=distance;, score=0.545 total time=   0.1s\n",
      "BEST FIT: {'weights': 'uniform', 'n_neighbors': 13, 'leaf_size': 436}\n",
      "              precision    recall  f1-score   support\n",
      "\n",
      "           0       0.05      0.00      0.01       207\n",
      "           1       0.46      0.62      0.53       448\n",
      "           2       0.64      0.72      0.68       873\n",
      "           3       0.73      0.26      0.39       122\n",
      "\n",
      "    accuracy                           0.57      1650\n",
      "   macro avg       0.47      0.40      0.40      1650\n",
      "weighted avg       0.52      0.57      0.53      1650\n",
      "\n"
     ]
    }
   ],
   "source": [
    "# OP: Part 3: Create the Baseline RandomizedSearchCV estimator\n",
    "\n",
    "random_parameters = {\n",
    "    \"n_neighbors\": np.arange(5, 21, 2),\n",
    "    \"leaf_size\": np.arange(1, 501),\n",
    "    \"weights\": [\"uniform\", \"distance\"]\n",
    "}\n",
    "\n",
    "random_model = RandomizedSearchCV(random_tuned_model, random_parameters, verbose=3)\n",
    "\n",
    "random_model.fit(X_train, y_train)\n",
    "\n",
    "target_names = [\"0\", \"1\", \"2\", \"3\"]\n",
    "\n",
    "# List the best parameters for this dataset\n",
    "print(\"BEST FIT:\", random_model.best_params_)\n",
    "\n",
    "# Make predictions with the hypertuned model\n",
    "predications_random = random_model.predict(X_test)\n",
    "print(classification_report(y_test, predications_random,target_names=target_names))\n"
   ]
  },
  {
   "cell_type": "code",
   "execution_count": 211,
   "metadata": {},
   "outputs": [],
   "source": [
    "# Op Part 4: Scale Split data and find Best KNN value:\n",
    "X_scaler = StandardScaler()\n",
    "X_scaler.fit(X_train)\n",
    "\n",
    "X_train_scaled = X_scaler.transform(X_train)\n",
    "X_test_scaled = X_scaler.transform(X_test)"
   ]
  },
  {
   "cell_type": "code",
   "execution_count": 212,
   "metadata": {},
   "outputs": [
    {
     "name": "stdout",
     "output_type": "stream",
     "text": [
      "k: 5, Train Score: 0.551 | Test Score: 0.515\n",
      "k: 7, Train Score: 0.575 | Test Score: 0.548\n",
      "k: 9, Train Score: 0.574 | Test Score: 0.554\n",
      "k: 11, Train Score: 0.565 | Test Score: 0.555\n",
      "k: 13, Train Score: 0.571 | Test Score: 0.565\n",
      "k: 15, Train Score: 0.574 | Test Score: 0.570\n",
      "k: 17, Train Score: 0.574 | Test Score: 0.568\n",
      "k: 19, Train Score: 0.569 | Test Score: 0.562\n",
      "k: 21, Train Score: 0.569 | Test Score: 0.561\n",
      "k: 23, Train Score: 0.569 | Test Score: 0.566\n"
     ]
    },
    {
     "data": {
      "image/png": "[encoded data removed]",
      "text/plain": [
       "<Figure size 640x480 with 1 Axes>"
      ]
     },
     "metadata": {},
     "output_type": "display_data"
    }
   ],
   "source": [
    "\n",
    "# Find Best K value\n",
    "train_scores = []\n",
    "test_scores = []\n",
    "\n",
    "for k in range(5, 25, 2):\n",
    "    # Use KNN Classifer Model\n",
    "    knn = KNeighborsClassifier(n_neighbors=k)\n",
    "    knn.fit(X_train_scaled, y_train)\n",
    "    \n",
    "    # Score for training\n",
    "    train_score = knn.score(X_train_scaled, y_train)\n",
    "    \n",
    "    # Score for the test\n",
    "    test_score = knn.score(X_test_scaled, y_test)\n",
    "    \n",
    "    # add the caculated scores to the list we just calculated\n",
    "    train_scores.append(train_score)\n",
    "    test_scores.append(test_score)\n",
    "    print(f\"k: {k}, Train Score: {train_score:.3f} | Test Score: {test_score:.3f}\")\n",
    "    \n",
    "# PyPlot Library: Plot the results\n",
    "# Plot training scores, we need the saved k range for x axis on plot\n",
    "# Optimal score would be 9, because that is where the testing scores are\n",
    "# better than our training data.  The first whole number after the testing \n",
    "# and training data cross\n",
    "plt.plot(range(5, 25, 2), train_scores, marker='o', label=\"training scores\")\n",
    "plt.plot(range(5, 25, 2), test_scores, marker=\"x\", label=\"testing scores\")\n",
    "plt.xlabel(\"k neighbors\")\n",
    "plt.ylabel(\"accuracy score\")\n",
    "plt.legend()\n",
    "plt.show()"
   ]
  },
  {
   "cell_type": "code",
   "execution_count": 213,
   "metadata": {},
   "outputs": [
    {
     "name": "stdout",
     "output_type": "stream",
     "text": [
      "k=21 Test Acc: 0.561\n"
     ]
    }
   ],
   "source": [
    "# Plot KNN with best value:\n",
    "knn = KNeighborsClassifier(n_neighbors=21)\n",
    "knn.fit(X_train_scaled, y_train)\n",
    "print('k=21 Test Acc: %.3f' % knn.score(X_test_scaled, y_test))"
   ]
  },
  {
   "cell_type": "code",
   "execution_count": 214,
   "metadata": {},
   "outputs": [
    {
     "name": "stdout",
     "output_type": "stream",
     "text": [
      "y_encoded: 2    3357\n",
      "1    1913\n",
      "0     835\n",
      "3     494\n",
      "Name: count, dtype: int64\n"
     ]
    },
    {
     "data": {
      "text/plain": [
       "'\\nClass 2 has 3651 samples (dominant class).\\nClass 1 has 1913 samples.\\nClass 0 has 652 samples.\\nClass 3 has 383 samples (least frequent).\\n'"
      ]
     },
     "execution_count": 214,
     "metadata": {},
     "output_type": "execute_result"
    }
   ],
   "source": [
    "# Optimization Part 5: RandomOverSampling RandomUnderSampling\n",
    "# #Deterimine if  y_encoded is unbalaced:  \n",
    "# Results indicate uneven distribution, between class 3 (least) and 2 (most)\n",
    "# Recommendation: OverSampling\n",
    "\n",
    "\n",
    "print(\"y_encoded:\", pd.Series(y_encoded_1_dim).value_counts())\n",
    "'''\n",
    "Class 2 has 3651 samples (dominant class).\n",
    "Class 1 has 1913 samples.\n",
    "Class 0 has 652 samples.\n",
    "Class 3 has 383 samples (least frequent).\n",
    "'''"
   ]
  },
  {
   "cell_type": "code",
   "execution_count": 215,
   "metadata": {},
   "outputs": [
    {
     "name": "stdout",
     "output_type": "stream",
     "text": [
      "1    2484\n",
      "2    2484\n",
      "3    2484\n",
      "0    2484\n",
      "Name: count, dtype: int64\n"
     ]
    }
   ],
   "source": [
    "# Apply Random Over Sampling\n",
    "over_sampler = RandomOverSampler(sampling_strategy='auto', random_state=42)\n",
    "X_train_resampled, y_train_resampled = over_sampler.fit_resample(X_train, y_train)\n",
    "\n",
    "# Check new distribution\n",
    "print(pd.Series(y_train_resampled).value_counts())"
   ]
  },
  {
   "cell_type": "code",
   "execution_count": 216,
   "metadata": {},
   "outputs": [
    {
     "name": "stdout",
     "output_type": "stream",
     "text": [
      "Score: KNN; 0.5048484848484849\n",
      "Score: SVC; 0.3781818181818182\n",
      "Score: DTC; 0.46606060606060606\n",
      "Score: RFC; 0.47333333333333333\n"
     ]
    },
    {
     "name": "stderr",
     "output_type": "stream",
     "text": [
      "/Users/tlockhart/anaconda3/envs/dev/lib/python3.10/site-packages/sklearn/ensemble/_weight_boosting.py:527: FutureWarning: The SAMME.R algorithm (the default) is deprecated and will be removed in 1.6. Use the SAMME algorithm to circumvent this warning.\n",
      "  warnings.warn(\n"
     ]
    },
    {
     "name": "stdout",
     "output_type": "stream",
     "text": [
      "Score: ABC; 0.45575757575757575\n"
     ]
    }
   ],
   "source": [
    "# Rerun Models with OverSampled data:\n",
    "# Results Worse\n",
    "models = {\n",
    "    \"KNN\": KNeighborsClassifier(n_neighbors=21),\n",
    "    \"SVC\": SVC(kernel='linear'),\n",
    "    \"DTC\": DecisionTreeClassifier(),\n",
    "    \"RFC\": RandomForestClassifier(),\n",
    "    \"ABC\": AdaBoostClassifier()\n",
    "}\n",
    "\n",
    "# Run models on the resampled training data\n",
    "for name, model in models.items():\n",
    "    # Create the pipeline\n",
    "    pipe = Pipeline([(\"Scale\", StandardScaler()), (name, model)])\n",
    "\n",
    "    # Fit the pipeline on the resampled training data\n",
    "    pipe.fit(X_train_resampled, y_train_resampled)\n",
    "\n",
    "    # Make predictions on the test set\n",
    "    y_pred = pipe.predict(X_test)\n",
    "\n",
    "    print(f'Score: {name}; {pipe.score(X_test, y_test)}')"
   ]
  },
  {
   "cell_type": "code",
   "execution_count": 217,
   "metadata": {},
   "outputs": [
    {
     "name": "stdout",
     "output_type": "stream",
     "text": [
      "0    372\n",
      "1    372\n",
      "2    372\n",
      "3    372\n",
      "Name: count, dtype: int64\n"
     ]
    }
   ],
   "source": [
    "# RandomUnderSampling:\n",
    "# Apply Random Under Sampling\n",
    "under_sampler = RandomUnderSampler(sampling_strategy='auto', random_state=1)\n",
    "X_train_resampled, y_train_resampled = under_sampler.fit_resample(X_train, y_train)\n",
    "\n",
    "# Check new distribution\n",
    "print(pd.Series(y_train_resampled).value_counts())"
   ]
  },
  {
   "cell_type": "code",
   "execution_count": 218,
   "metadata": {},
   "outputs": [
    {
     "name": "stdout",
     "output_type": "stream",
     "text": [
      "Score: KNN; 0.25272727272727274\n",
      "Score: SVC; 0.3624242424242424\n",
      "Score: DTC; 0.3987878787878788\n",
      "Score: RFC; 0.4036363636363636\n",
      "Score: ABC; 0.43333333333333335\n"
     ]
    },
    {
     "name": "stderr",
     "output_type": "stream",
     "text": [
      "/Users/tlockhart/anaconda3/envs/dev/lib/python3.10/site-packages/sklearn/ensemble/_weight_boosting.py:527: FutureWarning: The SAMME.R algorithm (the default) is deprecated and will be removed in 1.6. Use the SAMME algorithm to circumvent this warning.\n",
      "  warnings.warn(\n"
     ]
    }
   ],
   "source": [
    "# Rerun Models with UnderSampled data:\n",
    "# Results Worse\n",
    "models = {\n",
    "    \"KNN\": KNeighborsClassifier(n_neighbors=21),\n",
    "    \"SVC\": SVC(kernel='linear'),\n",
    "    \"DTC\": DecisionTreeClassifier(),\n",
    "    \"RFC\": RandomForestClassifier(),\n",
    "    \"ABC\": AdaBoostClassifier()\n",
    "    \n",
    "}\n",
    "\n",
    "# Run models on the resampled training data\n",
    "for name, model in models.items():\n",
    "    # Create the pipeline\n",
    "    pipe = Pipeline([(\"Scale\", StandardScaler()), (name, model)])\n",
    "\n",
    "    # Fit the pipeline on the resampled training data\n",
    "    pipe.fit(X_train_resampled, y_train_resampled)\n",
    "\n",
    "    # Make predictions on the test set\n",
    "    y_pred = pipe.predict(X_test)\n",
    "\n",
    "    print(f'Score: {name}; {pipe.score(X_test, y_test)}')\n",
    "    # Mean Squared Error\n",
    "    # mse = mean_squared_error(y_test, y_pred)\n",
    "    # print(f'{name}, mse: {mse}')\n",
    "\n",
    "    # # R-squared Score\n",
    "    # r2 = r2_score(y_test, y_pred)\n",
    "    # print(f'{name}, R2: {r2}')\n",
    "\n",
    "    # # Adjusted R-squared\n",
    "    # r2_a = r2_adj(X_test, y_test, pipe)\n",
    "    # print(f'{name}, r2_adj: {r2_a}')"
   ]
  },
  {
   "cell_type": "code",
   "execution_count": 219,
   "metadata": {},
   "outputs": [
    {
     "name": "stdout",
     "output_type": "stream",
     "text": [
      "3    1807\n",
      "1     531\n",
      "2     315\n",
      "0     174\n",
      "Name: count, dtype: int64\n"
     ]
    }
   ],
   "source": [
    "# SMOTEENN Sampling:\n",
    "# Apply Random Under Sampling\n",
    "smt_sampler = SMOTEENN(sampling_strategy='auto', random_state=1)\n",
    "X_train_resampled, y_train_resampled = smt_sampler.fit_resample(X_train, y_train)\n",
    "\n",
    "# Check new distribution\n",
    "print(pd.Series(y_train_resampled).value_counts())"
   ]
  },
  {
   "cell_type": "code",
   "execution_count": 220,
   "metadata": {},
   "outputs": [
    {
     "name": "stdout",
     "output_type": "stream",
     "text": [
      "Score: KNN; 0.32242424242424245\n",
      "Score: SVC; 0.43636363636363634\n",
      "Score: DTC; 0.3660606060606061\n",
      "Score: RFC; 0.36848484848484847\n"
     ]
    },
    {
     "name": "stderr",
     "output_type": "stream",
     "text": [
      "/Users/tlockhart/anaconda3/envs/dev/lib/python3.10/site-packages/sklearn/ensemble/_weight_boosting.py:527: FutureWarning: The SAMME.R algorithm (the default) is deprecated and will be removed in 1.6. Use the SAMME algorithm to circumvent this warning.\n",
      "  warnings.warn(\n"
     ]
    },
    {
     "name": "stdout",
     "output_type": "stream",
     "text": [
      "Score: ABC; 0.48363636363636364\n"
     ]
    }
   ],
   "source": [
    "# Rerun Models with SMOTEEN Resampled data:\n",
    "# Results Worse\n",
    "models = {\n",
    "    \"KNN\": KNeighborsClassifier(n_neighbors=21),\n",
    "    \"SVC\": SVC(kernel='linear'),\n",
    "    \"DTC\": DecisionTreeClassifier(),\n",
    "    \"RFC\": RandomForestClassifier(),\n",
    "    \"ABC\": AdaBoostClassifier()\n",
    "}\n",
    "\n",
    "# Run models on the resampled training data\n",
    "for name, model in models.items():\n",
    "    # Create the pipeline\n",
    "    pipe = Pipeline([(\"Scale\", StandardScaler()), (name, model)])\n",
    "\n",
    "    # Fit the pipeline on the resampled training data\n",
    "    pipe.fit(X_train_resampled, y_train_resampled)\n",
    "\n",
    "    # Make predictions on the test set\n",
    "    y_pred = pipe.predict(X_test)\n",
    "\n",
    "    print(f'Score: {name}; {pipe.score(X_test, y_test)}')\n",
    "    # Mean Squared Error\n",
    "    # mse = mean_squared_error(y_test, y_pred)\n",
    "    # print(f'{name}, mse: {mse}')\n",
    "\n",
    "    # # R-squared Score\n",
    "    # r2 = r2_score(y_test, y_pred)\n",
    "    # print(f'{name}, R2: {r2}')\n",
    "\n",
    "    # # Adjusted R-squared\n",
    "    # r2_a = r2_adj(X_test, y_test, pipe)\n",
    "    # print(f'{name}, r2_adj: {r2_a}')"
   ]
  },
  {
   "cell_type": "code",
   "execution_count": null,
   "metadata": {},
   "outputs": [],
   "source": []
  }
 ],
 "metadata": {
  "kernelspec": {
   "display_name": "dev",
   "language": "python",
   "name": "python3"
  },
  "language_info": {
   "codemirror_mode": {
    "name": "ipython",
    "version": 3
   },
   "file_extension": ".py",
   "mimetype": "text/x-python",
   "name": "python",
   "nbconvert_exporter": "python",
   "pygments_lexer": "ipython3",
   "version": "3.10.15"
  }
 },
 "nbformat": 4,
 "nbformat_minor": 2
}
