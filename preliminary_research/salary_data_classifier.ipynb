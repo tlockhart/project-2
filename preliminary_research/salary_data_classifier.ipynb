{
 "cells": [
  {
   "cell_type": "code",
   "execution_count": 5,
   "metadata": {},
   "outputs": [],
   "source": [
    "# File Imports\n",
    "import pandas as pd\n",
    "from pathlib import Path\n",
    "from sklearn.preprocessing import OneHotEncoder\n",
    "from sklearn.model_selection import train_test_split\n",
    "from sklearn.metrics import mean_squared_error, r2_score\n",
    "from sklearn import tree\n",
    "\n",
    "import matplotlib.pyplot as plt\n",
    "import seaborn as sns\n",
    "from scipy.stats import norm\n",
    "import matplotlib.ticker as ticker\n",
    "import numpy as np\n",
    "\n",
    "from sklearn.pipeline import Pipeline\n",
    "from sklearn.linear_model import LinearRegression\n",
    "from sklearn.preprocessing import StandardScaler, LabelEncoder\n",
    "from sklearn.neighbors import KNeighborsClassifier\n",
    "from sklearn.tree import DecisionTreeClassifier\n",
    "from sklearn.ensemble import RandomForestClassifier, AdaBoostClassifier\n",
    "\n",
    "from sklearn.svm import SVC \n",
    "from imblearn.over_sampling import RandomOverSampler\n",
    "from imblearn.under_sampling import RandomUnderSampler\n",
    "from imblearn.combine import SMOTEENN\n",
    "from sklearn.model_selection import RandomizedSearchCV\n",
    "from sklearn.model_selection import GridSearchCV\n",
    "from sklearn.metrics import classification_report\n",
    "\n",
    "\n",
    "# Needed for decision tree visualization\n",
    "import pydotplus \n",
    "from IPython.display import Image\n",
    "\n",
    "# Suppress Warnings\n",
    "import warnings\n",
    "from sklearn.exceptions import DataConversionWarning\n",
    "\n",
    "warnings.filterwarnings(\"ignore\", category=DataConversionWarning)\n",
    "warnings.simplefilter(\"ignore\", category=FutureWarning)"
   ]
  },
  {
   "cell_type": "markdown",
   "metadata": {},
   "source": [
    "## Step 1: Load Salary data and perform binning"
   ]
  },
  {
   "cell_type": "code",
   "execution_count": 6,
   "metadata": {},
   "outputs": [
    {
     "data": {
      "text/html": [
       "<div>\n",
       "<style scoped>\n",
       "    .dataframe tbody tr th:only-of-type {\n",
       "        vertical-align: middle;\n",
       "    }\n",
       "\n",
       "    .dataframe tbody tr th {\n",
       "        vertical-align: top;\n",
       "    }\n",
       "\n",
       "    .dataframe thead th {\n",
       "        text-align: right;\n",
       "    }\n",
       "</style>\n",
       "<table border=\"1\" class=\"dataframe\">\n",
       "  <thead>\n",
       "    <tr style=\"text-align: right;\">\n",
       "      <th></th>\n",
       "      <th>job_title</th>\n",
       "      <th>experience_level</th>\n",
       "      <th>employment_type</th>\n",
       "      <th>work_models</th>\n",
       "      <th>work_year</th>\n",
       "      <th>employee_residence</th>\n",
       "      <th>salary</th>\n",
       "      <th>salary_currency</th>\n",
       "      <th>salary_in_usd</th>\n",
       "      <th>company_location</th>\n",
       "      <th>company_size</th>\n",
       "    </tr>\n",
       "  </thead>\n",
       "  <tbody>\n",
       "    <tr>\n",
       "      <th>0</th>\n",
       "      <td>Data Engineer</td>\n",
       "      <td>Mid-level</td>\n",
       "      <td>Full-time</td>\n",
       "      <td>Remote</td>\n",
       "      <td>2024</td>\n",
       "      <td>United States</td>\n",
       "      <td>148100</td>\n",
       "      <td>USD</td>\n",
       "      <td>148100</td>\n",
       "      <td>United States</td>\n",
       "      <td>Medium</td>\n",
       "    </tr>\n",
       "    <tr>\n",
       "      <th>1</th>\n",
       "      <td>Data Engineer</td>\n",
       "      <td>Mid-level</td>\n",
       "      <td>Full-time</td>\n",
       "      <td>Remote</td>\n",
       "      <td>2024</td>\n",
       "      <td>United States</td>\n",
       "      <td>98700</td>\n",
       "      <td>USD</td>\n",
       "      <td>98700</td>\n",
       "      <td>United States</td>\n",
       "      <td>Medium</td>\n",
       "    </tr>\n",
       "    <tr>\n",
       "      <th>2</th>\n",
       "      <td>Data Scientist</td>\n",
       "      <td>Senior-level</td>\n",
       "      <td>Full-time</td>\n",
       "      <td>Remote</td>\n",
       "      <td>2024</td>\n",
       "      <td>United States</td>\n",
       "      <td>140032</td>\n",
       "      <td>USD</td>\n",
       "      <td>140032</td>\n",
       "      <td>United States</td>\n",
       "      <td>Medium</td>\n",
       "    </tr>\n",
       "    <tr>\n",
       "      <th>3</th>\n",
       "      <td>Data Scientist</td>\n",
       "      <td>Senior-level</td>\n",
       "      <td>Full-time</td>\n",
       "      <td>Remote</td>\n",
       "      <td>2024</td>\n",
       "      <td>United States</td>\n",
       "      <td>100022</td>\n",
       "      <td>USD</td>\n",
       "      <td>100022</td>\n",
       "      <td>United States</td>\n",
       "      <td>Medium</td>\n",
       "    </tr>\n",
       "    <tr>\n",
       "      <th>4</th>\n",
       "      <td>BI Developer</td>\n",
       "      <td>Mid-level</td>\n",
       "      <td>Full-time</td>\n",
       "      <td>On-site</td>\n",
       "      <td>2024</td>\n",
       "      <td>United States</td>\n",
       "      <td>120000</td>\n",
       "      <td>USD</td>\n",
       "      <td>120000</td>\n",
       "      <td>United States</td>\n",
       "      <td>Medium</td>\n",
       "    </tr>\n",
       "  </tbody>\n",
       "</table>\n",
       "</div>"
      ],
      "text/plain": [
       "        job_title experience_level employment_type work_models  work_year  \\\n",
       "0   Data Engineer        Mid-level       Full-time      Remote       2024   \n",
       "1   Data Engineer        Mid-level       Full-time      Remote       2024   \n",
       "2  Data Scientist     Senior-level       Full-time      Remote       2024   \n",
       "3  Data Scientist     Senior-level       Full-time      Remote       2024   \n",
       "4    BI Developer        Mid-level       Full-time     On-site       2024   \n",
       "\n",
       "  employee_residence  salary salary_currency  salary_in_usd company_location  \\\n",
       "0      United States  148100             USD         148100    United States   \n",
       "1      United States   98700             USD          98700    United States   \n",
       "2      United States  140032             USD         140032    United States   \n",
       "3      United States  100022             USD         100022    United States   \n",
       "4      United States  120000             USD         120000    United States   \n",
       "\n",
       "  company_size  \n",
       "0       Medium  \n",
       "1       Medium  \n",
       "2       Medium  \n",
       "3       Medium  \n",
       "4       Medium  "
      ]
     },
     "execution_count": 6,
     "metadata": {},
     "output_type": "execute_result"
    }
   ],
   "source": [
    "# Import the data:\n",
    "file_location = \"./resources/data_science_salaries.csv\"\n",
    "file_path = Path(file_location)\n",
    "\n",
    "salary_df = pd.read_csv(file_path)\n",
    "\n",
    "# salary_cap = 320000\n",
    "# salary_df = salary_df.loc[salary_df[\"salary_in_usd\"] <= salary_cap]\n",
    "\n",
    "# Display the DataFrame:\n",
    "salary_df.head()"
   ]
  },
  {
   "cell_type": "code",
   "execution_count": 7,
   "metadata": {},
   "outputs": [
    {
     "data": {
      "text/plain": [
       "<module 'matplotlib.pyplot' from '/Users/tlockhart/anaconda3/envs/dev/lib/python3.10/site-packages/matplotlib/pyplot.py'>"
      ]
     },
     "execution_count": 7,
     "metadata": {},
     "output_type": "execute_result"
    },
    {
     "data": {
      "image/png": "[encoded data removed]",
      "text/plain": [
       "<Figure size 1500x1000 with 16 Axes>"
      ]
     },
     "metadata": {},
     "output_type": "display_data"
    }
   ],
   "source": [
    "# Graph Feature Dat:\n",
    "import matplotlib.pyplot as plt\n",
    "import seaborn as sns\n",
    "\n",
    "# Plot histograms for each feature in X\n",
    "X = salary_df.select_dtypes(include=['float64', 'int64'])  # Select numerical features\n",
    "X.hist(bins=20, figsize=(15, 10), layout=(4, 4), color='blue', alpha=0.7)\n",
    "plt.suptitle('Distribution of Features in X', fontsize=16)\n",
    "plt.tight_layout(rect=[0, 0, 1, 0.95])\n",
    "plt"
   ]
  },
  {
   "cell_type": "code",
   "execution_count": 8,
   "metadata": {},
   "outputs": [
    {
     "data": {
      "image/png": "[encoded data removed]",
      "text/plain": [
       "<Figure size 1000x600 with 1 Axes>"
      ]
     },
     "metadata": {},
     "output_type": "display_data"
    }
   ],
   "source": [
    "# Choose a specific column from X or y\n",
    "feature_to_plot = X.iloc[:, 2]  # Replace 2 with the actual column index you want\n",
    "\n",
    "# Check if the data is numeric. If not, you can't scale it.\n",
    "if not pd.api.types.is_numeric_dtype(feature_to_plot):\n",
    "    print(\"Error: The selected feature is not numeric. Cannot scale.\")\n",
    "    exit() # Or handle the non-numeric case appropriately\n",
    "\n",
    "# Scale the data by 1000 (if it's salary or similar):\n",
    "feature_to_plot_scaled = feature_to_plot / 1000\n",
    "\n",
    "# Plot the histogram with KDE using the SCALED data:\n",
    "plt.figure(figsize=(10, 6))\n",
    "sns.histplot(feature_to_plot_scaled, kde=True, stat=\"density\", color=\"blue\", bins=30)\n",
    "\n",
    "# Overlay the normal distribution (using the SCALED mean and std):\n",
    "mean_scaled = feature_to_plot_scaled.mean()\n",
    "std_scaled = feature_to_plot_scaled.std()\n",
    "xmin_scaled, xmax_scaled = plt.xlim()\n",
    "x_scaled = np.linspace(xmin_scaled, xmax_scaled, 100)\n",
    "p_scaled = norm.pdf(x_scaled, mean_scaled, std_scaled)\n",
    "plt.plot(x_scaled, p_scaled, 'r', linewidth=2)\n",
    "\n",
    "\n",
    "# plt.title('2020-2024 Employee Salary Distribution with Normal Curve')  # More general title\n",
    "plt.xlabel('Employee Salary ($)')  # More general x-axis label\n",
    "plt.ylabel('Density')\n",
    "\n",
    "# Format x-axis ticks to show thousands (if applicable):\n",
    "def format_thousands(x, pos):\n",
    "    return f'{x:.0f}K'\n",
    "\n",
    "formatter = ticker.FuncFormatter(format_thousands)\n",
    "plt.gca().xaxis.set_major_formatter(formatter)\n",
    "\n",
    "plt.tight_layout()\n",
    "# plt.savefig(\"./images/salary_distribution_scaled.png\", dpi=300)\n",
    "plt.show()"
   ]
  },
  {
   "cell_type": "code",
   "execution_count": 9,
   "metadata": {},
   "outputs": [
    {
     "name": "stdout",
     "output_type": "stream",
     "text": [
      "68% range: (74619.09627855755, 216502.0208604029)\n"
     ]
    }
   ],
   "source": [
    "# Data Partitioning: Attempt 1 of 2: Calculate the average range based on the 68% of the Empirical rule\n",
    "mean_salary = np.mean(feature_to_plot)\n",
    "std_salary = np.std(feature_to_plot)\n",
    "\n",
    "lower_bound = mean_salary - std_salary\n",
    "upper_bound = mean_salary + std_salary\n",
    "\n",
    "print(f\"68% range: ({lower_bound}, {upper_bound})\")"
   ]
  },
  {
   "cell_type": "code",
   "execution_count": 10,
   "metadata": {},
   "outputs": [
    {
     "data": {
      "image/png": "[encoded data removed]",
      "text/plain": [
       "<Figure size 800x500 with 1 Axes>"
      ]
     },
     "metadata": {},
     "output_type": "display_data"
    },
    {
     "name": "stdout",
     "output_type": "stream",
     "text": [
      "Highest salary range: 125,250.00 - 162,000.00\n"
     ]
    }
   ],
   "source": [
    "# Data Partitionaing: Attempt 2 of 2: Using the two highest bars as the average\n",
    "counts, bin_edges = np.histogram(feature_to_plot, bins=20)\n",
    "\n",
    "# Find the index of the highest bar\n",
    "highest_index = np.argmax(counts)\n",
    "\n",
    "# Get the corresponding salary range\n",
    "highest_range = (bin_edges[highest_index], bin_edges[highest_index + 1])\n",
    "\n",
    "# Plot the histogram\n",
    "plt.figure(figsize=(8, 5))\n",
    "sns.histplot(feature_to_plot, bins=20, kde=True, color=\"blue\", alpha=0.5)\n",
    "\n",
    "# Highlight the highest bar\n",
    "plt.axvspan(highest_range[0], highest_range[1], color=\"red\", alpha=0.3)\n",
    "\n",
    "plt.xlabel(\"Salary (USD)\")\n",
    "plt.ylabel(\"Density\")\n",
    "plt.title(\"Histogram Highlighting Highest Salary Range\")\n",
    "\n",
    "plt.show()\n",
    "\n",
    "# Print the identified range\n",
    "print(f\"Highest salary range: {highest_range[0]:,.2f} - {highest_range[1]:,.2f}\")"
   ]
  },
  {
   "cell_type": "code",
   "execution_count": 11,
   "metadata": {},
   "outputs": [
    {
     "data": {
      "text/plain": [
       "'Binned Data:'"
      ]
     },
     "metadata": {},
     "output_type": "display_data"
    },
    {
     "data": {
      "text/plain": [
       "0            low\n",
       "1            low\n",
       "2            low\n",
       "3            low\n",
       "4            low\n",
       "          ...   \n",
       "6594    very low\n",
       "6595    very low\n",
       "6596         low\n",
       "6597         low\n",
       "6598         low\n",
       "Name: salary_in_usd, Length: 6599, dtype: category\n",
       "Categories (4, object): ['very low' < 'low' < 'average' < 'high']"
      ]
     },
     "metadata": {},
     "output_type": "display_data"
    },
    {
     "data": {
      "text/plain": [
       "'Binned Data Info'"
      ]
     },
     "metadata": {},
     "output_type": "display_data"
    },
    {
     "name": "stdout",
     "output_type": "stream",
     "text": [
      "<class 'pandas.core.series.Series'>\n",
      "RangeIndex: 6599 entries, 0 to 6598\n",
      "Series name: salary_in_usd\n",
      "Non-Null Count  Dtype   \n",
      "--------------  -----   \n",
      "6599 non-null   category\n",
      "dtypes: category(1)\n",
      "memory usage: 6.8 KB\n"
     ]
    }
   ],
   "source": [
    "# Binning Employee Salary (y):\n",
    "\n",
    "# Visual observation of the range of the Highest two bars\n",
    "# Better accuracy for Average Salary @81%\n",
    "bins = [1500, 50000, 156000, 176000, 750000]\n",
    "\n",
    "# Peak salaries as average\n",
    "# bins = [1500, 60000, 125000, 175000, 750000]\n",
    "\n",
    "# Better recal in the classification report for low salaries 80%\n",
    "# bins = [1500, 60000, 130000, 160000, 750000]\n",
    "\n",
    "\n",
    "# Statical calculation of the range for the Highest two bars\n",
    "# bins = [1500, 50000, 85000, 162000, 750000]\n",
    "\n",
    "# Evenly distributed bins:\n",
    "# bins = [1500, 50000, 100000, 140000, 750000]\n",
    "\n",
    "# 5 distribution split\n",
    "# bins = [1500, 50000, 100000, 140000, 200000, 750000] \n",
    "\n",
    "# PDCUT: Binning\n",
    "# salary_df[\"Employee Salary\"], bin_edges = pd.qcut(salary_df[\"salary_in_usd\"], q=4, labels=False, retbins=True)\n",
    "\n",
    "# Create labels for these bins\n",
    "group_names = [\"very low\", \"low\", \"average\", \"high\"]\n",
    "\n",
    "salary_data = X[\"salary_in_usd\"]\n",
    "# Slice the data and place it into bins\n",
    "binned_data = pd.cut(salary_data, bins, labels=group_names, include_lowest=True)\n",
    "display(\"Binned Data:\", binned_data)\n",
    "display(\"Binned Data Info\")\n",
    "binned_data.info()\n",
    "salary_binned = pd.DataFrame()\n",
    "\n",
    "# Place the data series into Employee Salary DataFrame\n",
    "salary_binned[\"Employee Salary\"] = binned_data\n"
   ]
  },
  {
   "cell_type": "markdown",
   "metadata": {},
   "source": [
    "## Step 2: Calculate the employee count and avg salary, per category"
   ]
  },
  {
   "cell_type": "code",
   "execution_count": 12,
   "metadata": {},
   "outputs": [
    {
     "name": "stdout",
     "output_type": "stream",
     "text": [
      "            Employee Count  Average Salary\n",
      "Salary Bin                                \n",
      "very low               383    37378.916449\n",
      "low                   3651   108564.775952\n",
      "average                652   166347.731595\n",
      "high                  1913   230741.914794\n"
     ]
    }
   ],
   "source": [
    "# Create DataFrame with binned categories and original salaries\n",
    "salary_and_bin = pd.DataFrame({\"Employee Salary\": salary_data, \"Salary Bin\": binned_data})\n",
    "\n",
    "\n",
    "# Compute count and mean for each bin\n",
    "salary_stats = salary_and_bin.groupby(\"Salary Bin\", observed=False)[\"Employee Salary\"].agg(['count', 'mean'])\n",
    "# Rename columns for clarity\n",
    "salary_stats.columns = [\"Employee Count\", \"Average Salary\"]\n",
    "\n",
    "# Display as a table\n",
    "print(salary_stats)"
   ]
  },
  {
   "cell_type": "markdown",
   "metadata": {},
   "source": [
    "## Step 3: Data Preprocessing"
   ]
  },
  {
   "cell_type": "code",
   "execution_count": 13,
   "metadata": {},
   "outputs": [
    {
     "data": {
      "text/plain": [
       "'X Info:'"
      ]
     },
     "metadata": {},
     "output_type": "display_data"
    },
    {
     "name": "stdout",
     "output_type": "stream",
     "text": [
      "<class 'pandas.core.frame.DataFrame'>\n",
      "RangeIndex: 6599 entries, 0 to 6598\n",
      "Data columns (total 8 columns):\n",
      " #   Column              Non-Null Count  Dtype \n",
      "---  ------              --------------  ----- \n",
      " 0   job_title           6599 non-null   object\n",
      " 1   experience_level    6599 non-null   object\n",
      " 2   employment_type     6599 non-null   object\n",
      " 3   work_models         6599 non-null   object\n",
      " 4   work_year           6599 non-null   int64 \n",
      " 5   employee_residence  6599 non-null   object\n",
      " 6   company_location    6599 non-null   object\n",
      " 7   company_size        6599 non-null   object\n",
      "dtypes: int64(1), object(7)\n",
      "memory usage: 412.6+ KB\n"
     ]
    },
    {
     "data": {
      "text/plain": [
       "'X Data:'"
      ]
     },
     "metadata": {},
     "output_type": "display_data"
    },
    {
     "data": {
      "text/html": [
       "<div>\n",
       "<style scoped>\n",
       "    .dataframe tbody tr th:only-of-type {\n",
       "        vertical-align: middle;\n",
       "    }\n",
       "\n",
       "    .dataframe tbody tr th {\n",
       "        vertical-align: top;\n",
       "    }\n",
       "\n",
       "    .dataframe thead th {\n",
       "        text-align: right;\n",
       "    }\n",
       "</style>\n",
       "<table border=\"1\" class=\"dataframe\">\n",
       "  <thead>\n",
       "    <tr style=\"text-align: right;\">\n",
       "      <th></th>\n",
       "      <th>job_title</th>\n",
       "      <th>experience_level</th>\n",
       "      <th>employment_type</th>\n",
       "      <th>work_models</th>\n",
       "      <th>work_year</th>\n",
       "      <th>employee_residence</th>\n",
       "      <th>company_location</th>\n",
       "      <th>company_size</th>\n",
       "    </tr>\n",
       "  </thead>\n",
       "  <tbody>\n",
       "    <tr>\n",
       "      <th>0</th>\n",
       "      <td>Data Engineer</td>\n",
       "      <td>Mid-level</td>\n",
       "      <td>Full-time</td>\n",
       "      <td>Remote</td>\n",
       "      <td>2024</td>\n",
       "      <td>United States</td>\n",
       "      <td>United States</td>\n",
       "      <td>Medium</td>\n",
       "    </tr>\n",
       "    <tr>\n",
       "      <th>1</th>\n",
       "      <td>Data Engineer</td>\n",
       "      <td>Mid-level</td>\n",
       "      <td>Full-time</td>\n",
       "      <td>Remote</td>\n",
       "      <td>2024</td>\n",
       "      <td>United States</td>\n",
       "      <td>United States</td>\n",
       "      <td>Medium</td>\n",
       "    </tr>\n",
       "    <tr>\n",
       "      <th>2</th>\n",
       "      <td>Data Scientist</td>\n",
       "      <td>Senior-level</td>\n",
       "      <td>Full-time</td>\n",
       "      <td>Remote</td>\n",
       "      <td>2024</td>\n",
       "      <td>United States</td>\n",
       "      <td>United States</td>\n",
       "      <td>Medium</td>\n",
       "    </tr>\n",
       "    <tr>\n",
       "      <th>3</th>\n",
       "      <td>Data Scientist</td>\n",
       "      <td>Senior-level</td>\n",
       "      <td>Full-time</td>\n",
       "      <td>Remote</td>\n",
       "      <td>2024</td>\n",
       "      <td>United States</td>\n",
       "      <td>United States</td>\n",
       "      <td>Medium</td>\n",
       "    </tr>\n",
       "    <tr>\n",
       "      <th>4</th>\n",
       "      <td>BI Developer</td>\n",
       "      <td>Mid-level</td>\n",
       "      <td>Full-time</td>\n",
       "      <td>On-site</td>\n",
       "      <td>2024</td>\n",
       "      <td>United States</td>\n",
       "      <td>United States</td>\n",
       "      <td>Medium</td>\n",
       "    </tr>\n",
       "  </tbody>\n",
       "</table>\n",
       "</div>"
      ],
      "text/plain": [
       "        job_title experience_level employment_type work_models  work_year  \\\n",
       "0   Data Engineer        Mid-level       Full-time      Remote       2024   \n",
       "1   Data Engineer        Mid-level       Full-time      Remote       2024   \n",
       "2  Data Scientist     Senior-level       Full-time      Remote       2024   \n",
       "3  Data Scientist     Senior-level       Full-time      Remote       2024   \n",
       "4    BI Developer        Mid-level       Full-time     On-site       2024   \n",
       "\n",
       "  employee_residence company_location company_size  \n",
       "0      United States    United States       Medium  \n",
       "1      United States    United States       Medium  \n",
       "2      United States    United States       Medium  \n",
       "3      United States    United States       Medium  \n",
       "4      United States    United States       Medium  "
      ]
     },
     "metadata": {},
     "output_type": "display_data"
    },
    {
     "data": {
      "text/plain": [
       "'Work Model value_counts:'"
      ]
     },
     "metadata": {},
     "output_type": "display_data"
    },
    {
     "data": {
      "text/plain": [
       "work_models\n",
       "On-site    3813\n",
       "Remote     2561\n",
       "Hybrid      225\n",
       "Name: count, dtype: int64"
      ]
     },
     "metadata": {},
     "output_type": "display_data"
    }
   ],
   "source": [
    "# Load X dataset:\n",
    "# Drop collinear data:\n",
    "X = salary_df.copy()\n",
    "# X = X.drop(columns=[\"salary\", \"salary_currency\", \"salary_in_usd\", \"work_year\"], axis=1)\n",
    "X = X.drop(columns=[\"salary\", \"salary_currency\", \"salary_in_usd\"], axis=1)\n",
    "\n",
    "display(\"X Info:\")\n",
    "X.info()\n",
    "display(\"X Data:\", X.head())\n",
    "display(\"Work Model value_counts:\", X[\"work_models\"].value_counts())\n",
    "\n",
    "# Get Nominal Column Names Only\n",
    "nominal_features = X.select_dtypes(include=\"object\").columns"
   ]
  },
  {
   "cell_type": "code",
   "execution_count": 14,
   "metadata": {},
   "outputs": [
    {
     "data": {
      "text/plain": [
       "'X shape:'"
      ]
     },
     "metadata": {},
     "output_type": "display_data"
    },
    {
     "data": {
      "text/plain": [
       "(6599, 8)"
      ]
     },
     "metadata": {},
     "output_type": "display_data"
    },
    {
     "data": {
      "text/plain": [
       "'y data:'"
      ]
     },
     "metadata": {},
     "output_type": "display_data"
    },
    {
     "data": {
      "text/plain": [
       "0    low\n",
       "1    low\n",
       "2    low\n",
       "3    low\n",
       "4    low\n",
       "Name: salary_in_usd, dtype: category\n",
       "Categories (4, object): ['very low' < 'low' < 'average' < 'high']"
      ]
     },
     "metadata": {},
     "output_type": "display_data"
    },
    {
     "data": {
      "text/plain": [
       "'Y Info:'"
      ]
     },
     "metadata": {},
     "output_type": "display_data"
    },
    {
     "name": "stdout",
     "output_type": "stream",
     "text": [
      "<class 'pandas.core.series.Series'>\n",
      "RangeIndex: 6599 entries, 0 to 6598\n",
      "Series name: salary_in_usd\n",
      "Non-Null Count  Dtype   \n",
      "--------------  -----   \n",
      "6599 non-null   category\n",
      "dtypes: category(1)\n",
      "memory usage: 6.8 KB\n"
     ]
    },
    {
     "data": {
      "text/plain": [
       "'Y shape:'"
      ]
     },
     "metadata": {},
     "output_type": "display_data"
    },
    {
     "data": {
      "text/plain": [
       "(6599,)"
      ]
     },
     "metadata": {},
     "output_type": "display_data"
    },
    {
     "data": {
      "text/plain": [
       "'Y Describe:'"
      ]
     },
     "metadata": {},
     "output_type": "display_data"
    },
    {
     "data": {
      "text/plain": [
       "count     6599\n",
       "unique       4\n",
       "top        low\n",
       "freq      3651\n",
       "Name: salary_in_usd, dtype: object"
      ]
     },
     "metadata": {},
     "output_type": "display_data"
    },
    {
     "data": {
      "text/plain": [
       "'Y Value Counts:'"
      ]
     },
     "metadata": {},
     "output_type": "display_data"
    },
    {
     "data": {
      "text/plain": [
       "salary_in_usd\n",
       "low         3651\n",
       "high        1913\n",
       "average      652\n",
       "very low     383\n",
       "Name: count, dtype: int64"
      ]
     },
     "metadata": {},
     "output_type": "display_data"
    }
   ],
   "source": [
    "# Load Y dataset:\n",
    "y = binned_data\n",
    "display(\"X shape:\", X.shape)\n",
    "display(\"y data:\", y[0:5])\n",
    "display(\"Y Info:\")\n",
    "y.info()\n",
    "\n",
    "display(\"Y shape:\", y.shape)\n",
    "display(\"Y Describe:\", y.describe())\n",
    "# Check Y distribution\n",
    "display(\"Y Value Counts:\", y.value_counts())\n"
   ]
  },
  {
   "cell_type": "markdown",
   "metadata": {},
   "source": [
    "## Step 4: Data Encoding"
   ]
  },
  {
   "cell_type": "code",
   "execution_count": 15,
   "metadata": {},
   "outputs": [
    {
     "data": {
      "text/plain": [
       "'xTrain:'"
      ]
     },
     "metadata": {},
     "output_type": "display_data"
    },
    {
     "data": {
      "text/html": [
       "<div>\n",
       "<style scoped>\n",
       "    .dataframe tbody tr th:only-of-type {\n",
       "        vertical-align: middle;\n",
       "    }\n",
       "\n",
       "    .dataframe tbody tr th {\n",
       "        vertical-align: top;\n",
       "    }\n",
       "\n",
       "    .dataframe thead th {\n",
       "        text-align: right;\n",
       "    }\n",
       "</style>\n",
       "<table border=\"1\" class=\"dataframe\">\n",
       "  <thead>\n",
       "    <tr style=\"text-align: right;\">\n",
       "      <th></th>\n",
       "      <th>work_year</th>\n",
       "      <th>job_title_AI Developer</th>\n",
       "      <th>job_title_AI Engineer</th>\n",
       "      <th>job_title_AI Product Manager</th>\n",
       "      <th>job_title_AI Programmer</th>\n",
       "      <th>job_title_AI Research Engineer</th>\n",
       "      <th>job_title_AI Scientist</th>\n",
       "      <th>job_title_AWS Data Architect</th>\n",
       "      <th>job_title_Analytics Engineer</th>\n",
       "      <th>job_title_Analytics Engineering Manager</th>\n",
       "      <th>...</th>\n",
       "      <th>company_location_Switzerland</th>\n",
       "      <th>company_location_Thailand</th>\n",
       "      <th>company_location_Turkey</th>\n",
       "      <th>company_location_Ukraine</th>\n",
       "      <th>company_location_United Arab Emirates</th>\n",
       "      <th>company_location_United Kingdom</th>\n",
       "      <th>company_location_United States</th>\n",
       "      <th>company_location_Vietnam</th>\n",
       "      <th>company_size_Medium</th>\n",
       "      <th>company_size_Small</th>\n",
       "    </tr>\n",
       "  </thead>\n",
       "  <tbody>\n",
       "    <tr>\n",
       "      <th>477</th>\n",
       "      <td>2024</td>\n",
       "      <td>0</td>\n",
       "      <td>0</td>\n",
       "      <td>0</td>\n",
       "      <td>0</td>\n",
       "      <td>0</td>\n",
       "      <td>0</td>\n",
       "      <td>0</td>\n",
       "      <td>0</td>\n",
       "      <td>0</td>\n",
       "      <td>...</td>\n",
       "      <td>0</td>\n",
       "      <td>0</td>\n",
       "      <td>0</td>\n",
       "      <td>0</td>\n",
       "      <td>0</td>\n",
       "      <td>0</td>\n",
       "      <td>1</td>\n",
       "      <td>0</td>\n",
       "      <td>1</td>\n",
       "      <td>0</td>\n",
       "    </tr>\n",
       "    <tr>\n",
       "      <th>1989</th>\n",
       "      <td>2023</td>\n",
       "      <td>0</td>\n",
       "      <td>0</td>\n",
       "      <td>0</td>\n",
       "      <td>0</td>\n",
       "      <td>0</td>\n",
       "      <td>0</td>\n",
       "      <td>0</td>\n",
       "      <td>0</td>\n",
       "      <td>0</td>\n",
       "      <td>...</td>\n",
       "      <td>0</td>\n",
       "      <td>0</td>\n",
       "      <td>0</td>\n",
       "      <td>0</td>\n",
       "      <td>0</td>\n",
       "      <td>0</td>\n",
       "      <td>1</td>\n",
       "      <td>0</td>\n",
       "      <td>1</td>\n",
       "      <td>0</td>\n",
       "    </tr>\n",
       "    <tr>\n",
       "      <th>711</th>\n",
       "      <td>2023</td>\n",
       "      <td>0</td>\n",
       "      <td>0</td>\n",
       "      <td>0</td>\n",
       "      <td>0</td>\n",
       "      <td>0</td>\n",
       "      <td>0</td>\n",
       "      <td>0</td>\n",
       "      <td>0</td>\n",
       "      <td>0</td>\n",
       "      <td>...</td>\n",
       "      <td>0</td>\n",
       "      <td>0</td>\n",
       "      <td>0</td>\n",
       "      <td>0</td>\n",
       "      <td>0</td>\n",
       "      <td>0</td>\n",
       "      <td>1</td>\n",
       "      <td>0</td>\n",
       "      <td>1</td>\n",
       "      <td>0</td>\n",
       "    </tr>\n",
       "    <tr>\n",
       "      <th>3234</th>\n",
       "      <td>2023</td>\n",
       "      <td>0</td>\n",
       "      <td>0</td>\n",
       "      <td>0</td>\n",
       "      <td>0</td>\n",
       "      <td>0</td>\n",
       "      <td>0</td>\n",
       "      <td>0</td>\n",
       "      <td>0</td>\n",
       "      <td>0</td>\n",
       "      <td>...</td>\n",
       "      <td>0</td>\n",
       "      <td>0</td>\n",
       "      <td>0</td>\n",
       "      <td>0</td>\n",
       "      <td>0</td>\n",
       "      <td>0</td>\n",
       "      <td>1</td>\n",
       "      <td>0</td>\n",
       "      <td>1</td>\n",
       "      <td>0</td>\n",
       "    </tr>\n",
       "    <tr>\n",
       "      <th>2857</th>\n",
       "      <td>2023</td>\n",
       "      <td>0</td>\n",
       "      <td>0</td>\n",
       "      <td>0</td>\n",
       "      <td>0</td>\n",
       "      <td>0</td>\n",
       "      <td>0</td>\n",
       "      <td>0</td>\n",
       "      <td>0</td>\n",
       "      <td>0</td>\n",
       "      <td>...</td>\n",
       "      <td>0</td>\n",
       "      <td>0</td>\n",
       "      <td>0</td>\n",
       "      <td>0</td>\n",
       "      <td>0</td>\n",
       "      <td>0</td>\n",
       "      <td>1</td>\n",
       "      <td>0</td>\n",
       "      <td>1</td>\n",
       "      <td>0</td>\n",
       "    </tr>\n",
       "    <tr>\n",
       "      <th>...</th>\n",
       "      <td>...</td>\n",
       "      <td>...</td>\n",
       "      <td>...</td>\n",
       "      <td>...</td>\n",
       "      <td>...</td>\n",
       "      <td>...</td>\n",
       "      <td>...</td>\n",
       "      <td>...</td>\n",
       "      <td>...</td>\n",
       "      <td>...</td>\n",
       "      <td>...</td>\n",
       "      <td>...</td>\n",
       "      <td>...</td>\n",
       "      <td>...</td>\n",
       "      <td>...</td>\n",
       "      <td>...</td>\n",
       "      <td>...</td>\n",
       "      <td>...</td>\n",
       "      <td>...</td>\n",
       "      <td>...</td>\n",
       "      <td>...</td>\n",
       "    </tr>\n",
       "    <tr>\n",
       "      <th>905</th>\n",
       "      <td>2023</td>\n",
       "      <td>0</td>\n",
       "      <td>0</td>\n",
       "      <td>0</td>\n",
       "      <td>0</td>\n",
       "      <td>0</td>\n",
       "      <td>0</td>\n",
       "      <td>0</td>\n",
       "      <td>0</td>\n",
       "      <td>0</td>\n",
       "      <td>...</td>\n",
       "      <td>0</td>\n",
       "      <td>0</td>\n",
       "      <td>0</td>\n",
       "      <td>0</td>\n",
       "      <td>0</td>\n",
       "      <td>0</td>\n",
       "      <td>1</td>\n",
       "      <td>0</td>\n",
       "      <td>1</td>\n",
       "      <td>0</td>\n",
       "    </tr>\n",
       "    <tr>\n",
       "      <th>5192</th>\n",
       "      <td>2023</td>\n",
       "      <td>0</td>\n",
       "      <td>0</td>\n",
       "      <td>0</td>\n",
       "      <td>0</td>\n",
       "      <td>0</td>\n",
       "      <td>0</td>\n",
       "      <td>0</td>\n",
       "      <td>0</td>\n",
       "      <td>0</td>\n",
       "      <td>...</td>\n",
       "      <td>0</td>\n",
       "      <td>0</td>\n",
       "      <td>0</td>\n",
       "      <td>0</td>\n",
       "      <td>0</td>\n",
       "      <td>0</td>\n",
       "      <td>0</td>\n",
       "      <td>0</td>\n",
       "      <td>1</td>\n",
       "      <td>0</td>\n",
       "    </tr>\n",
       "    <tr>\n",
       "      <th>3980</th>\n",
       "      <td>2023</td>\n",
       "      <td>0</td>\n",
       "      <td>0</td>\n",
       "      <td>0</td>\n",
       "      <td>0</td>\n",
       "      <td>0</td>\n",
       "      <td>0</td>\n",
       "      <td>0</td>\n",
       "      <td>0</td>\n",
       "      <td>0</td>\n",
       "      <td>...</td>\n",
       "      <td>0</td>\n",
       "      <td>0</td>\n",
       "      <td>0</td>\n",
       "      <td>0</td>\n",
       "      <td>0</td>\n",
       "      <td>0</td>\n",
       "      <td>1</td>\n",
       "      <td>0</td>\n",
       "      <td>1</td>\n",
       "      <td>0</td>\n",
       "    </tr>\n",
       "    <tr>\n",
       "      <th>235</th>\n",
       "      <td>2024</td>\n",
       "      <td>0</td>\n",
       "      <td>0</td>\n",
       "      <td>0</td>\n",
       "      <td>0</td>\n",
       "      <td>0</td>\n",
       "      <td>0</td>\n",
       "      <td>0</td>\n",
       "      <td>0</td>\n",
       "      <td>0</td>\n",
       "      <td>...</td>\n",
       "      <td>0</td>\n",
       "      <td>0</td>\n",
       "      <td>0</td>\n",
       "      <td>0</td>\n",
       "      <td>0</td>\n",
       "      <td>0</td>\n",
       "      <td>1</td>\n",
       "      <td>0</td>\n",
       "      <td>1</td>\n",
       "      <td>0</td>\n",
       "    </tr>\n",
       "    <tr>\n",
       "      <th>5157</th>\n",
       "      <td>2023</td>\n",
       "      <td>0</td>\n",
       "      <td>0</td>\n",
       "      <td>0</td>\n",
       "      <td>0</td>\n",
       "      <td>0</td>\n",
       "      <td>0</td>\n",
       "      <td>0</td>\n",
       "      <td>0</td>\n",
       "      <td>0</td>\n",
       "      <td>...</td>\n",
       "      <td>0</td>\n",
       "      <td>0</td>\n",
       "      <td>0</td>\n",
       "      <td>0</td>\n",
       "      <td>0</td>\n",
       "      <td>0</td>\n",
       "      <td>0</td>\n",
       "      <td>0</td>\n",
       "      <td>1</td>\n",
       "      <td>0</td>\n",
       "    </tr>\n",
       "  </tbody>\n",
       "</table>\n",
       "<p>4949 rows × 302 columns</p>\n",
       "</div>"
      ],
      "text/plain": [
       "      work_year  job_title_AI Developer  job_title_AI Engineer  \\\n",
       "477        2024                       0                      0   \n",
       "1989       2023                       0                      0   \n",
       "711        2023                       0                      0   \n",
       "3234       2023                       0                      0   \n",
       "2857       2023                       0                      0   \n",
       "...         ...                     ...                    ...   \n",
       "905        2023                       0                      0   \n",
       "5192       2023                       0                      0   \n",
       "3980       2023                       0                      0   \n",
       "235        2024                       0                      0   \n",
       "5157       2023                       0                      0   \n",
       "\n",
       "      job_title_AI Product Manager  job_title_AI Programmer  \\\n",
       "477                              0                        0   \n",
       "1989                             0                        0   \n",
       "711                              0                        0   \n",
       "3234                             0                        0   \n",
       "2857                             0                        0   \n",
       "...                            ...                      ...   \n",
       "905                              0                        0   \n",
       "5192                             0                        0   \n",
       "3980                             0                        0   \n",
       "235                              0                        0   \n",
       "5157                             0                        0   \n",
       "\n",
       "      job_title_AI Research Engineer  job_title_AI Scientist  \\\n",
       "477                                0                       0   \n",
       "1989                               0                       0   \n",
       "711                                0                       0   \n",
       "3234                               0                       0   \n",
       "2857                               0                       0   \n",
       "...                              ...                     ...   \n",
       "905                                0                       0   \n",
       "5192                               0                       0   \n",
       "3980                               0                       0   \n",
       "235                                0                       0   \n",
       "5157                               0                       0   \n",
       "\n",
       "      job_title_AWS Data Architect  job_title_Analytics Engineer  \\\n",
       "477                              0                             0   \n",
       "1989                             0                             0   \n",
       "711                              0                             0   \n",
       "3234                             0                             0   \n",
       "2857                             0                             0   \n",
       "...                            ...                           ...   \n",
       "905                              0                             0   \n",
       "5192                             0                             0   \n",
       "3980                             0                             0   \n",
       "235                              0                             0   \n",
       "5157                             0                             0   \n",
       "\n",
       "      job_title_Analytics Engineering Manager  ...  \\\n",
       "477                                         0  ...   \n",
       "1989                                        0  ...   \n",
       "711                                         0  ...   \n",
       "3234                                        0  ...   \n",
       "2857                                        0  ...   \n",
       "...                                       ...  ...   \n",
       "905                                         0  ...   \n",
       "5192                                        0  ...   \n",
       "3980                                        0  ...   \n",
       "235                                         0  ...   \n",
       "5157                                        0  ...   \n",
       "\n",
       "      company_location_Switzerland  company_location_Thailand  \\\n",
       "477                              0                          0   \n",
       "1989                             0                          0   \n",
       "711                              0                          0   \n",
       "3234                             0                          0   \n",
       "2857                             0                          0   \n",
       "...                            ...                        ...   \n",
       "905                              0                          0   \n",
       "5192                             0                          0   \n",
       "3980                             0                          0   \n",
       "235                              0                          0   \n",
       "5157                             0                          0   \n",
       "\n",
       "      company_location_Turkey  company_location_Ukraine  \\\n",
       "477                         0                         0   \n",
       "1989                        0                         0   \n",
       "711                         0                         0   \n",
       "3234                        0                         0   \n",
       "2857                        0                         0   \n",
       "...                       ...                       ...   \n",
       "905                         0                         0   \n",
       "5192                        0                         0   \n",
       "3980                        0                         0   \n",
       "235                         0                         0   \n",
       "5157                        0                         0   \n",
       "\n",
       "      company_location_United Arab Emirates  company_location_United Kingdom  \\\n",
       "477                                       0                                0   \n",
       "1989                                      0                                0   \n",
       "711                                       0                                0   \n",
       "3234                                      0                                0   \n",
       "2857                                      0                                0   \n",
       "...                                     ...                              ...   \n",
       "905                                       0                                0   \n",
       "5192                                      0                                0   \n",
       "3980                                      0                                0   \n",
       "235                                       0                                0   \n",
       "5157                                      0                                0   \n",
       "\n",
       "      company_location_United States  company_location_Vietnam  \\\n",
       "477                                1                         0   \n",
       "1989                               1                         0   \n",
       "711                                1                         0   \n",
       "3234                               1                         0   \n",
       "2857                               1                         0   \n",
       "...                              ...                       ...   \n",
       "905                                1                         0   \n",
       "5192                               0                         0   \n",
       "3980                               1                         0   \n",
       "235                                1                         0   \n",
       "5157                               0                         0   \n",
       "\n",
       "      company_size_Medium  company_size_Small  \n",
       "477                     1                   0  \n",
       "1989                    1                   0  \n",
       "711                     1                   0  \n",
       "3234                    1                   0  \n",
       "2857                    1                   0  \n",
       "...                   ...                 ...  \n",
       "905                     1                   0  \n",
       "5192                    1                   0  \n",
       "3980                    1                   0  \n",
       "235                     1                   0  \n",
       "5157                    1                   0  \n",
       "\n",
       "[4949 rows x 302 columns]"
      ]
     },
     "metadata": {},
     "output_type": "display_data"
    },
    {
     "data": {
      "text/plain": [
       "'yTrain:'"
      ]
     },
     "metadata": {},
     "output_type": "display_data"
    },
    {
     "data": {
      "text/plain": [
       "array([[1],\n",
       "       [1],\n",
       "       [2],\n",
       "       ...,\n",
       "       [0],\n",
       "       [1],\n",
       "       [1]])"
      ]
     },
     "metadata": {},
     "output_type": "display_data"
    }
   ],
   "source": [
    "# Preprocessing: Convert Nominal to Ordinal Data with Get Dummies:\n",
    "\n",
    "X_encoded = pd.get_dummies(X, columns=nominal_features, drop_first=True, dtype=int)\n",
    "# y_encoded = pd.get_dummies(y, drop_first=True, dtype=int)\n",
    "le = LabelEncoder()\n",
    "# One column only (reshape)\n",
    "y_encoded = le.fit_transform(y)\n",
    "y_encoded_1_dim = y_encoded\n",
    "# print(\"y_encoded:\", y_encoded.tolist())\n",
    "# display(\"y_encoded:\", y_encoded)\n",
    "\n",
    "y_encoded = y_encoded.reshape(-1, 1)\n",
    "X_train, X_test, y_train, y_test = train_test_split(X_encoded, y_encoded, random_state=1)\n",
    "\n",
    "display(\"xTrain:\", X_train)\n",
    "display(\"yTrain:\", y_train)"
   ]
  },
  {
   "cell_type": "markdown",
   "metadata": {},
   "source": [
    "## Step 5: BaseCase: Training 5 Classification Models"
   ]
  },
  {
   "cell_type": "code",
   "execution_count": 16,
   "metadata": {},
   "outputs": [
    {
     "name": "stdout",
     "output_type": "stream",
     "text": [
      "KNN Score: 0.5606060606060606\n",
      "              precision    recall  f1-score   support\n",
      "\n",
      "           0       0.16      0.07      0.10       165\n",
      "           1       0.44      0.61      0.51       448\n",
      "           2       0.68      0.66      0.67       945\n",
      "           3       0.36      0.20      0.25        92\n",
      "\n",
      "    accuracy                           0.56      1650\n",
      "   macro avg       0.41      0.38      0.38      1650\n",
      "weighted avg       0.55      0.56      0.55      1650\n",
      "\n",
      "SVC Score: 0.5933333333333334\n",
      "              precision    recall  f1-score   support\n",
      "\n",
      "           0       0.00      0.00      0.00       165\n",
      "           1       0.50      0.38      0.43       448\n",
      "           2       0.62      0.84      0.72       945\n",
      "           3       0.46      0.14      0.22        92\n",
      "\n",
      "    accuracy                           0.59      1650\n",
      "   macro avg       0.40      0.34      0.34      1650\n",
      "weighted avg       0.52      0.59      0.54      1650\n",
      "\n",
      "DTC Score: 0.6066666666666667\n",
      "              precision    recall  f1-score   support\n",
      "\n",
      "           0       0.00      0.00      0.00       165\n",
      "           1       0.57      0.19      0.29       448\n",
      "           2       0.61      0.92      0.73       945\n",
      "           3       0.66      0.43      0.52        92\n",
      "\n",
      "    accuracy                           0.61      1650\n",
      "   macro avg       0.46      0.39      0.39      1650\n",
      "weighted avg       0.54      0.61      0.53      1650\n",
      "\n",
      "RFC Score: 0.6090909090909091\n",
      "              precision    recall  f1-score   support\n",
      "\n",
      "           0       0.00      0.00      0.00       165\n",
      "           1       0.49      0.51      0.50       448\n",
      "           2       0.67      0.77      0.72       945\n",
      "           3       0.59      0.48      0.53        92\n",
      "\n",
      "    accuracy                           0.61      1650\n",
      "   macro avg       0.44      0.44      0.44      1650\n",
      "weighted avg       0.55      0.61      0.58      1650\n",
      "\n",
      "ABC Score: 0.6127272727272727\n",
      "              precision    recall  f1-score   support\n",
      "\n",
      "           0       0.50      0.01      0.01       165\n",
      "           1       0.51      0.50      0.51       448\n",
      "           2       0.66      0.79      0.72       945\n",
      "           3       0.50      0.43      0.47        92\n",
      "\n",
      "    accuracy                           0.61      1650\n",
      "   macro avg       0.54      0.43      0.43      1650\n",
      "weighted avg       0.60      0.61      0.58      1650\n",
      "\n"
     ]
    }
   ],
   "source": [
    "# Baseline Pipeline Model Fitting:\n",
    "# pipe = Pipeline([(\"Scale\", StandardScaler()), (\"LR\", LinearRegression())])\n",
    "# KNeighborsClassifier(n_neighbors=5)\n",
    "\n",
    "models = {\n",
    "    # Use odd generic number (5) for n_neighbors tie breakers \n",
    "    \"KNN\": KNeighborsClassifier(n_neighbors=5),\n",
    "    \"SVC\": SVC(kernel='rbf'),\n",
    "    # Use generic max_depth of 5\n",
    "    \"DTC\": DecisionTreeClassifier(max_depth=5),\n",
    "    \"RFC\": RandomForestClassifier(),\n",
    "    \"ABC\": AdaBoostClassifier(algorithm=\"SAMME.R\")\n",
    "}\n",
    "\n",
    "for name, model in models.items():\n",
    "    pipe = Pipeline([(\"Scale\", StandardScaler()), (name, model)])\n",
    "                                                \n",
    "    # Fit (Train) the Model\n",
    "    pipe.fit(X_train, y_train)\n",
    "\n",
    "    # Make a prediction\n",
    "    y_pred = pipe.predict(X_test)\n",
    "    \n",
    "    print(f'{name} Score: {pipe.score(X_test, y_test)}')\n",
    "    target_names = [\"0\", \"1\", \"2\", \"3\"]\n",
    "    print(classification_report(y_test, y_pred, target_names=target_names, zero_division=0))"
   ]
  },
  {
   "cell_type": "markdown",
   "metadata": {},
   "source": [
    "## Step 6: Model Optimization"
   ]
  },
  {
   "cell_type": "code",
   "execution_count": 17,
   "metadata": {},
   "outputs": [],
   "source": [
    "# Part 1: Scale and Split data and find Best KNN value:\n",
    "X_scaler = StandardScaler()\n",
    "X_scaler.fit(X_train)\n",
    "\n",
    "X_train_scaled = X_scaler.transform(X_train)\n",
    "X_test_scaled = X_scaler.transform(X_test)"
   ]
  },
  {
   "cell_type": "code",
   "execution_count": 18,
   "metadata": {},
   "outputs": [
    {
     "name": "stdout",
     "output_type": "stream",
     "text": [
      "k: 5, Train Score: 0.604 | Test Score: 0.561\n",
      "k: 7, Train Score: 0.606 | Test Score: 0.572\n",
      "k: 9, Train Score: 0.612 | Test Score: 0.590\n",
      "k: 11, Train Score: 0.609 | Test Score: 0.590\n",
      "k: 13, Train Score: 0.612 | Test Score: 0.596\n",
      "k: 15, Train Score: 0.608 | Test Score: 0.597\n",
      "k: 17, Train Score: 0.608 | Test Score: 0.598\n",
      "k: 19, Train Score: 0.610 | Test Score: 0.604\n",
      "k: 21, Train Score: 0.608 | Test Score: 0.604\n",
      "k: 23, Train Score: 0.604 | Test Score: 0.601\n"
     ]
    },
    {
     "data": {
      "image/png": "[encoded data removed]",
      "text/plain": [
       "<Figure size 640x480 with 1 Axes>"
      ]
     },
     "metadata": {},
     "output_type": "display_data"
    }
   ],
   "source": [
    "# KNN Optimization 1: Find Best K_nearest neighbor value\n",
    "train_scores = []\n",
    "test_scores = []\n",
    "\n",
    "for k in range(5, 25, 2):\n",
    "    # Use KNN Classifer Model\n",
    "    knn = KNeighborsClassifier(n_neighbors=k)\n",
    "    knn.fit(X_train_scaled, y_train)\n",
    "    \n",
    "    # Score for training\n",
    "    train_score = knn.score(X_train_scaled, y_train)\n",
    "    \n",
    "    # Score for the test\n",
    "    test_score = knn.score(X_test_scaled, y_test)\n",
    "    \n",
    "    # add the caculated scores to the list we just calculated\n",
    "    train_scores.append(train_score)\n",
    "    test_scores.append(test_score)\n",
    "    print(f\"k: {k}, Train Score: {train_score:.3f} | Test Score: {test_score:.3f}\")\n",
    "    \n",
    "# PyPlot Library: Plot the results\n",
    "# Plot training scores, we need the saved k range for x axis on plot\n",
    "# Optimal score would be 9, because that is where the testing scores are\n",
    "# better than our training data.  The first whole number after the testing \n",
    "# and training data cross\n",
    "plt.plot(range(5, 25, 2), train_scores, marker='o', label=\"training scores\")\n",
    "plt.plot(range(5, 25, 2), test_scores, marker=\"x\", label=\"testing scores\")\n",
    "plt.xlabel(\"k neighbors\")\n",
    "plt.ylabel(\"accuracy score\")\n",
    "plt.legend()\n",
    "plt.show()"
   ]
  },
  {
   "cell_type": "code",
   "execution_count": 19,
   "metadata": {},
   "outputs": [
    {
     "name": "stdout",
     "output_type": "stream",
     "text": [
      "k=21 Test Acc: 0.601\n"
     ]
    },
    {
     "name": "stderr",
     "output_type": "stream",
     "text": [
      "/Users/tlockhart/anaconda3/envs/dev/lib/python3.10/site-packages/sklearn/base.py:486: UserWarning: X has feature names, but KNeighborsClassifier was fitted without feature names\n",
      "  warnings.warn(\n"
     ]
    },
    {
     "name": "stdout",
     "output_type": "stream",
     "text": [
      "              precision    recall  f1-score   support\n",
      "\n",
      "           0       0.00      0.00      0.00       165\n",
      "           1       0.40      0.42      0.41       448\n",
      "           2       0.62      0.77      0.69       945\n",
      "           3       0.00      0.00      0.00        92\n",
      "\n",
      "    accuracy                           0.55      1650\n",
      "   macro avg       0.25      0.30      0.27      1650\n",
      "weighted avg       0.46      0.55      0.50      1650\n",
      "\n"
     ]
    },
    {
     "name": "stderr",
     "output_type": "stream",
     "text": [
      "/Users/tlockhart/anaconda3/envs/dev/lib/python3.10/site-packages/sklearn/metrics/_classification.py:1531: UndefinedMetricWarning: Precision is ill-defined and being set to 0.0 in labels with no predicted samples. Use `zero_division` parameter to control this behavior.\n",
      "  _warn_prf(average, modifier, f\"{metric.capitalize()} is\", len(result))\n",
      "/Users/tlockhart/anaconda3/envs/dev/lib/python3.10/site-packages/sklearn/metrics/_classification.py:1531: UndefinedMetricWarning: Precision is ill-defined and being set to 0.0 in labels with no predicted samples. Use `zero_division` parameter to control this behavior.\n",
      "  _warn_prf(average, modifier, f\"{metric.capitalize()} is\", len(result))\n",
      "/Users/tlockhart/anaconda3/envs/dev/lib/python3.10/site-packages/sklearn/metrics/_classification.py:1531: UndefinedMetricWarning: Precision is ill-defined and being set to 0.0 in labels with no predicted samples. Use `zero_division` parameter to control this behavior.\n",
      "  _warn_prf(average, modifier, f\"{metric.capitalize()} is\", len(result))\n"
     ]
    }
   ],
   "source": [
    "# KNN Optimation 1: Results with best KNN value:\n",
    "knn_21 = KNeighborsClassifier(n_neighbors=21)\n",
    "knn_21.fit(X_train_scaled, y_train)\n",
    "print('k=21 Test Acc: %.3f' % knn.score(X_test_scaled, y_test))\n",
    "predictions_knn_21 = knn_21.predict(X_test)\n",
    "target_names = [\"0\", \"1\", \"2\", \"3\"]\n",
    "print(classification_report(y_test, predictions_knn_21, target_names=target_names))"
   ]
  },
  {
   "cell_type": "code",
   "execution_count": 20,
   "metadata": {},
   "outputs": [
    {
     "name": "stderr",
     "output_type": "stream",
     "text": [
      "/Users/tlockhart/anaconda3/envs/dev/lib/python3.10/site-packages/sklearn/base.py:493: UserWarning: X does not have valid feature names, but KNeighborsClassifier was fitted with feature names\n",
      "  warnings.warn(\n"
     ]
    },
    {
     "name": "stdout",
     "output_type": "stream",
     "text": [
      "Untuned_Model Accuracy Score: 0.516\n",
      "              precision    recall  f1-score   support\n",
      "\n",
      "           0       0.18      0.05      0.08       165\n",
      "           1       0.46      0.58      0.52       448\n",
      "           2       0.68      0.71      0.70       945\n",
      "           3       0.60      0.32      0.41        92\n",
      "\n",
      "    accuracy                           0.59      1650\n",
      "   macro avg       0.48      0.42      0.43      1650\n",
      "weighted avg       0.57      0.59      0.57      1650\n",
      "\n"
     ]
    }
   ],
   "source": [
    "# KNN Optimization 2: Untuned KNN Model Classification Results\n",
    "untuned_model = KNeighborsClassifier(n_neighbors=5)\n",
    "untuned_model.fit(X_train, y_train)\n",
    "print('Untuned_Model Accuracy Score: %.3f' % untuned_model.score(X_test_scaled, y_test))\n",
    "# predicted\n",
    "predictions_untuned = untuned_model.predict(X_test)\n",
    "target_names = [\"0\", \"1\", \"2\", \"3\"]\n",
    "print(classification_report(y_test, predictions_untuned, target_names=target_names))"
   ]
  },
  {
   "cell_type": "code",
   "execution_count": 21,
   "metadata": {},
   "outputs": [],
   "source": [
    "# # KNN Option 2a: GridSearchCV Estimator\n",
    "# # NOT STOPPING: \n",
    "# # Find the best params to hypertune the model\n",
    "# grid_tuned_model = KNeighborsClassifier(n_neighbors=5)\n",
    "# # every other because it takes a long time, could do all\n",
    "\n",
    "# # create dictionary with parameters\n",
    "# grid_parameters = {\n",
    "#     \"n_neighbors\": np.arange(11, 21, 2),\n",
    "#     \"leaf_size\": np.arange(1, 501),\n",
    "#     \"weights\": [\"uniform\", \"distance\"]\n",
    "# }\n",
    "\n",
    "# # Create the instance of GridSearch CV model, with parameters\n",
    "# grid_model = GridSearchCV(grid_tuned_model, grid_parameters, verbose=3)\n",
    "\n",
    "# # Fit the model by using the grid search estimator.\n",
    "# grid_model.fit(X_train, y_train)\n",
    "# # List the best parameters for this dataset\n",
    "# # what is the best leafsize, and params\n",
    "# print(grid_model.best_params_)"
   ]
  },
  {
   "cell_type": "code",
   "execution_count": 22,
   "metadata": {},
   "outputs": [],
   "source": [
    "# # KNN Optimization 2b: Rerun model with GridSearchCV Best Fit Estimator\n",
    "# # Use the best parameters found\n",
    "# grid_tuned_model = KNeighborsClassifier(\n",
    "#     n_neighbors=15,  # Best fit value\n",
    "#     leaf_size=221,    # Best fit value\n",
    "#     weights=\"uniform\" # Best fit value\n",
    "#     )\n",
    "\n",
    "# grid_tuned_model.fit(X_train, y_train)\n",
    "# print('Random _Tuned_Model Accuracy Score: %.3f' % grid_tuned_model.score(X_test_scaled, y_test))\n",
    "\n",
    "# # List the best parameters for this dataset\n",
    "# print(\"BEST FIT:\", grid_tuned_model.best_params_)\n",
    "\n",
    "# # Make predictions with the hypertuned model\n",
    "# predictions_tuned = grid_tuned_model.predict(X_test)\n",
    "# target_names = [\"0\", \"1\", \"2\", \"3\"]\n",
    "# print(classification_report(y_test, predictions_tuned, target_names=target_names))"
   ]
  },
  {
   "cell_type": "code",
   "execution_count": 23,
   "metadata": {},
   "outputs": [
    {
     "name": "stdout",
     "output_type": "stream",
     "text": [
      "Fitting 5 folds for each of 10 candidates, totalling 50 fits\n",
      "[CV 1/5] END leaf_size=495, n_neighbors=9, weights=distance;, score=0.518 total time=   0.1s\n",
      "[CV 2/5] END leaf_size=495, n_neighbors=9, weights=distance;, score=0.579 total time=   0.1s\n",
      "[CV 3/5] END leaf_size=495, n_neighbors=9, weights=distance;, score=0.535 total time=   0.1s\n",
      "[CV 4/5] END leaf_size=495, n_neighbors=9, weights=distance;, score=0.558 total time=   0.1s\n",
      "[CV 5/5] END leaf_size=495, n_neighbors=9, weights=distance;, score=0.535 total time=   0.1s\n",
      "[CV 1/5] END leaf_size=420, n_neighbors=19, weights=distance;, score=0.540 total time=   0.1s\n",
      "[CV 2/5] END leaf_size=420, n_neighbors=19, weights=distance;, score=0.585 total time=   0.1s\n",
      "[CV 3/5] END leaf_size=420, n_neighbors=19, weights=distance;, score=0.544 total time=   0.1s\n",
      "[CV 4/5] END leaf_size=420, n_neighbors=19, weights=distance;, score=0.592 total time=   0.1s\n",
      "[CV 5/5] END leaf_size=420, n_neighbors=19, weights=distance;, score=0.554 total time=   0.1s\n",
      "[CV 1/5] END leaf_size=314, n_neighbors=13, weights=distance;, score=0.537 total time=   0.1s\n",
      "[CV 2/5] END leaf_size=314, n_neighbors=13, weights=distance;, score=0.578 total time=   0.1s\n",
      "[CV 3/5] END leaf_size=314, n_neighbors=13, weights=distance;, score=0.546 total time=   0.1s\n",
      "[CV 4/5] END leaf_size=314, n_neighbors=13, weights=distance;, score=0.571 total time=   0.1s\n",
      "[CV 5/5] END leaf_size=314, n_neighbors=13, weights=distance;, score=0.546 total time=   0.1s\n",
      "[CV 1/5] END leaf_size=337, n_neighbors=15, weights=distance;, score=0.534 total time=   0.1s\n",
      "[CV 2/5] END leaf_size=337, n_neighbors=15, weights=distance;, score=0.582 total time=   0.1s\n",
      "[CV 3/5] END leaf_size=337, n_neighbors=15, weights=distance;, score=0.562 total time=   0.1s\n",
      "[CV 4/5] END leaf_size=337, n_neighbors=15, weights=distance;, score=0.581 total time=   0.1s\n",
      "[CV 5/5] END leaf_size=337, n_neighbors=15, weights=distance;, score=0.548 total time=   0.1s\n",
      "[CV 1/5] END leaf_size=380, n_neighbors=19, weights=distance;, score=0.540 total time=   0.1s\n",
      "[CV 2/5] END leaf_size=380, n_neighbors=19, weights=distance;, score=0.585 total time=   0.1s\n",
      "[CV 3/5] END leaf_size=380, n_neighbors=19, weights=distance;, score=0.544 total time=   0.1s\n",
      "[CV 4/5] END leaf_size=380, n_neighbors=19, weights=distance;, score=0.592 total time=   0.1s\n",
      "[CV 5/5] END leaf_size=380, n_neighbors=19, weights=distance;, score=0.554 total time=   0.1s\n",
      "[CV 1/5] END leaf_size=117, n_neighbors=19, weights=uniform;, score=0.572 total time=   0.1s\n",
      "[CV 2/5] END leaf_size=117, n_neighbors=19, weights=uniform;, score=0.610 total time=   0.1s\n",
      "[CV 3/5] END leaf_size=117, n_neighbors=19, weights=uniform;, score=0.560 total time=   0.1s\n",
      "[CV 4/5] END leaf_size=117, n_neighbors=19, weights=uniform;, score=0.584 total time=   0.1s\n",
      "[CV 5/5] END leaf_size=117, n_neighbors=19, weights=uniform;, score=0.578 total time=   0.1s\n",
      "[CV 1/5] END leaf_size=302, n_neighbors=11, weights=uniform;, score=0.570 total time=   0.1s\n",
      "[CV 2/5] END leaf_size=302, n_neighbors=11, weights=uniform;, score=0.610 total time=   0.1s\n",
      "[CV 3/5] END leaf_size=302, n_neighbors=11, weights=uniform;, score=0.556 total time=   0.2s\n",
      "[CV 4/5] END leaf_size=302, n_neighbors=11, weights=uniform;, score=0.568 total time=   0.1s\n",
      "[CV 5/5] END leaf_size=302, n_neighbors=11, weights=uniform;, score=0.568 total time=   0.1s\n",
      "[CV 1/5] END leaf_size=190, n_neighbors=5, weights=uniform;, score=0.525 total time=   0.1s\n",
      "[CV 2/5] END leaf_size=190, n_neighbors=5, weights=uniform;, score=0.580 total time=   0.1s\n",
      "[CV 3/5] END leaf_size=190, n_neighbors=5, weights=uniform;, score=0.542 total time=   0.1s\n",
      "[CV 4/5] END leaf_size=190, n_neighbors=5, weights=uniform;, score=0.554 total time=   0.1s\n",
      "[CV 5/5] END leaf_size=190, n_neighbors=5, weights=uniform;, score=0.505 total time=   0.1s\n",
      "[CV 1/5] END leaf_size=397, n_neighbors=11, weights=uniform;, score=0.570 total time=   0.1s\n",
      "[CV 2/5] END leaf_size=397, n_neighbors=11, weights=uniform;, score=0.610 total time=   0.1s\n",
      "[CV 3/5] END leaf_size=397, n_neighbors=11, weights=uniform;, score=0.556 total time=   0.1s\n",
      "[CV 4/5] END leaf_size=397, n_neighbors=11, weights=uniform;, score=0.568 total time=   0.1s\n",
      "[CV 5/5] END leaf_size=397, n_neighbors=11, weights=uniform;, score=0.568 total time=   0.1s\n",
      "[CV 1/5] END leaf_size=263, n_neighbors=11, weights=distance;, score=0.536 total time=   0.1s\n",
      "[CV 2/5] END leaf_size=263, n_neighbors=11, weights=distance;, score=0.588 total time=   0.1s\n",
      "[CV 3/5] END leaf_size=263, n_neighbors=11, weights=distance;, score=0.539 total time=   0.1s\n",
      "[CV 4/5] END leaf_size=263, n_neighbors=11, weights=distance;, score=0.571 total time=   0.1s\n",
      "[CV 5/5] END leaf_size=263, n_neighbors=11, weights=distance;, score=0.548 total time=   0.1s\n",
      "BEST FIT: {'weights': 'uniform', 'n_neighbors': 19, 'leaf_size': 117}\n",
      "              precision    recall  f1-score   support\n",
      "\n",
      "           0       0.00      0.00      0.00       165\n",
      "           1       0.47      0.63      0.54       448\n",
      "           2       0.68      0.74      0.71       945\n",
      "           3       0.74      0.15      0.25        92\n",
      "\n",
      "    accuracy                           0.60      1650\n",
      "   macro avg       0.47      0.38      0.37      1650\n",
      "weighted avg       0.56      0.60      0.56      1650\n",
      "\n"
     ]
    },
    {
     "name": "stderr",
     "output_type": "stream",
     "text": [
      "/Users/tlockhart/anaconda3/envs/dev/lib/python3.10/site-packages/sklearn/metrics/_classification.py:1531: UndefinedMetricWarning: Precision is ill-defined and being set to 0.0 in labels with no predicted samples. Use `zero_division` parameter to control this behavior.\n",
      "  _warn_prf(average, modifier, f\"{metric.capitalize()} is\", len(result))\n",
      "/Users/tlockhart/anaconda3/envs/dev/lib/python3.10/site-packages/sklearn/metrics/_classification.py:1531: UndefinedMetricWarning: Precision is ill-defined and being set to 0.0 in labels with no predicted samples. Use `zero_division` parameter to control this behavior.\n",
      "  _warn_prf(average, modifier, f\"{metric.capitalize()} is\", len(result))\n",
      "/Users/tlockhart/anaconda3/envs/dev/lib/python3.10/site-packages/sklearn/metrics/_classification.py:1531: UndefinedMetricWarning: Precision is ill-defined and being set to 0.0 in labels with no predicted samples. Use `zero_division` parameter to control this behavior.\n",
      "  _warn_prf(average, modifier, f\"{metric.capitalize()} is\", len(result))\n"
     ]
    }
   ],
   "source": [
    "# KNN Optimiataion 2a:  RandomizedSearchCV Estimator\n",
    "random_tuned_model = KNeighborsClassifier(n_neighbors=5)\n",
    "random_parameters = {\n",
    "    \"n_neighbors\": np.arange(5, 21, 2),\n",
    "    \"leaf_size\": np.arange(1, 501),\n",
    "    \"weights\": [\"uniform\", \"distance\"]\n",
    "}\n",
    "\n",
    "random_tuned_model = RandomizedSearchCV(random_tuned_model, random_parameters, verbose=3)\n",
    "\n",
    "random_tuned_model.fit(X_train, y_train)\n",
    "\n",
    "target_names = [\"0\", \"1\", \"2\", \"3\"]\n",
    "\n",
    "# List the best parameters for this dataset\n",
    "print(\"BEST FIT:\", random_tuned_model.best_params_)\n",
    "\n",
    "# Make predictions with the hypertuned model\n",
    "predications_random = random_tuned_model.predict(X_test)\n",
    "print(classification_report(y_test, predications_random,target_names=target_names))\n"
   ]
  },
  {
   "cell_type": "code",
   "execution_count": 24,
   "metadata": {},
   "outputs": [
    {
     "name": "stderr",
     "output_type": "stream",
     "text": [
      "/Users/tlockhart/anaconda3/envs/dev/lib/python3.10/site-packages/sklearn/base.py:493: UserWarning: X does not have valid feature names, but KNeighborsClassifier was fitted with feature names\n",
      "  warnings.warn(\n"
     ]
    },
    {
     "name": "stdout",
     "output_type": "stream",
     "text": [
      "Random Model Accuracy Score: 0.532\n",
      "              precision    recall  f1-score   support\n",
      "\n",
      "           0       0.00      0.00      0.00       165\n",
      "           1       0.48      0.57      0.53       448\n",
      "           2       0.67      0.77      0.72       945\n",
      "           3       0.73      0.21      0.32        92\n",
      "\n",
      "    accuracy                           0.61      1650\n",
      "   macro avg       0.47      0.39      0.39      1650\n",
      "weighted avg       0.56      0.61      0.57      1650\n",
      "\n"
     ]
    }
   ],
   "source": [
    "# KNN Optimization 2b: Rerun model with RandomizedSearchCV Best Fit Estimator\n",
    "# Use the best parameters found\n",
    "random_tuned_model = KNeighborsClassifier(\n",
    "    n_neighbors=15,  # Best fit value\n",
    "    leaf_size=221,    # Best fit value\n",
    "    weights=\"uniform\" # Best fit value\n",
    "    )\n",
    "\n",
    "random_tuned_model.fit(X_train, y_train)\n",
    "print('Random Model Accuracy Score: %.3f' % random_tuned_model.score(X_test_scaled, y_test))\n",
    "\n",
    "# predicted\n",
    "predictions_tuned = random_tuned_model.predict(X_test)\n",
    "target_names = [\"0\", \"1\", \"2\", \"3\"]\n",
    "print(classification_report(y_test, predictions_tuned, target_names=target_names))"
   ]
  },
  {
   "cell_type": "code",
   "execution_count": 25,
   "metadata": {},
   "outputs": [
    {
     "name": "stdout",
     "output_type": "stream",
     "text": [
      "y_encoded:\n"
     ]
    },
    {
     "data": {
      "text/plain": [
       "2    3651\n",
       "1    1913\n",
       "0     652\n",
       "3     383\n",
       "Name: count, dtype: int64"
      ]
     },
     "metadata": {},
     "output_type": "display_data"
    },
    {
     "data": {
      "text/plain": [
       "'\\nClass 2 has 3651 samples (dominant class).\\nClass 1 has 1913 samples.\\nClass 0 has 652 samples.\\nClass 3 has 383 samples (least frequent).\\n'"
      ]
     },
     "execution_count": 25,
     "metadata": {},
     "output_type": "execute_result"
    }
   ],
   "source": [
    "# Optimization 3: RandomOverSampling and RandomUnderSampling\n",
    "# #Deterimine if  y_encoded is unbalaced:  \n",
    "# Results indicate uneven distribution, between class 3 (least) and 2 (most)\n",
    "# Recommendation: OverSampling\n",
    "\n",
    "\n",
    "print(\"y_encoded:\")\n",
    "display(pd.Series(y_encoded_1_dim).value_counts())\n",
    "'''\n",
    "Class 2 has 3651 samples (dominant class).\n",
    "Class 1 has 1913 samples.\n",
    "Class 0 has 652 samples.\n",
    "Class 3 has 383 samples (least frequent).\n",
    "'''"
   ]
  },
  {
   "cell_type": "code",
   "execution_count": 26,
   "metadata": {},
   "outputs": [
    {
     "name": "stdout",
     "output_type": "stream",
     "text": [
      "Oversampled Class Distribution\n",
      "1    2706\n",
      "2    2706\n",
      "3    2706\n",
      "0    2706\n",
      "Name: count, dtype: int64\n"
     ]
    }
   ],
   "source": [
    "# Optimization 3a: RandomOverSampling\n",
    "over_sampler = RandomOverSampler(sampling_strategy='auto', random_state=42)\n",
    "X_train_oversampled, y_train_oversampled = over_sampler.fit_resample(X_train, y_train)\n",
    "\n",
    "# Check new distribution\n",
    "print(\"Oversampled Class Distribution\")\n",
    "print(pd.Series(y_train_oversampled).value_counts())"
   ]
  },
  {
   "cell_type": "code",
   "execution_count": 27,
   "metadata": {},
   "outputs": [
    {
     "name": "stdout",
     "output_type": "stream",
     "text": [
      "KNN Score: 0.5066666666666667\n",
      "              precision    recall  f1-score   support\n",
      "\n",
      "           0       0.14      0.16      0.15       165\n",
      "           1       0.46      0.51      0.48       448\n",
      "           2       0.67      0.55      0.60       945\n",
      "           3       0.33      0.67      0.44        92\n",
      "\n",
      "    accuracy                           0.51      1650\n",
      "   macro avg       0.40      0.47      0.42      1650\n",
      "weighted avg       0.54      0.51      0.52      1650\n",
      "\n",
      "SVC Score: 0.4036363636363636\n",
      "              precision    recall  f1-score   support\n",
      "\n",
      "           0       0.13      0.58      0.22       165\n",
      "           1       0.52      0.40      0.45       448\n",
      "           2       0.78      0.34      0.48       945\n",
      "           3       0.38      0.71      0.49        92\n",
      "\n",
      "    accuracy                           0.40      1650\n",
      "   macro avg       0.45      0.51      0.41      1650\n",
      "weighted avg       0.62      0.40      0.45      1650\n",
      "\n",
      "DTC Score: 0.4672727272727273\n",
      "              precision    recall  f1-score   support\n",
      "\n",
      "           0       0.12      0.25      0.16       165\n",
      "           1       0.45      0.55      0.50       448\n",
      "           2       0.75      0.45      0.56       945\n",
      "           3       0.32      0.61      0.42        92\n",
      "\n",
      "    accuracy                           0.47      1650\n",
      "   macro avg       0.41      0.47      0.41      1650\n",
      "weighted avg       0.58      0.47      0.50      1650\n",
      "\n",
      "RFC Score: 0.4987878787878788\n",
      "              precision    recall  f1-score   support\n",
      "\n",
      "           0       0.12      0.20      0.15       165\n",
      "           1       0.46      0.62      0.53       448\n",
      "           2       0.76      0.47      0.58       945\n",
      "           3       0.36      0.68      0.47        92\n",
      "\n",
      "    accuracy                           0.50      1650\n",
      "   macro avg       0.43      0.50      0.43      1650\n",
      "weighted avg       0.59      0.50      0.52      1650\n",
      "\n",
      "ABC Score: 0.4696969696969697\n",
      "              precision    recall  f1-score   support\n",
      "\n",
      "           0       0.13      0.37      0.19       165\n",
      "           1       0.49      0.43      0.46       448\n",
      "           2       0.76      0.47      0.58       945\n",
      "           3       0.38      0.80      0.52        92\n",
      "\n",
      "    accuracy                           0.47      1650\n",
      "   macro avg       0.44      0.52      0.44      1650\n",
      "weighted avg       0.60      0.47      0.51      1650\n",
      "\n"
     ]
    }
   ],
   "source": [
    "# Optimization 3b: Rerun Models with RandomOverSampling dataset\n",
    "# Results Worse\n",
    "models = {\n",
    "    \"KNN\": KNeighborsClassifier(\n",
    "    n_neighbors=15,  # Best fit value\n",
    "    leaf_size=221,    # Best fit value\n",
    "    weights=\"uniform\" # Best fit value\n",
    "    ),\n",
    "    \"SVC\": SVC(kernel='rbf'),\n",
    "    \"DTC\": DecisionTreeClassifier(),\n",
    "    \"RFC\": RandomForestClassifier(),\n",
    "    \"ABC\": AdaBoostClassifier()\n",
    "}\n",
    "\n",
    "# Run models on the resampled training data\n",
    "for name, model in models.items():\n",
    "    # Create the pipeline\n",
    "    pipe = Pipeline([(\"Scale\", StandardScaler()), (name, model)])\n",
    "\n",
    "    # Fit the pipeline on the resampled training data\n",
    "    pipe.fit(X_train_oversampled, y_train_oversampled)\n",
    "\n",
    "    # Make predictions on the test set\n",
    "    y_pred = pipe.predict(X_test)\n",
    "\n",
    "    print(f'{name} Score: {pipe.score(X_test, y_test)}')\n",
    "    target_names = [\"0\", \"1\", \"2\", \"3\"]\n",
    "    print(classification_report(y_test, y_pred, target_names=target_names, zero_division=0))"
   ]
  },
  {
   "cell_type": "code",
   "execution_count": 28,
   "metadata": {},
   "outputs": [
    {
     "name": "stdout",
     "output_type": "stream",
     "text": [
      "0    291\n",
      "1    291\n",
      "2    291\n",
      "3    291\n",
      "Name: count, dtype: int64\n"
     ]
    }
   ],
   "source": [
    "# Optimization 4a: RandomUnderSampling:\n",
    "# Apply Random Under Sampling\n",
    "under_sampler = RandomUnderSampler(sampling_strategy='auto', random_state=1)\n",
    "X_train_undersampled, y_train_undersampled = under_sampler.fit_resample(X_train, y_train)\n",
    "\n",
    "# Check new distribution\n",
    "print(pd.Series(y_train_undersampled).value_counts())"
   ]
  },
  {
   "cell_type": "code",
   "execution_count": 29,
   "metadata": {},
   "outputs": [
    {
     "name": "stdout",
     "output_type": "stream",
     "text": [
      "Score: KNN; 0.27151515151515154\n",
      "KNN Score: 0.27151515151515154\n",
      "              precision    recall  f1-score   support\n",
      "\n",
      "           0       0.12      0.78      0.21       165\n",
      "           1       0.38      0.17      0.24       448\n",
      "           2       0.80      0.20      0.31       945\n",
      "           3       0.34      0.61      0.43        92\n",
      "\n",
      "    accuracy                           0.27      1650\n",
      "   macro avg       0.41      0.44      0.30      1650\n",
      "weighted avg       0.60      0.27      0.29      1650\n",
      "\n",
      "Score: SVC; 0.4\n",
      "SVC Score: 0.4\n",
      "              precision    recall  f1-score   support\n",
      "\n",
      "           0       0.14      0.39      0.20       165\n",
      "           1       0.46      0.57      0.51       448\n",
      "           2       0.79      0.28      0.42       945\n",
      "           3       0.26      0.78      0.39        92\n",
      "\n",
      "    accuracy                           0.40      1650\n",
      "   macro avg       0.41      0.51      0.38      1650\n",
      "weighted avg       0.60      0.40      0.42      1650\n",
      "\n",
      "Score: DTC; 0.3933333333333333\n",
      "DTC Score: 0.3933333333333333\n",
      "              precision    recall  f1-score   support\n",
      "\n",
      "           0       0.11      0.35      0.17       165\n",
      "           1       0.44      0.51      0.47       448\n",
      "           2       0.76      0.30      0.44       945\n",
      "           3       0.30      0.82      0.44        92\n",
      "\n",
      "    accuracy                           0.39      1650\n",
      "   macro avg       0.40      0.49      0.38      1650\n",
      "weighted avg       0.58      0.39      0.42      1650\n",
      "\n",
      "Score: RFC; 0.39212121212121215\n",
      "RFC Score: 0.39212121212121215\n",
      "              precision    recall  f1-score   support\n",
      "\n",
      "           0       0.11      0.28      0.16       165\n",
      "           1       0.42      0.54      0.47       448\n",
      "           2       0.73      0.29      0.42       945\n",
      "           3       0.28      0.89      0.43        92\n",
      "\n",
      "    accuracy                           0.39      1650\n",
      "   macro avg       0.39      0.50      0.37      1650\n",
      "weighted avg       0.56      0.39      0.41      1650\n",
      "\n",
      "Score: ABC; 0.4684848484848485\n",
      "ABC Score: 0.4684848484848485\n",
      "              precision    recall  f1-score   support\n",
      "\n",
      "           0       0.12      0.24      0.16       165\n",
      "           1       0.47      0.56      0.51       448\n",
      "           2       0.74      0.43      0.54       945\n",
      "           3       0.32      0.82      0.46        92\n",
      "\n",
      "    accuracy                           0.47      1650\n",
      "   macro avg       0.41      0.51      0.42      1650\n",
      "weighted avg       0.58      0.47      0.49      1650\n",
      "\n"
     ]
    }
   ],
   "source": [
    "# Optimization 4b: Rerun Models with UnderSampled data:\n",
    "# Results Worse\n",
    "models = {\n",
    "    \"KNN\": KNeighborsClassifier(n_neighbors=5),\n",
    "    \"SVC\": SVC(kernel='rbf'),\n",
    "    \"DTC\": DecisionTreeClassifier(),\n",
    "    \"RFC\": RandomForestClassifier(),\n",
    "    \"ABC\": AdaBoostClassifier()  \n",
    "}\n",
    "\n",
    "# Run models on the resampled training data\n",
    "for name, model in models.items():\n",
    "    # Create the pipeline\n",
    "    pipe = Pipeline([(\"Scale\", StandardScaler()), (name, model)])\n",
    "\n",
    "    # Fit the pipeline on the resampled training data\n",
    "    pipe.fit(X_train_undersampled, y_train_undersampled)\n",
    "\n",
    "    # Make predictions on the test set\n",
    "    y_pred = pipe.predict(X_test)\n",
    "\n",
    "    print(f'Score: {name}; {pipe.score(X_test, y_test)}')\n",
    "    print(f'{name} Score: {pipe.score(X_test, y_test)}')\n",
    "    target_names = [\"0\", \"1\", \"2\", \"3\"]\n",
    "    print(classification_report(y_test, y_pred, target_names=target_names, zero_division=0))\n"
   ]
  },
  {
   "cell_type": "code",
   "execution_count": 30,
   "metadata": {},
   "outputs": [
    {
     "name": "stdout",
     "output_type": "stream",
     "text": [
      "Classification Distribution\n",
      "3    2202\n",
      "0     629\n",
      "2     378\n",
      "1     290\n",
      "Name: count, dtype: int64\n"
     ]
    }
   ],
   "source": [
    "# Optimization 5a: SMOTEENN ReSampling:\n",
    "# Apply Random Under Sampling\n",
    "smt_sampler = SMOTEENN(sampling_strategy='auto', random_state=1)\n",
    "X_train_resampled, y_train_resampled = smt_sampler.fit_resample(X_train, y_train)\n",
    "\n",
    "# Check new distribution\n",
    "print(\"Classification Distribution\")\n",
    "print(pd.Series(y_train_resampled).value_counts())"
   ]
  },
  {
   "cell_type": "code",
   "execution_count": 31,
   "metadata": {},
   "outputs": [
    {
     "name": "stdout",
     "output_type": "stream",
     "text": [
      "KNN Score: 0.3903030303030303\n",
      "              precision    recall  f1-score   support\n",
      "\n",
      "           0       0.12      0.37      0.18       165\n",
      "           1       0.48      0.27      0.34       448\n",
      "           2       0.65      0.42      0.51       945\n",
      "           3       0.25      0.75      0.38        92\n",
      "\n",
      "    accuracy                           0.39      1650\n",
      "   macro avg       0.37      0.45      0.35      1650\n",
      "weighted avg       0.53      0.39      0.42      1650\n",
      "\n",
      "SVC Score: 0.34424242424242424\n",
      "              precision    recall  f1-score   support\n",
      "\n",
      "           0       0.12      0.52      0.20       165\n",
      "           1       0.51      0.31      0.39       448\n",
      "           2       0.75      0.28      0.41       945\n",
      "           3       0.25      0.86      0.38        92\n",
      "\n",
      "    accuracy                           0.34      1650\n",
      "   macro avg       0.41      0.49      0.34      1650\n",
      "weighted avg       0.59      0.34      0.38      1650\n",
      "\n",
      "DTC Score: 0.4109090909090909\n",
      "              precision    recall  f1-score   support\n",
      "\n",
      "           0       0.11      0.32      0.17       165\n",
      "           1       0.45      0.60      0.52       448\n",
      "           2       0.79      0.30      0.43       945\n",
      "           3       0.32      0.78      0.46        92\n",
      "\n",
      "    accuracy                           0.41      1650\n",
      "   macro avg       0.42      0.50      0.39      1650\n",
      "weighted avg       0.60      0.41      0.43      1650\n",
      "\n",
      "RFC Score: 0.3975757575757576\n",
      "              precision    recall  f1-score   support\n",
      "\n",
      "           0       0.11      0.39      0.17       165\n",
      "           1       0.51      0.22      0.31       448\n",
      "           2       0.64      0.44      0.52       945\n",
      "           3       0.33      0.84      0.47        92\n",
      "\n",
      "    accuracy                           0.40      1650\n",
      "   macro avg       0.40      0.47      0.37      1650\n",
      "weighted avg       0.53      0.40      0.43      1650\n",
      "\n",
      "ABC Score: 0.32727272727272727\n",
      "              precision    recall  f1-score   support\n",
      "\n",
      "           0       0.12      0.62      0.20       165\n",
      "           1       0.49      0.19      0.27       448\n",
      "           2       0.70      0.29      0.41       945\n",
      "           3       0.33      0.84      0.48        92\n",
      "\n",
      "    accuracy                           0.33      1650\n",
      "   macro avg       0.41      0.48      0.34      1650\n",
      "weighted avg       0.56      0.33      0.36      1650\n",
      "\n"
     ]
    }
   ],
   "source": [
    "# Optimization 5b: Rerun Models with SMOTEEN Resampled data:\n",
    "# Results Worse\n",
    "models = {\n",
    "    \"KNN\": KNeighborsClassifier(n_neighbors=5),\n",
    "    \"SVC\": SVC(kernel='rbf'),\n",
    "    \"DTC\": DecisionTreeClassifier(),\n",
    "    \"RFC\": RandomForestClassifier(),\n",
    "    \"ABC\": AdaBoostClassifier()\n",
    "}\n",
    "\n",
    "# Run models on the resampled training data\n",
    "for name, model in models.items():\n",
    "    # Create the pipeline\n",
    "    pipe = Pipeline([(\"Scale\", StandardScaler()), (name, model)])\n",
    "\n",
    "    # Fit the pipeline on the resampled training data\n",
    "    pipe.fit(X_train_resampled, y_train_resampled)\n",
    "\n",
    "    # Make predictions on the test set\n",
    "    y_pred = pipe.predict(X_test)\n",
    "\n",
    "    print(f'{name} Score: {pipe.score(X_test, y_test)}')\n",
    "    target_names = [\"0\", \"1\", \"2\", \"3\"]\n",
    "    print(classification_report(y_test, y_pred, target_names=target_names, zero_division=0))\n"
   ]
  },
  {
   "cell_type": "code",
   "execution_count": null,
   "metadata": {},
   "outputs": [
    {
     "name": "stdout",
     "output_type": "stream",
     "text": [
      "Fitting 5 folds for each of 10 candidates, totalling 50 fits\n"
     ]
    },
    {
     "name": "stderr",
     "output_type": "stream",
     "text": [
      "/Users/tlockhart/anaconda3/envs/dev/lib/python3.10/site-packages/sklearn/utils/validation.py:1339: DataConversionWarning: A column-vector y was passed when a 1d array was expected. Please change the shape of y to (n_samples, ), for example using ravel().\n",
      "  y = column_or_1d(y, warn=True)\n",
      "/Users/tlockhart/anaconda3/envs/dev/lib/python3.10/site-packages/sklearn/utils/validation.py:1339: DataConversionWarning: A column-vector y was passed when a 1d array was expected. Please change the shape of y to (n_samples, ), for example using ravel().\n",
      "  y = column_or_1d(y, warn=True)\n",
      "/Users/tlockhart/anaconda3/envs/dev/lib/python3.10/site-packages/sklearn/ensemble/_weight_boosting.py:527: FutureWarning: The SAMME.R algorithm (the default) is deprecated and will be removed in 1.6. Use the SAMME algorithm to circumvent this warning.\n",
      "  warnings.warn(\n",
      "/Users/tlockhart/anaconda3/envs/dev/lib/python3.10/site-packages/sklearn/ensemble/_weight_boosting.py:527: FutureWarning: The SAMME.R algorithm (the default) is deprecated and will be removed in 1.6. Use the SAMME algorithm to circumvent this warning.\n",
      "  warnings.warn(\n",
      "/Users/tlockhart/anaconda3/envs/dev/lib/python3.10/site-packages/sklearn/utils/validation.py:1339: DataConversionWarning: A column-vector y was passed when a 1d array was expected. Please change the shape of y to (n_samples, ), for example using ravel().\n",
      "  y = column_or_1d(y, warn=True)\n",
      "/Users/tlockhart/anaconda3/envs/dev/lib/python3.10/site-packages/sklearn/ensemble/_weight_boosting.py:527: FutureWarning: The SAMME.R algorithm (the default) is deprecated and will be removed in 1.6. Use the SAMME algorithm to circumvent this warning.\n",
      "  warnings.warn(\n",
      "/Users/tlockhart/anaconda3/envs/dev/lib/python3.10/site-packages/sklearn/utils/validation.py:1339: DataConversionWarning: A column-vector y was passed when a 1d array was expected. Please change the shape of y to (n_samples, ), for example using ravel().\n",
      "  y = column_or_1d(y, warn=True)\n",
      "/Users/tlockhart/anaconda3/envs/dev/lib/python3.10/site-packages/sklearn/utils/validation.py:1339: DataConversionWarning: A column-vector y was passed when a 1d array was expected. Please change the shape of y to (n_samples, ), for example using ravel().\n",
      "  y = column_or_1d(y, warn=True)\n",
      "/Users/tlockhart/anaconda3/envs/dev/lib/python3.10/site-packages/sklearn/utils/validation.py:1339: DataConversionWarning: A column-vector y was passed when a 1d array was expected. Please change the shape of y to (n_samples, ), for example using ravel().\n",
      "  y = column_or_1d(y, warn=True)\n",
      "/Users/tlockhart/anaconda3/envs/dev/lib/python3.10/site-packages/sklearn/utils/validation.py:1339: DataConversionWarning: A column-vector y was passed when a 1d array was expected. Please change the shape of y to (n_samples, ), for example using ravel().\n",
      "  y = column_or_1d(y, warn=True)\n",
      "/Users/tlockhart/anaconda3/envs/dev/lib/python3.10/site-packages/sklearn/ensemble/_weight_boosting.py:527: FutureWarning: The SAMME.R algorithm (the default) is deprecated and will be removed in 1.6. Use the SAMME algorithm to circumvent this warning.\n",
      "  warnings.warn(\n",
      "/Users/tlockhart/anaconda3/envs/dev/lib/python3.10/site-packages/sklearn/ensemble/_weight_boosting.py:527: FutureWarning: The SAMME.R algorithm (the default) is deprecated and will be removed in 1.6. Use the SAMME algorithm to circumvent this warning.\n",
      "  warnings.warn(\n",
      "/Users/tlockhart/anaconda3/envs/dev/lib/python3.10/site-packages/sklearn/ensemble/_weight_boosting.py:527: FutureWarning: The SAMME.R algorithm (the default) is deprecated and will be removed in 1.6. Use the SAMME algorithm to circumvent this warning.\n",
      "  warnings.warn(\n",
      "/Users/tlockhart/anaconda3/envs/dev/lib/python3.10/site-packages/sklearn/utils/validation.py:1339: DataConversionWarning: A column-vector y was passed when a 1d array was expected. Please change the shape of y to (n_samples, ), for example using ravel().\n",
      "  y = column_or_1d(y, warn=True)\n",
      "/Users/tlockhart/anaconda3/envs/dev/lib/python3.10/site-packages/sklearn/ensemble/_weight_boosting.py:527: FutureWarning: The SAMME.R algorithm (the default) is deprecated and will be removed in 1.6. Use the SAMME algorithm to circumvent this warning.\n",
      "  warnings.warn(\n",
      "/Users/tlockhart/anaconda3/envs/dev/lib/python3.10/site-packages/sklearn/utils/validation.py:1339: DataConversionWarning: A column-vector y was passed when a 1d array was expected. Please change the shape of y to (n_samples, ), for example using ravel().\n",
      "  y = column_or_1d(y, warn=True)\n",
      "/Users/tlockhart/anaconda3/envs/dev/lib/python3.10/site-packages/sklearn/ensemble/_weight_boosting.py:527: FutureWarning: The SAMME.R algorithm (the default) is deprecated and will be removed in 1.6. Use the SAMME algorithm to circumvent this warning.\n",
      "  warnings.warn(\n",
      "/Users/tlockhart/anaconda3/envs/dev/lib/python3.10/site-packages/sklearn/ensemble/_weight_boosting.py:527: FutureWarning: The SAMME.R algorithm (the default) is deprecated and will be removed in 1.6. Use the SAMME algorithm to circumvent this warning.\n",
      "  warnings.warn(\n",
      "/Users/tlockhart/anaconda3/envs/dev/lib/python3.10/site-packages/sklearn/utils/validation.py:1339: DataConversionWarning: A column-vector y was passed when a 1d array was expected. Please change the shape of y to (n_samples, ), for example using ravel().\n",
      "  y = column_or_1d(y, warn=True)\n",
      "/Users/tlockhart/anaconda3/envs/dev/lib/python3.10/site-packages/sklearn/ensemble/_weight_boosting.py:527: FutureWarning: The SAMME.R algorithm (the default) is deprecated and will be removed in 1.6. Use the SAMME algorithm to circumvent this warning.\n",
      "  warnings.warn(\n"
     ]
    },
    {
     "name": "stdout",
     "output_type": "stream",
     "text": [
      "[CV 5/5] END algorithm=SAMME.R, learning_rate=0.012742749857031334, n_estimators=74;, score=0.547 total time=   0.9s\n"
     ]
    },
    {
     "name": "stderr",
     "output_type": "stream",
     "text": [
      "/Users/tlockhart/anaconda3/envs/dev/lib/python3.10/site-packages/sklearn/utils/validation.py:1339: DataConversionWarning: A column-vector y was passed when a 1d array was expected. Please change the shape of y to (n_samples, ), for example using ravel().\n",
      "  y = column_or_1d(y, warn=True)\n",
      "/Users/tlockhart/anaconda3/envs/dev/lib/python3.10/site-packages/sklearn/ensemble/_weight_boosting.py:527: FutureWarning: The SAMME.R algorithm (the default) is deprecated and will be removed in 1.6. Use the SAMME algorithm to circumvent this warning.\n",
      "  warnings.warn(\n"
     ]
    },
    {
     "name": "stdout",
     "output_type": "stream",
     "text": [
      "[CV 1/5] END algorithm=SAMME.R, learning_rate=0.012742749857031334, n_estimators=74;, score=0.547 total time=   1.2s\n",
      "[CV 2/5] END algorithm=SAMME.R, learning_rate=0.012742749857031334, n_estimators=74;, score=0.546 total time=   1.2s\n",
      "[CV 4/5] END algorithm=SAMME.R, learning_rate=0.012742749857031334, n_estimators=74;, score=0.546 total time=   1.2s\n",
      "[CV 3/5] END algorithm=SAMME.R, learning_rate=0.012742749857031334, n_estimators=74;, score=0.546 total time=   1.3s\n"
     ]
    },
    {
     "name": "stderr",
     "output_type": "stream",
     "text": [
      "/Users/tlockhart/anaconda3/envs/dev/lib/python3.10/site-packages/sklearn/utils/validation.py:1339: DataConversionWarning: A column-vector y was passed when a 1d array was expected. Please change the shape of y to (n_samples, ), for example using ravel().\n",
      "  y = column_or_1d(y, warn=True)\n",
      "/Users/tlockhart/anaconda3/envs/dev/lib/python3.10/site-packages/sklearn/ensemble/_weight_boosting.py:527: FutureWarning: The SAMME.R algorithm (the default) is deprecated and will be removed in 1.6. Use the SAMME algorithm to circumvent this warning.\n",
      "  warnings.warn(\n",
      "/Users/tlockhart/anaconda3/envs/dev/lib/python3.10/site-packages/sklearn/utils/validation.py:1339: DataConversionWarning: A column-vector y was passed when a 1d array was expected. Please change the shape of y to (n_samples, ), for example using ravel().\n",
      "  y = column_or_1d(y, warn=True)\n",
      "/Users/tlockhart/anaconda3/envs/dev/lib/python3.10/site-packages/sklearn/ensemble/_weight_boosting.py:527: FutureWarning: The SAMME.R algorithm (the default) is deprecated and will be removed in 1.6. Use the SAMME algorithm to circumvent this warning.\n",
      "  warnings.warn(\n",
      "/Users/tlockhart/anaconda3/envs/dev/lib/python3.10/site-packages/sklearn/utils/validation.py:1339: DataConversionWarning: A column-vector y was passed when a 1d array was expected. Please change the shape of y to (n_samples, ), for example using ravel().\n",
      "  y = column_or_1d(y, warn=True)\n",
      "/Users/tlockhart/anaconda3/envs/dev/lib/python3.10/site-packages/sklearn/ensemble/_weight_boosting.py:527: FutureWarning: The SAMME.R algorithm (the default) is deprecated and will be removed in 1.6. Use the SAMME algorithm to circumvent this warning.\n",
      "  warnings.warn(\n",
      "/Users/tlockhart/anaconda3/envs/dev/lib/python3.10/site-packages/sklearn/utils/validation.py:1339: DataConversionWarning: A column-vector y was passed when a 1d array was expected. Please change the shape of y to (n_samples, ), for example using ravel().\n",
      "  y = column_or_1d(y, warn=True)\n",
      "/Users/tlockhart/anaconda3/envs/dev/lib/python3.10/site-packages/sklearn/ensemble/_weight_boosting.py:527: FutureWarning: The SAMME.R algorithm (the default) is deprecated and will be removed in 1.6. Use the SAMME algorithm to circumvent this warning.\n",
      "  warnings.warn(\n"
     ]
    },
    {
     "name": "stdout",
     "output_type": "stream",
     "text": [
      "[CV 4/5] END algorithm=SAMME.R, learning_rate=0.11288378916846883, n_estimators=150;, score=0.590 total time=   1.7s\n",
      "[CV 1/5] END algorithm=SAMME.R, learning_rate=0.11288378916846883, n_estimators=150;, score=0.558 total time=   1.8s\n",
      "[CV 2/5] END algorithm=SAMME.R, learning_rate=0.11288378916846883, n_estimators=150;, score=0.564 total time=   1.9s\n"
     ]
    },
    {
     "name": "stderr",
     "output_type": "stream",
     "text": [
      "/Users/tlockhart/anaconda3/envs/dev/lib/python3.10/site-packages/sklearn/utils/validation.py:1339: DataConversionWarning: A column-vector y was passed when a 1d array was expected. Please change the shape of y to (n_samples, ), for example using ravel().\n",
      "  y = column_or_1d(y, warn=True)\n",
      "/Users/tlockhart/anaconda3/envs/dev/lib/python3.10/site-packages/sklearn/ensemble/_weight_boosting.py:527: FutureWarning: The SAMME.R algorithm (the default) is deprecated and will be removed in 1.6. Use the SAMME algorithm to circumvent this warning.\n",
      "  warnings.warn(\n",
      "/Users/tlockhart/anaconda3/envs/dev/lib/python3.10/site-packages/sklearn/utils/validation.py:1339: DataConversionWarning: A column-vector y was passed when a 1d array was expected. Please change the shape of y to (n_samples, ), for example using ravel().\n",
      "  y = column_or_1d(y, warn=True)\n",
      "/Users/tlockhart/anaconda3/envs/dev/lib/python3.10/site-packages/sklearn/ensemble/_weight_boosting.py:527: FutureWarning: The SAMME.R algorithm (the default) is deprecated and will be removed in 1.6. Use the SAMME algorithm to circumvent this warning.\n",
      "  warnings.warn(\n",
      "/Users/tlockhart/anaconda3/envs/dev/lib/python3.10/site-packages/sklearn/utils/validation.py:1339: DataConversionWarning: A column-vector y was passed when a 1d array was expected. Please change the shape of y to (n_samples, ), for example using ravel().\n",
      "  y = column_or_1d(y, warn=True)\n",
      "/Users/tlockhart/anaconda3/envs/dev/lib/python3.10/site-packages/sklearn/ensemble/_weight_boosting.py:527: FutureWarning: The SAMME.R algorithm (the default) is deprecated and will be removed in 1.6. Use the SAMME algorithm to circumvent this warning.\n",
      "  warnings.warn(\n"
     ]
    },
    {
     "name": "stdout",
     "output_type": "stream",
     "text": [
      "[CV 5/5] END algorithm=SAMME.R, learning_rate=0.11288378916846883, n_estimators=150;, score=0.589 total time=   2.1s\n",
      "[CV 3/5] END algorithm=SAMME.R, learning_rate=0.11288378916846883, n_estimators=150;, score=0.589 total time=   2.2s\n"
     ]
    },
    {
     "name": "stderr",
     "output_type": "stream",
     "text": [
      "/Users/tlockhart/anaconda3/envs/dev/lib/python3.10/site-packages/sklearn/utils/validation.py:1339: DataConversionWarning: A column-vector y was passed when a 1d array was expected. Please change the shape of y to (n_samples, ), for example using ravel().\n",
      "  y = column_or_1d(y, warn=True)\n",
      "/Users/tlockhart/anaconda3/envs/dev/lib/python3.10/site-packages/sklearn/ensemble/_weight_boosting.py:527: FutureWarning: The SAMME.R algorithm (the default) is deprecated and will be removed in 1.6. Use the SAMME algorithm to circumvent this warning.\n",
      "  warnings.warn(\n",
      "/Users/tlockhart/anaconda3/envs/dev/lib/python3.10/site-packages/sklearn/utils/validation.py:1339: DataConversionWarning: A column-vector y was passed when a 1d array was expected. Please change the shape of y to (n_samples, ), for example using ravel().\n",
      "  y = column_or_1d(y, warn=True)\n",
      "/Users/tlockhart/anaconda3/envs/dev/lib/python3.10/site-packages/sklearn/ensemble/_weight_boosting.py:527: FutureWarning: The SAMME.R algorithm (the default) is deprecated and will be removed in 1.6. Use the SAMME algorithm to circumvent this warning.\n",
      "  warnings.warn(\n"
     ]
    },
    {
     "name": "stdout",
     "output_type": "stream",
     "text": [
      "[CV 4/5] END algorithm=SAMME.R, learning_rate=0.012742749857031334, n_estimators=110;, score=0.546 total time=   1.0s\n",
      "[CV 1/5] END algorithm=SAMME.R, learning_rate=0.012742749857031334, n_estimators=110;, score=0.547 total time=   1.3s\n",
      "[CV 3/5] END algorithm=SAMME.R, learning_rate=0.012742749857031334, n_estimators=110;, score=0.546 total time=   1.2s\n"
     ]
    },
    {
     "name": "stderr",
     "output_type": "stream",
     "text": [
      "/Users/tlockhart/anaconda3/envs/dev/lib/python3.10/site-packages/sklearn/utils/validation.py:1339: DataConversionWarning: A column-vector y was passed when a 1d array was expected. Please change the shape of y to (n_samples, ), for example using ravel().\n",
      "  y = column_or_1d(y, warn=True)\n",
      "/Users/tlockhart/anaconda3/envs/dev/lib/python3.10/site-packages/sklearn/ensemble/_weight_boosting.py:527: FutureWarning: The SAMME.R algorithm (the default) is deprecated and will be removed in 1.6. Use the SAMME algorithm to circumvent this warning.\n",
      "  warnings.warn(\n",
      "/Users/tlockhart/anaconda3/envs/dev/lib/python3.10/site-packages/sklearn/utils/validation.py:1339: DataConversionWarning: A column-vector y was passed when a 1d array was expected. Please change the shape of y to (n_samples, ), for example using ravel().\n",
      "  y = column_or_1d(y, warn=True)\n",
      "/Users/tlockhart/anaconda3/envs/dev/lib/python3.10/site-packages/sklearn/ensemble/_weight_boosting.py:527: FutureWarning: The SAMME.R algorithm (the default) is deprecated and will be removed in 1.6. Use the SAMME algorithm to circumvent this warning.\n",
      "  warnings.warn(\n",
      "/Users/tlockhart/anaconda3/envs/dev/lib/python3.10/site-packages/sklearn/utils/validation.py:1339: DataConversionWarning: A column-vector y was passed when a 1d array was expected. Please change the shape of y to (n_samples, ), for example using ravel().\n",
      "  y = column_or_1d(y, warn=True)\n",
      "/Users/tlockhart/anaconda3/envs/dev/lib/python3.10/site-packages/sklearn/ensemble/_weight_boosting.py:527: FutureWarning: The SAMME.R algorithm (the default) is deprecated and will be removed in 1.6. Use the SAMME algorithm to circumvent this warning.\n",
      "  warnings.warn(\n",
      "/Users/tlockhart/anaconda3/envs/dev/lib/python3.10/site-packages/sklearn/utils/validation.py:1339: DataConversionWarning: A column-vector y was passed when a 1d array was expected. Please change the shape of y to (n_samples, ), for example using ravel().\n",
      "  y = column_or_1d(y, warn=True)\n",
      "/Users/tlockhart/anaconda3/envs/dev/lib/python3.10/site-packages/sklearn/ensemble/_weight_boosting.py:527: FutureWarning: The SAMME.R algorithm (the default) is deprecated and will be removed in 1.6. Use the SAMME algorithm to circumvent this warning.\n",
      "  warnings.warn(\n"
     ]
    },
    {
     "name": "stdout",
     "output_type": "stream",
     "text": [
      "[CV 2/5] END algorithm=SAMME.R, learning_rate=0.012742749857031334, n_estimators=110;, score=0.546 total time=   1.3s\n",
      "[CV 5/5] END algorithm=SAMME.R, learning_rate=0.012742749857031334, n_estimators=110;, score=0.547 total time=   1.3s\n"
     ]
    },
    {
     "name": "stderr",
     "output_type": "stream",
     "text": [
      "/Users/tlockhart/anaconda3/envs/dev/lib/python3.10/site-packages/sklearn/utils/validation.py:1339: DataConversionWarning: A column-vector y was passed when a 1d array was expected. Please change the shape of y to (n_samples, ), for example using ravel().\n",
      "  y = column_or_1d(y, warn=True)\n",
      "/Users/tlockhart/anaconda3/envs/dev/lib/python3.10/site-packages/sklearn/ensemble/_weight_boosting.py:527: FutureWarning: The SAMME.R algorithm (the default) is deprecated and will be removed in 1.6. Use the SAMME algorithm to circumvent this warning.\n",
      "  warnings.warn(\n",
      "/Users/tlockhart/anaconda3/envs/dev/lib/python3.10/site-packages/sklearn/utils/validation.py:1339: DataConversionWarning: A column-vector y was passed when a 1d array was expected. Please change the shape of y to (n_samples, ), for example using ravel().\n",
      "  y = column_or_1d(y, warn=True)\n"
     ]
    },
    {
     "name": "stdout",
     "output_type": "stream",
     "text": [
      "[CV 1/5] END algorithm=SAMME.R, learning_rate=0.018329807108324356, n_estimators=136;, score=0.547 total time=   1.1s\n",
      "[CV 3/5] END algorithm=SAMME.R, learning_rate=0.018329807108324356, n_estimators=136;, score=0.546 total time=   1.1s\n"
     ]
    },
    {
     "name": "stderr",
     "output_type": "stream",
     "text": [
      "/Users/tlockhart/anaconda3/envs/dev/lib/python3.10/site-packages/sklearn/utils/validation.py:1339: DataConversionWarning: A column-vector y was passed when a 1d array was expected. Please change the shape of y to (n_samples, ), for example using ravel().\n",
      "  y = column_or_1d(y, warn=True)\n",
      "/Users/tlockhart/anaconda3/envs/dev/lib/python3.10/site-packages/sklearn/utils/validation.py:1339: DataConversionWarning: A column-vector y was passed when a 1d array was expected. Please change the shape of y to (n_samples, ), for example using ravel().\n",
      "  y = column_or_1d(y, warn=True)\n"
     ]
    },
    {
     "name": "stdout",
     "output_type": "stream",
     "text": [
      "[CV 4/5] END algorithm=SAMME.R, learning_rate=0.018329807108324356, n_estimators=136;, score=0.546 total time=   1.1s\n",
      "[CV 3/5] END algorithm=SAMME.R, learning_rate=0.4832930238571752, n_estimators=142;, score=0.604 total time=   1.1s\n",
      "[CV 2/5] END algorithm=SAMME.R, learning_rate=0.018329807108324356, n_estimators=136;, score=0.546 total time=   1.7s\n"
     ]
    },
    {
     "name": "stderr",
     "output_type": "stream",
     "text": [
      "/Users/tlockhart/anaconda3/envs/dev/lib/python3.10/site-packages/sklearn/utils/validation.py:1339: DataConversionWarning: A column-vector y was passed when a 1d array was expected. Please change the shape of y to (n_samples, ), for example using ravel().\n",
      "  y = column_or_1d(y, warn=True)\n",
      "/Users/tlockhart/anaconda3/envs/dev/lib/python3.10/site-packages/sklearn/utils/validation.py:1339: DataConversionWarning: A column-vector y was passed when a 1d array was expected. Please change the shape of y to (n_samples, ), for example using ravel().\n",
      "  y = column_or_1d(y, warn=True)\n"
     ]
    },
    {
     "name": "stdout",
     "output_type": "stream",
     "text": [
      "[CV 1/5] END algorithm=SAMME.R, learning_rate=0.4832930238571752, n_estimators=142;, score=0.566 total time=   1.5s\n",
      "[CV 5/5] END algorithm=SAMME.R, learning_rate=0.018329807108324356, n_estimators=136;, score=0.547 total time=   1.8s\n"
     ]
    },
    {
     "name": "stderr",
     "output_type": "stream",
     "text": [
      "/Users/tlockhart/anaconda3/envs/dev/lib/python3.10/site-packages/sklearn/utils/validation.py:1339: DataConversionWarning: A column-vector y was passed when a 1d array was expected. Please change the shape of y to (n_samples, ), for example using ravel().\n",
      "  y = column_or_1d(y, warn=True)\n",
      "/Users/tlockhart/anaconda3/envs/dev/lib/python3.10/site-packages/sklearn/utils/validation.py:1339: DataConversionWarning: A column-vector y was passed when a 1d array was expected. Please change the shape of y to (n_samples, ), for example using ravel().\n",
      "  y = column_or_1d(y, warn=True)\n",
      "/Users/tlockhart/anaconda3/envs/dev/lib/python3.10/site-packages/sklearn/utils/validation.py:1339: DataConversionWarning: A column-vector y was passed when a 1d array was expected. Please change the shape of y to (n_samples, ), for example using ravel().\n",
      "  y = column_or_1d(y, warn=True)\n"
     ]
    },
    {
     "name": "stdout",
     "output_type": "stream",
     "text": [
      "[CV 1/5] END algorithm=SAMME, learning_rate=0.23357214690901212, n_estimators=164;, score=0.547 total time=   1.2s\n",
      "[CV 2/5] END algorithm=SAMME.R, learning_rate=0.4832930238571752, n_estimators=142;, score=0.584 total time=   1.7s\n",
      "[CV 5/5] END algorithm=SAMME.R, learning_rate=0.4832930238571752, n_estimators=142;, score=0.600 total time=   1.5s\n",
      "[CV 2/5] END algorithm=SAMME, learning_rate=0.23357214690901212, n_estimators=164;, score=0.546 total time=   1.3s\n",
      "[CV 4/5] END algorithm=SAMME.R, learning_rate=0.4832930238571752, n_estimators=142;, score=0.598 total time=   1.7s\n"
     ]
    },
    {
     "name": "stderr",
     "output_type": "stream",
     "text": [
      "/Users/tlockhart/anaconda3/envs/dev/lib/python3.10/site-packages/sklearn/utils/validation.py:1339: DataConversionWarning: A column-vector y was passed when a 1d array was expected. Please change the shape of y to (n_samples, ), for example using ravel().\n",
      "  y = column_or_1d(y, warn=True)\n",
      "/Users/tlockhart/anaconda3/envs/dev/lib/python3.10/site-packages/sklearn/utils/validation.py:1339: DataConversionWarning: A column-vector y was passed when a 1d array was expected. Please change the shape of y to (n_samples, ), for example using ravel().\n",
      "  y = column_or_1d(y, warn=True)\n",
      "/Users/tlockhart/anaconda3/envs/dev/lib/python3.10/site-packages/sklearn/utils/validation.py:1339: DataConversionWarning: A column-vector y was passed when a 1d array was expected. Please change the shape of y to (n_samples, ), for example using ravel().\n",
      "  y = column_or_1d(y, warn=True)\n",
      "/Users/tlockhart/anaconda3/envs/dev/lib/python3.10/site-packages/sklearn/utils/validation.py:1339: DataConversionWarning: A column-vector y was passed when a 1d array was expected. Please change the shape of y to (n_samples, ), for example using ravel().\n",
      "  y = column_or_1d(y, warn=True)\n"
     ]
    },
    {
     "name": "stdout",
     "output_type": "stream",
     "text": [
      "[CV 3/5] END algorithm=SAMME, learning_rate=0.23357214690901212, n_estimators=164;, score=0.545 total time=   1.7s\n",
      "[CV 1/5] END algorithm=SAMME, learning_rate=0.008858667904100823, n_estimators=80;, score=0.547 total time=   0.8s\n"
     ]
    },
    {
     "name": "stderr",
     "output_type": "stream",
     "text": [
      "/Users/tlockhart/anaconda3/envs/dev/lib/python3.10/site-packages/sklearn/utils/validation.py:1339: DataConversionWarning: A column-vector y was passed when a 1d array was expected. Please change the shape of y to (n_samples, ), for example using ravel().\n",
      "  y = column_or_1d(y, warn=True)\n",
      "/Users/tlockhart/anaconda3/envs/dev/lib/python3.10/site-packages/sklearn/utils/validation.py:1339: DataConversionWarning: A column-vector y was passed when a 1d array was expected. Please change the shape of y to (n_samples, ), for example using ravel().\n",
      "  y = column_or_1d(y, warn=True)\n"
     ]
    },
    {
     "name": "stdout",
     "output_type": "stream",
     "text": [
      "[CV 5/5] END algorithm=SAMME, learning_rate=0.23357214690901212, n_estimators=164;, score=0.547 total time=   1.8s\n",
      "[CV 2/5] END algorithm=SAMME, learning_rate=0.008858667904100823, n_estimators=80;, score=0.546 total time=   1.2s\n"
     ]
    },
    {
     "name": "stderr",
     "output_type": "stream",
     "text": [
      "/Users/tlockhart/anaconda3/envs/dev/lib/python3.10/site-packages/sklearn/utils/validation.py:1339: DataConversionWarning: A column-vector y was passed when a 1d array was expected. Please change the shape of y to (n_samples, ), for example using ravel().\n",
      "  y = column_or_1d(y, warn=True)\n",
      "/Users/tlockhart/anaconda3/envs/dev/lib/python3.10/site-packages/sklearn/utils/validation.py:1339: DataConversionWarning: A column-vector y was passed when a 1d array was expected. Please change the shape of y to (n_samples, ), for example using ravel().\n",
      "  y = column_or_1d(y, warn=True)\n"
     ]
    },
    {
     "name": "stdout",
     "output_type": "stream",
     "text": [
      "[CV 4/5] END algorithm=SAMME, learning_rate=0.23357214690901212, n_estimators=164;, score=0.547 total time=   2.2s\n",
      "[CV 3/5] END algorithm=SAMME, learning_rate=0.008858667904100823, n_estimators=80;, score=0.546 total time=   1.0s\n"
     ]
    },
    {
     "name": "stderr",
     "output_type": "stream",
     "text": [
      "/Users/tlockhart/anaconda3/envs/dev/lib/python3.10/site-packages/sklearn/utils/validation.py:1339: DataConversionWarning: A column-vector y was passed when a 1d array was expected. Please change the shape of y to (n_samples, ), for example using ravel().\n",
      "  y = column_or_1d(y, warn=True)\n",
      "/Users/tlockhart/anaconda3/envs/dev/lib/python3.10/site-packages/sklearn/utils/validation.py:1339: DataConversionWarning: A column-vector y was passed when a 1d array was expected. Please change the shape of y to (n_samples, ), for example using ravel().\n",
      "  y = column_or_1d(y, warn=True)\n",
      "/Users/tlockhart/anaconda3/envs/dev/lib/python3.10/site-packages/sklearn/utils/validation.py:1339: DataConversionWarning: A column-vector y was passed when a 1d array was expected. Please change the shape of y to (n_samples, ), for example using ravel().\n",
      "  y = column_or_1d(y, warn=True)\n",
      "/Users/tlockhart/anaconda3/envs/dev/lib/python3.10/site-packages/sklearn/utils/validation.py:1339: DataConversionWarning: A column-vector y was passed when a 1d array was expected. Please change the shape of y to (n_samples, ), for example using ravel().\n",
      "  y = column_or_1d(y, warn=True)\n"
     ]
    },
    {
     "name": "stdout",
     "output_type": "stream",
     "text": [
      "[CV 1/5] END algorithm=SAMME, learning_rate=0.004281332398719396, n_estimators=50;, score=0.547 total time=   0.5s\n",
      "[CV 4/5] END algorithm=SAMME, learning_rate=0.008858667904100823, n_estimators=80;, score=0.546 total time=   1.0s\n",
      "[CV 2/5] END algorithm=SAMME, learning_rate=0.004281332398719396, n_estimators=50;, score=0.546 total time=   0.6s\n",
      "[CV 5/5] END algorithm=SAMME, learning_rate=0.008858667904100823, n_estimators=80;, score=0.547 total time=   0.9s\n",
      "[CV 5/5] END algorithm=SAMME, learning_rate=0.1623776739188721, n_estimators=192;, score=0.546 total time=   2.2s\n",
      "[CV 4/5] END algorithm=SAMME, learning_rate=0.1623776739188721, n_estimators=192;, score=0.546 total time=   2.3s\n"
     ]
    },
    {
     "name": "stderr",
     "output_type": "stream",
     "text": [
      "/Users/tlockhart/anaconda3/envs/dev/lib/python3.10/site-packages/sklearn/utils/validation.py:1339: DataConversionWarning: A column-vector y was passed when a 1d array was expected. Please change the shape of y to (n_samples, ), for example using ravel().\n",
      "  y = column_or_1d(y, warn=True)\n",
      "/Users/tlockhart/anaconda3/envs/dev/lib/python3.10/site-packages/sklearn/utils/validation.py:1339: DataConversionWarning: A column-vector y was passed when a 1d array was expected. Please change the shape of y to (n_samples, ), for example using ravel().\n",
      "  y = column_or_1d(y, warn=True)\n",
      "/Users/tlockhart/anaconda3/envs/dev/lib/python3.10/site-packages/sklearn/utils/validation.py:1339: DataConversionWarning: A column-vector y was passed when a 1d array was expected. Please change the shape of y to (n_samples, ), for example using ravel().\n",
      "  y = column_or_1d(y, warn=True)\n"
     ]
    },
    {
     "name": "stdout",
     "output_type": "stream",
     "text": [
      "[CV 1/5] END algorithm=SAMME, learning_rate=0.1623776739188721, n_estimators=192;, score=0.547 total time=   2.7s\n",
      "[CV 3/5] END algorithm=SAMME, learning_rate=0.004281332398719396, n_estimators=50;, score=0.546 total time=   0.6s\n",
      "[CV 5/5] END algorithm=SAMME, learning_rate=0.004281332398719396, n_estimators=50;, score=0.547 total time=   0.5s\n",
      "[CV 2/5] END algorithm=SAMME, learning_rate=0.1623776739188721, n_estimators=192;, score=0.547 total time=   2.7s\n",
      "[CV 4/5] END algorithm=SAMME, learning_rate=0.004281332398719396, n_estimators=50;, score=0.546 total time=   0.7s\n"
     ]
    },
    {
     "name": "stderr",
     "output_type": "stream",
     "text": [
      "/Users/tlockhart/anaconda3/envs/dev/lib/python3.10/site-packages/sklearn/utils/validation.py:1339: DataConversionWarning: A column-vector y was passed when a 1d array was expected. Please change the shape of y to (n_samples, ), for example using ravel().\n",
      "  y = column_or_1d(y, warn=True)\n",
      "/Users/tlockhart/anaconda3/envs/dev/lib/python3.10/site-packages/sklearn/utils/validation.py:1339: DataConversionWarning: A column-vector y was passed when a 1d array was expected. Please change the shape of y to (n_samples, ), for example using ravel().\n",
      "  y = column_or_1d(y, warn=True)\n"
     ]
    },
    {
     "name": "stdout",
     "output_type": "stream",
     "text": [
      "[CV 3/5] END algorithm=SAMME, learning_rate=0.1623776739188721, n_estimators=192;, score=0.546 total time=   2.7s\n",
      "[CV 3/5] END algorithm=SAMME, learning_rate=0.0379269019073225, n_estimators=86;, score=0.546 total time=   0.7s\n",
      "[CV 1/5] END algorithm=SAMME, learning_rate=0.0379269019073225, n_estimators=86;, score=0.547 total time=   0.8s\n",
      "[CV 2/5] END algorithm=SAMME, learning_rate=0.0379269019073225, n_estimators=86;, score=0.546 total time=   0.8s\n",
      "[CV 4/5] END algorithm=SAMME, learning_rate=0.0379269019073225, n_estimators=86;, score=0.546 total time=   0.7s\n",
      "[CV 5/5] END algorithm=SAMME, learning_rate=0.0379269019073225, n_estimators=86;, score=0.547 total time=   0.7s\n"
     ]
    }
   ],
   "source": [
    "# Optimization 6a: AdaBoost RandomizedSearchCV Estimator\n",
    "random_tuned_model = AdaBoostClassifier()\n",
    "# AdaBoost Parameter Grid\n",
    "param_grid = {\n",
    "    \"n_estimators\": np.arange(50, 201, 2),  # Example: Number of weak learners\n",
    "    \"learning_rate\": np.logspace(-3, 0, 20),  # Example: Learning rate (log scale)\n",
    "    \"algorithm\": ['SAMME', 'SAMME.R'] #SAMME.R converges faster\n",
    "}\n",
    "\n",
    "# RandomizedSearchCV for AdaBoost\n",
    "random_tuned_model = RandomizedSearchCV(\n",
    "    AdaBoostClassifier(), \n",
    "    param_grid, \n",
    "    n_iter=10, \n",
    "    cv=5, \n",
    "    verbose=3, \n",
    "    n_jobs=-1, \n",
    "    scoring='accuracy', #Added scoring and cross validation\n",
    "    random_state=61 #Added random state\n",
    ")\n",
    "\n",
    "random_tuned_model.fit(X_train, y_train)\n",
    "\n",
    "target_names = [\"0\", \"1\", \"2\", \"3\"]\n",
    "\n",
    "# Best Parameters\n",
    "print(\"BEST FIT:\", random_tuned_model.best_params_)\n",
    "\n",
    "# Predictions\n",
    "predictions_random = random_tuned_model.predict(X_test)\n",
    "print(classification_report(y_test, predictions_random, target_names=target_names))"
   ]
  },
  {
   "cell_type": "code",
   "execution_count": null,
   "metadata": {},
   "outputs": [
    {
     "name": "stdout",
     "output_type": "stream",
     "text": [
      "AdaBoost Score: 0.6321212121212121\n",
      "              precision    recall  f1-score   support\n",
      "\n",
      "           0       0.50      0.01      0.01       165\n",
      "           1       0.53      0.49      0.51       448\n",
      "           2       0.67      0.83      0.74       945\n",
      "           3       0.64      0.41      0.50        92\n",
      "\n",
      "    accuracy                           0.63      1650\n",
      "   macro avg       0.59      0.43      0.44      1650\n",
      "weighted avg       0.61      0.63      0.59      1650\n",
      "\n"
     ]
    }
   ],
   "source": [
    "# Optimization 6b: Rerun AdaBoost with RandomizedSearchCV Best Fit:\n",
    "\n",
    "best_params = {\n",
    "    'n_estimators': 142, \n",
    "    'learning_rate': 0.4832930238571752, \n",
    "    'algorithm': 'SAMME.R',\n",
    "    'random_state': 61}\n",
    "\n",
    "# Create and train the AdaBoost classifier with the best parameters\n",
    "best_ada = AdaBoostClassifier(**best_params)  # Use ** to unpack the dictionary\n",
    "best_ada.fit(X_train, y_train)\n",
    "\n",
    "# Make predictions on the test set\n",
    "predictions = best_ada.predict(X_test)\n",
    "\n",
    "print(f'AdaBoost Score: {best_ada.score(X_test, y_test)}')\n",
    "\n",
    "\n",
    "# Evaluate the model\n",
    "target_names = [\"0\", \"1\", \"2\", \"3\"]  # Your target names\n",
    "print(classification_report(y_test, predictions, target_names=target_names))\n",
    "\n",
    "# #If you want to use the model later, you can save it.\n",
    "# import joblib\n",
    "# joblib.dump(best_ada, 'adaboost_model.pkl') #Save the model\n",
    "# #To load the model later:\n",
    "# #loaded_ada = joblib.load('adaboost_model.pkl')"
   ]
  },
  {
   "cell_type": "code",
   "execution_count": null,
   "metadata": {},
   "outputs": [
    {
     "name": "stdout",
     "output_type": "stream",
     "text": [
      "Fitting 5 folds for each of 10 candidates, totalling 50 fits\n"
     ]
    },
    {
     "name": "stderr",
     "output_type": "stream",
     "text": [
      "/Users/tlockhart/anaconda3/envs/dev/lib/python3.10/site-packages/sklearn/base.py:1473: DataConversionWarning: A column-vector y was passed when a 1d array was expected. Please change the shape of y to (n_samples,), for example using ravel().\n",
      "  return fit_method(estimator, *args, **kwargs)\n",
      "/Users/tlockhart/anaconda3/envs/dev/lib/python3.10/site-packages/sklearn/base.py:1473: DataConversionWarning: A column-vector y was passed when a 1d array was expected. Please change the shape of y to (n_samples,), for example using ravel().\n",
      "  return fit_method(estimator, *args, **kwargs)\n",
      "/Users/tlockhart/anaconda3/envs/dev/lib/python3.10/site-packages/sklearn/base.py:1473: DataConversionWarning: A column-vector y was passed when a 1d array was expected. Please change the shape of y to (n_samples,), for example using ravel().\n",
      "  return fit_method(estimator, *args, **kwargs)\n",
      "/Users/tlockhart/anaconda3/envs/dev/lib/python3.10/site-packages/sklearn/base.py:1473: DataConversionWarning: A column-vector y was passed when a 1d array was expected. Please change the shape of y to (n_samples,), for example using ravel().\n",
      "  return fit_method(estimator, *args, **kwargs)\n",
      "/Users/tlockhart/anaconda3/envs/dev/lib/python3.10/site-packages/sklearn/base.py:1473: DataConversionWarning: A column-vector y was passed when a 1d array was expected. Please change the shape of y to (n_samples,), for example using ravel().\n",
      "  return fit_method(estimator, *args, **kwargs)\n",
      "/Users/tlockhart/anaconda3/envs/dev/lib/python3.10/site-packages/sklearn/base.py:1473: DataConversionWarning: A column-vector y was passed when a 1d array was expected. Please change the shape of y to (n_samples,), for example using ravel().\n",
      "  return fit_method(estimator, *args, **kwargs)\n",
      "/Users/tlockhart/anaconda3/envs/dev/lib/python3.10/site-packages/sklearn/base.py:1473: DataConversionWarning: A column-vector y was passed when a 1d array was expected. Please change the shape of y to (n_samples,), for example using ravel().\n",
      "  return fit_method(estimator, *args, **kwargs)\n",
      "/Users/tlockhart/anaconda3/envs/dev/lib/python3.10/site-packages/sklearn/base.py:1473: DataConversionWarning: A column-vector y was passed when a 1d array was expected. Please change the shape of y to (n_samples,), for example using ravel().\n",
      "  return fit_method(estimator, *args, **kwargs)\n",
      "/Users/tlockhart/anaconda3/envs/dev/lib/python3.10/site-packages/sklearn/base.py:1473: DataConversionWarning: A column-vector y was passed when a 1d array was expected. Please change the shape of y to (n_samples,), for example using ravel().\n",
      "  return fit_method(estimator, *args, **kwargs)\n",
      "/Users/tlockhart/anaconda3/envs/dev/lib/python3.10/site-packages/sklearn/base.py:1473: DataConversionWarning: A column-vector y was passed when a 1d array was expected. Please change the shape of y to (n_samples,), for example using ravel().\n",
      "  return fit_method(estimator, *args, **kwargs)\n"
     ]
    },
    {
     "name": "stdout",
     "output_type": "stream",
     "text": [
      "[CV 1/5] END bootstrap=False, max_depth=40, min_samples_leaf=4, min_samples_split=5, n_estimators=70;, score=0.591 total time=   0.5s\n",
      "[CV 5/5] END bootstrap=False, max_depth=40, min_samples_leaf=4, min_samples_split=5, n_estimators=70;, score=0.599 total time=   0.5s\n",
      "[CV 4/5] END bootstrap=False, max_depth=40, min_samples_leaf=4, min_samples_split=5, n_estimators=70;, score=0.601 total time=   0.6s\n",
      "[CV 2/5] END bootstrap=False, max_depth=40, min_samples_leaf=4, min_samples_split=5, n_estimators=70;, score=0.605 total time=   0.6s\n",
      "[CV 3/5] END bootstrap=False, max_depth=40, min_samples_leaf=4, min_samples_split=5, n_estimators=70;, score=0.587 total time=   0.6s\n",
      "[CV 1/5] END bootstrap=False, max_depth=50, min_samples_leaf=2, min_samples_split=2, n_estimators=80;, score=0.588 total time=   0.7s\n",
      "[CV 3/5] END bootstrap=False, max_depth=50, min_samples_leaf=2, min_samples_split=2, n_estimators=80;, score=0.595 total time=   0.7s\n"
     ]
    },
    {
     "name": "stderr",
     "output_type": "stream",
     "text": [
      "/Users/tlockhart/anaconda3/envs/dev/lib/python3.10/site-packages/sklearn/base.py:1473: DataConversionWarning: A column-vector y was passed when a 1d array was expected. Please change the shape of y to (n_samples,), for example using ravel().\n",
      "  return fit_method(estimator, *args, **kwargs)\n",
      "/Users/tlockhart/anaconda3/envs/dev/lib/python3.10/site-packages/sklearn/base.py:1473: DataConversionWarning: A column-vector y was passed when a 1d array was expected. Please change the shape of y to (n_samples,), for example using ravel().\n",
      "  return fit_method(estimator, *args, **kwargs)\n",
      "/Users/tlockhart/anaconda3/envs/dev/lib/python3.10/site-packages/sklearn/base.py:1473: DataConversionWarning: A column-vector y was passed when a 1d array was expected. Please change the shape of y to (n_samples,), for example using ravel().\n",
      "  return fit_method(estimator, *args, **kwargs)\n",
      "/Users/tlockhart/anaconda3/envs/dev/lib/python3.10/site-packages/sklearn/base.py:1473: DataConversionWarning: A column-vector y was passed when a 1d array was expected. Please change the shape of y to (n_samples,), for example using ravel().\n",
      "  return fit_method(estimator, *args, **kwargs)\n",
      "/Users/tlockhart/anaconda3/envs/dev/lib/python3.10/site-packages/sklearn/base.py:1473: DataConversionWarning: A column-vector y was passed when a 1d array was expected. Please change the shape of y to (n_samples,), for example using ravel().\n",
      "  return fit_method(estimator, *args, **kwargs)\n",
      "/Users/tlockhart/anaconda3/envs/dev/lib/python3.10/site-packages/sklearn/base.py:1473: DataConversionWarning: A column-vector y was passed when a 1d array was expected. Please change the shape of y to (n_samples,), for example using ravel().\n",
      "  return fit_method(estimator, *args, **kwargs)\n",
      "/Users/tlockhart/anaconda3/envs/dev/lib/python3.10/site-packages/sklearn/base.py:1473: DataConversionWarning: A column-vector y was passed when a 1d array was expected. Please change the shape of y to (n_samples,), for example using ravel().\n",
      "  return fit_method(estimator, *args, **kwargs)\n"
     ]
    },
    {
     "name": "stdout",
     "output_type": "stream",
     "text": [
      "[CV 5/5] END bootstrap=False, max_depth=50, min_samples_leaf=2, min_samples_split=2, n_estimators=80;, score=0.600 total time=   0.8s\n",
      "[CV 2/5] END bootstrap=False, max_depth=50, min_samples_leaf=2, min_samples_split=2, n_estimators=80;, score=0.612 total time=   0.8s\n",
      "[CV 4/5] END bootstrap=False, max_depth=50, min_samples_leaf=2, min_samples_split=2, n_estimators=80;, score=0.601 total time=   0.8s\n"
     ]
    },
    {
     "name": "stderr",
     "output_type": "stream",
     "text": [
      "/Users/tlockhart/anaconda3/envs/dev/lib/python3.10/site-packages/sklearn/base.py:1473: DataConversionWarning: A column-vector y was passed when a 1d array was expected. Please change the shape of y to (n_samples,), for example using ravel().\n",
      "  return fit_method(estimator, *args, **kwargs)\n",
      "/Users/tlockhart/anaconda3/envs/dev/lib/python3.10/site-packages/sklearn/base.py:1473: DataConversionWarning: A column-vector y was passed when a 1d array was expected. Please change the shape of y to (n_samples,), for example using ravel().\n",
      "  return fit_method(estimator, *args, **kwargs)\n",
      "/Users/tlockhart/anaconda3/envs/dev/lib/python3.10/site-packages/sklearn/base.py:1473: DataConversionWarning: A column-vector y was passed when a 1d array was expected. Please change the shape of y to (n_samples,), for example using ravel().\n",
      "  return fit_method(estimator, *args, **kwargs)\n"
     ]
    },
    {
     "name": "stdout",
     "output_type": "stream",
     "text": [
      "[CV 1/5] END bootstrap=True, max_depth=None, min_samples_leaf=1, min_samples_split=5, n_estimators=50;, score=0.564 total time=   0.4s\n",
      "[CV 3/5] END bootstrap=True, max_depth=None, min_samples_leaf=1, min_samples_split=5, n_estimators=50;, score=0.581 total time=   0.4s\n",
      "[CV 2/5] END bootstrap=True, max_depth=None, min_samples_leaf=1, min_samples_split=5, n_estimators=50;, score=0.608 total time=   0.4s\n",
      "[CV 5/5] END bootstrap=True, max_depth=None, min_samples_leaf=1, min_samples_split=5, n_estimators=50;, score=0.583 total time=   0.4s\n"
     ]
    },
    {
     "name": "stderr",
     "output_type": "stream",
     "text": [
      "/Users/tlockhart/anaconda3/envs/dev/lib/python3.10/site-packages/sklearn/base.py:1473: DataConversionWarning: A column-vector y was passed when a 1d array was expected. Please change the shape of y to (n_samples,), for example using ravel().\n",
      "  return fit_method(estimator, *args, **kwargs)\n",
      "/Users/tlockhart/anaconda3/envs/dev/lib/python3.10/site-packages/sklearn/base.py:1473: DataConversionWarning: A column-vector y was passed when a 1d array was expected. Please change the shape of y to (n_samples,), for example using ravel().\n",
      "  return fit_method(estimator, *args, **kwargs)\n",
      "/Users/tlockhart/anaconda3/envs/dev/lib/python3.10/site-packages/sklearn/base.py:1473: DataConversionWarning: A column-vector y was passed when a 1d array was expected. Please change the shape of y to (n_samples,), for example using ravel().\n",
      "  return fit_method(estimator, *args, **kwargs)\n",
      "/Users/tlockhart/anaconda3/envs/dev/lib/python3.10/site-packages/sklearn/base.py:1473: DataConversionWarning: A column-vector y was passed when a 1d array was expected. Please change the shape of y to (n_samples,), for example using ravel().\n",
      "  return fit_method(estimator, *args, **kwargs)\n"
     ]
    },
    {
     "name": "stdout",
     "output_type": "stream",
     "text": [
      "[CV 4/5] END bootstrap=True, max_depth=None, min_samples_leaf=1, min_samples_split=5, n_estimators=50;, score=0.605 total time=   0.6s\n"
     ]
    },
    {
     "name": "stderr",
     "output_type": "stream",
     "text": [
      "/Users/tlockhart/anaconda3/envs/dev/lib/python3.10/site-packages/sklearn/base.py:1473: DataConversionWarning: A column-vector y was passed when a 1d array was expected. Please change the shape of y to (n_samples,), for example using ravel().\n",
      "  return fit_method(estimator, *args, **kwargs)\n"
     ]
    },
    {
     "name": "stdout",
     "output_type": "stream",
     "text": [
      "[CV 1/5] END bootstrap=True, max_depth=30, min_samples_leaf=2, min_samples_split=5, n_estimators=190;, score=0.589 total time=   0.8s\n",
      "[CV 3/5] END bootstrap=True, max_depth=30, min_samples_leaf=2, min_samples_split=5, n_estimators=190;, score=0.593 total time=   0.9s\n",
      "[CV 2/5] END bootstrap=True, max_depth=30, min_samples_leaf=2, min_samples_split=5, n_estimators=190;, score=0.606 total time=   0.9s\n",
      "[CV 1/5] END bootstrap=False, max_depth=20, min_samples_leaf=1, min_samples_split=10, n_estimators=200;, score=0.589 total time=   1.3s\n",
      "[CV 4/5] END bootstrap=True, max_depth=30, min_samples_leaf=2, min_samples_split=5, n_estimators=190;, score=0.615 total time=   0.9s\n",
      "[CV 2/5] END bootstrap=False, max_depth=20, min_samples_leaf=1, min_samples_split=10, n_estimators=200;, score=0.600 total time=   1.3s\n"
     ]
    },
    {
     "name": "stderr",
     "output_type": "stream",
     "text": [
      "/Users/tlockhart/anaconda3/envs/dev/lib/python3.10/site-packages/sklearn/base.py:1473: DataConversionWarning: A column-vector y was passed when a 1d array was expected. Please change the shape of y to (n_samples,), for example using ravel().\n",
      "  return fit_method(estimator, *args, **kwargs)\n",
      "/Users/tlockhart/anaconda3/envs/dev/lib/python3.10/site-packages/sklearn/base.py:1473: DataConversionWarning: A column-vector y was passed when a 1d array was expected. Please change the shape of y to (n_samples,), for example using ravel().\n",
      "  return fit_method(estimator, *args, **kwargs)\n",
      "/Users/tlockhart/anaconda3/envs/dev/lib/python3.10/site-packages/sklearn/base.py:1473: DataConversionWarning: A column-vector y was passed when a 1d array was expected. Please change the shape of y to (n_samples,), for example using ravel().\n",
      "  return fit_method(estimator, *args, **kwargs)\n",
      "/Users/tlockhart/anaconda3/envs/dev/lib/python3.10/site-packages/sklearn/base.py:1473: DataConversionWarning: A column-vector y was passed when a 1d array was expected. Please change the shape of y to (n_samples,), for example using ravel().\n",
      "  return fit_method(estimator, *args, **kwargs)\n",
      "/Users/tlockhart/anaconda3/envs/dev/lib/python3.10/site-packages/sklearn/base.py:1473: DataConversionWarning: A column-vector y was passed when a 1d array was expected. Please change the shape of y to (n_samples,), for example using ravel().\n",
      "  return fit_method(estimator, *args, **kwargs)\n",
      "/Users/tlockhart/anaconda3/envs/dev/lib/python3.10/site-packages/sklearn/base.py:1473: DataConversionWarning: A column-vector y was passed when a 1d array was expected. Please change the shape of y to (n_samples,), for example using ravel().\n",
      "  return fit_method(estimator, *args, **kwargs)\n"
     ]
    },
    {
     "name": "stdout",
     "output_type": "stream",
     "text": [
      "[CV 3/5] END bootstrap=False, max_depth=20, min_samples_leaf=1, min_samples_split=10, n_estimators=200;, score=0.600 total time=   1.3s\n",
      "[CV 5/5] END bootstrap=False, max_depth=20, min_samples_leaf=1, min_samples_split=10, n_estimators=200;, score=0.588 total time=   1.3s\n",
      "[CV 4/5] END bootstrap=False, max_depth=20, min_samples_leaf=1, min_samples_split=10, n_estimators=200;, score=0.604 total time=   1.3s\n",
      "[CV 5/5] END bootstrap=True, max_depth=30, min_samples_leaf=2, min_samples_split=5, n_estimators=190;, score=0.596 total time=   0.8s\n"
     ]
    },
    {
     "name": "stderr",
     "output_type": "stream",
     "text": [
      "/Users/tlockhart/anaconda3/envs/dev/lib/python3.10/site-packages/sklearn/base.py:1473: DataConversionWarning: A column-vector y was passed when a 1d array was expected. Please change the shape of y to (n_samples,), for example using ravel().\n",
      "  return fit_method(estimator, *args, **kwargs)\n",
      "/Users/tlockhart/anaconda3/envs/dev/lib/python3.10/site-packages/sklearn/base.py:1473: DataConversionWarning: A column-vector y was passed when a 1d array was expected. Please change the shape of y to (n_samples,), for example using ravel().\n",
      "  return fit_method(estimator, *args, **kwargs)\n",
      "/Users/tlockhart/anaconda3/envs/dev/lib/python3.10/site-packages/sklearn/base.py:1473: DataConversionWarning: A column-vector y was passed when a 1d array was expected. Please change the shape of y to (n_samples,), for example using ravel().\n",
      "  return fit_method(estimator, *args, **kwargs)\n",
      "/Users/tlockhart/anaconda3/envs/dev/lib/python3.10/site-packages/sklearn/base.py:1473: DataConversionWarning: A column-vector y was passed when a 1d array was expected. Please change the shape of y to (n_samples,), for example using ravel().\n",
      "  return fit_method(estimator, *args, **kwargs)\n"
     ]
    },
    {
     "name": "stdout",
     "output_type": "stream",
     "text": [
      "[CV 2/5] END bootstrap=True, max_depth=None, min_samples_leaf=1, min_samples_split=10, n_estimators=70;, score=0.606 total time=   0.4s\n",
      "[CV 1/5] END bootstrap=True, max_depth=None, min_samples_leaf=1, min_samples_split=10, n_estimators=70;, score=0.574 total time=   0.5s\n",
      "[CV 3/5] END bootstrap=True, max_depth=None, min_samples_leaf=1, min_samples_split=10, n_estimators=70;, score=0.597 total time=   0.5s\n",
      "[CV 5/5] END bootstrap=True, max_depth=None, min_samples_leaf=1, min_samples_split=10, n_estimators=70;, score=0.598 total time=   0.5s\n",
      "[CV 1/5] END bootstrap=True, max_depth=None, min_samples_leaf=4, min_samples_split=5, n_estimators=160;, score=0.584 total time=   0.5s\n"
     ]
    },
    {
     "name": "stderr",
     "output_type": "stream",
     "text": [
      "/Users/tlockhart/anaconda3/envs/dev/lib/python3.10/site-packages/sklearn/base.py:1473: DataConversionWarning: A column-vector y was passed when a 1d array was expected. Please change the shape of y to (n_samples,), for example using ravel().\n",
      "  return fit_method(estimator, *args, **kwargs)\n",
      "/Users/tlockhart/anaconda3/envs/dev/lib/python3.10/site-packages/sklearn/base.py:1473: DataConversionWarning: A column-vector y was passed when a 1d array was expected. Please change the shape of y to (n_samples,), for example using ravel().\n",
      "  return fit_method(estimator, *args, **kwargs)\n",
      "/Users/tlockhart/anaconda3/envs/dev/lib/python3.10/site-packages/sklearn/base.py:1473: DataConversionWarning: A column-vector y was passed when a 1d array was expected. Please change the shape of y to (n_samples,), for example using ravel().\n",
      "  return fit_method(estimator, *args, **kwargs)\n",
      "/Users/tlockhart/anaconda3/envs/dev/lib/python3.10/site-packages/sklearn/base.py:1473: DataConversionWarning: A column-vector y was passed when a 1d array was expected. Please change the shape of y to (n_samples,), for example using ravel().\n",
      "  return fit_method(estimator, *args, **kwargs)\n",
      "/Users/tlockhart/anaconda3/envs/dev/lib/python3.10/site-packages/sklearn/base.py:1473: DataConversionWarning: A column-vector y was passed when a 1d array was expected. Please change the shape of y to (n_samples,), for example using ravel().\n",
      "  return fit_method(estimator, *args, **kwargs)\n",
      "/Users/tlockhart/anaconda3/envs/dev/lib/python3.10/site-packages/sklearn/base.py:1473: DataConversionWarning: A column-vector y was passed when a 1d array was expected. Please change the shape of y to (n_samples,), for example using ravel().\n",
      "  return fit_method(estimator, *args, **kwargs)\n",
      "/Users/tlockhart/anaconda3/envs/dev/lib/python3.10/site-packages/sklearn/base.py:1473: DataConversionWarning: A column-vector y was passed when a 1d array was expected. Please change the shape of y to (n_samples,), for example using ravel().\n",
      "  return fit_method(estimator, *args, **kwargs)\n",
      "/Users/tlockhart/anaconda3/envs/dev/lib/python3.10/site-packages/sklearn/base.py:1473: DataConversionWarning: A column-vector y was passed when a 1d array was expected. Please change the shape of y to (n_samples,), for example using ravel().\n",
      "  return fit_method(estimator, *args, **kwargs)\n",
      "/Users/tlockhart/anaconda3/envs/dev/lib/python3.10/site-packages/sklearn/base.py:1473: DataConversionWarning: A column-vector y was passed when a 1d array was expected. Please change the shape of y to (n_samples,), for example using ravel().\n",
      "  return fit_method(estimator, *args, **kwargs)\n"
     ]
    },
    {
     "name": "stdout",
     "output_type": "stream",
     "text": [
      "[CV 4/5] END bootstrap=True, max_depth=None, min_samples_leaf=1, min_samples_split=10, n_estimators=70;, score=0.613 total time=   0.6s\n",
      "[CV 2/5] END bootstrap=True, max_depth=None, min_samples_leaf=4, min_samples_split=5, n_estimators=160;, score=0.598 total time=   0.5s\n",
      "[CV 3/5] END bootstrap=True, max_depth=None, min_samples_leaf=4, min_samples_split=5, n_estimators=160;, score=0.583 total time=   0.5s\n",
      "[CV 4/5] END bootstrap=True, max_depth=None, min_samples_leaf=4, min_samples_split=5, n_estimators=160;, score=0.590 total time=   0.5s\n",
      "[CV 5/5] END bootstrap=True, max_depth=None, min_samples_leaf=4, min_samples_split=5, n_estimators=160;, score=0.601 total time=   0.7s\n",
      "[CV 1/5] END bootstrap=True, max_depth=50, min_samples_leaf=2, min_samples_split=10, n_estimators=150;, score=0.590 total time=   0.6s\n",
      "[CV 2/5] END bootstrap=True, max_depth=50, min_samples_leaf=2, min_samples_split=10, n_estimators=150;, score=0.610 total time=   0.6s\n",
      "[CV 3/5] END bootstrap=True, max_depth=50, min_samples_leaf=2, min_samples_split=10, n_estimators=150;, score=0.593 total time=   0.6s\n"
     ]
    },
    {
     "name": "stderr",
     "output_type": "stream",
     "text": [
      "/Users/tlockhart/anaconda3/envs/dev/lib/python3.10/site-packages/sklearn/base.py:1473: DataConversionWarning: A column-vector y was passed when a 1d array was expected. Please change the shape of y to (n_samples,), for example using ravel().\n",
      "  return fit_method(estimator, *args, **kwargs)\n",
      "/Users/tlockhart/anaconda3/envs/dev/lib/python3.10/site-packages/sklearn/base.py:1473: DataConversionWarning: A column-vector y was passed when a 1d array was expected. Please change the shape of y to (n_samples,), for example using ravel().\n",
      "  return fit_method(estimator, *args, **kwargs)\n",
      "/Users/tlockhart/anaconda3/envs/dev/lib/python3.10/site-packages/sklearn/base.py:1473: DataConversionWarning: A column-vector y was passed when a 1d array was expected. Please change the shape of y to (n_samples,), for example using ravel().\n",
      "  return fit_method(estimator, *args, **kwargs)\n",
      "/Users/tlockhart/anaconda3/envs/dev/lib/python3.10/site-packages/sklearn/base.py:1473: DataConversionWarning: A column-vector y was passed when a 1d array was expected. Please change the shape of y to (n_samples,), for example using ravel().\n",
      "  return fit_method(estimator, *args, **kwargs)\n"
     ]
    },
    {
     "name": "stdout",
     "output_type": "stream",
     "text": [
      "[CV 4/5] END bootstrap=True, max_depth=50, min_samples_leaf=2, min_samples_split=10, n_estimators=150;, score=0.600 total time=   0.6s\n",
      "[CV 1/5] END bootstrap=False, max_depth=50, min_samples_leaf=1, min_samples_split=5, n_estimators=60;, score=0.560 total time=   0.6s\n",
      "[CV 5/5] END bootstrap=True, max_depth=50, min_samples_leaf=2, min_samples_split=10, n_estimators=150;, score=0.595 total time=   0.6s\n",
      "[CV 4/5] END bootstrap=False, max_depth=50, min_samples_leaf=1, min_samples_split=5, n_estimators=60;, score=0.602 total time=   0.5s\n",
      "[CV 2/5] END bootstrap=False, max_depth=50, min_samples_leaf=1, min_samples_split=5, n_estimators=60;, score=0.613 total time=   0.6s\n",
      "[CV 3/5] END bootstrap=False, max_depth=50, min_samples_leaf=1, min_samples_split=5, n_estimators=60;, score=0.581 total time=   0.6s\n",
      "[CV 1/5] END bootstrap=False, max_depth=10, min_samples_leaf=4, min_samples_split=10, n_estimators=120;, score=0.584 total time=   0.4s\n",
      "[CV 2/5] END bootstrap=False, max_depth=10, min_samples_leaf=4, min_samples_split=10, n_estimators=120;, score=0.590 total time=   0.3s\n"
     ]
    },
    {
     "name": "stderr",
     "output_type": "stream",
     "text": [
      "/Users/tlockhart/anaconda3/envs/dev/lib/python3.10/site-packages/sklearn/base.py:1473: DataConversionWarning: A column-vector y was passed when a 1d array was expected. Please change the shape of y to (n_samples,), for example using ravel().\n",
      "  return fit_method(estimator, *args, **kwargs)\n",
      "/Users/tlockhart/anaconda3/envs/dev/lib/python3.10/site-packages/sklearn/base.py:1473: DataConversionWarning: A column-vector y was passed when a 1d array was expected. Please change the shape of y to (n_samples,), for example using ravel().\n",
      "  return fit_method(estimator, *args, **kwargs)\n"
     ]
    },
    {
     "name": "stdout",
     "output_type": "stream",
     "text": [
      "[CV 3/5] END bootstrap=False, max_depth=10, min_samples_leaf=4, min_samples_split=10, n_estimators=120;, score=0.580 total time=   0.3s\n",
      "[CV 5/5] END bootstrap=False, max_depth=50, min_samples_leaf=1, min_samples_split=5, n_estimators=60;, score=0.582 total time=   0.5s\n",
      "[CV 4/5] END bootstrap=False, max_depth=10, min_samples_leaf=4, min_samples_split=10, n_estimators=120;, score=0.571 total time=   0.3s\n",
      "[CV 5/5] END bootstrap=False, max_depth=10, min_samples_leaf=4, min_samples_split=10, n_estimators=120;, score=0.589 total time=   0.3s\n",
      "BEST FIT: {'n_estimators': 190, 'min_samples_split': 5, 'min_samples_leaf': 2, 'max_depth': 30, 'bootstrap': True}\n",
      "              precision    recall  f1-score   support\n",
      "\n",
      "           0       0.00      0.00      0.00       165\n",
      "           1       0.57      0.29      0.38       448\n",
      "           2       0.62      0.92      0.74       945\n",
      "           3       0.84      0.17      0.29        92\n",
      "\n",
      "    accuracy                           0.62      1650\n",
      "   macro avg       0.51      0.35      0.35      1650\n",
      "weighted avg       0.56      0.62      0.55      1650\n",
      "\n"
     ]
    },
    {
     "name": "stderr",
     "output_type": "stream",
     "text": [
      "/Users/tlockhart/anaconda3/envs/dev/lib/python3.10/site-packages/sklearn/metrics/_classification.py:1531: UndefinedMetricWarning: Precision is ill-defined and being set to 0.0 in labels with no predicted samples. Use `zero_division` parameter to control this behavior.\n",
      "  _warn_prf(average, modifier, f\"{metric.capitalize()} is\", len(result))\n",
      "/Users/tlockhart/anaconda3/envs/dev/lib/python3.10/site-packages/sklearn/metrics/_classification.py:1531: UndefinedMetricWarning: Precision is ill-defined and being set to 0.0 in labels with no predicted samples. Use `zero_division` parameter to control this behavior.\n",
      "  _warn_prf(average, modifier, f\"{metric.capitalize()} is\", len(result))\n",
      "/Users/tlockhart/anaconda3/envs/dev/lib/python3.10/site-packages/sklearn/metrics/_classification.py:1531: UndefinedMetricWarning: Precision is ill-defined and being set to 0.0 in labels with no predicted samples. Use `zero_division` parameter to control this behavior.\n",
      "  _warn_prf(average, modifier, f\"{metric.capitalize()} is\", len(result))\n"
     ]
    }
   ],
   "source": [
    "# Optimization 7a: RandomForest RandomizedSearchCV Estimator\n",
    "random_tuned_model = RandomForestClassifier()\n",
    "# RandomForest Parameter Grid\n",
    "param_grid = {\n",
    "    \"n_estimators\": np.arange(50, 201, 10),\n",
    "    \"max_depth\": [None, 10, 20, 30, 40, 50],\n",
    "    \"min_samples_split\": [2, 5, 10],\n",
    "    \"min_samples_leaf\": [1, 2, 4],\n",
    "    \"bootstrap\": [True, False]\n",
    "}\n",
    "\n",
    "# RandomizedSearchCV for AdaBoost\n",
    "random_tuned_model = RandomizedSearchCV(\n",
    "    RandomForestClassifier(), \n",
    "    param_grid, \n",
    "    n_iter=10, \n",
    "    cv=5, \n",
    "    verbose=3, \n",
    "    n_jobs=-1, \n",
    "    scoring='accuracy', #Added scoring and cross validation\n",
    "    random_state=61 #Added random state\n",
    ")\n",
    "\n",
    "random_tuned_model.fit(X_train, y_train)\n",
    "\n",
    "target_names = [\"0\", \"1\", \"2\", \"3\"]\n",
    "\n",
    "# Best Parameters\n",
    "print(\"BEST FIT:\", random_tuned_model.best_params_)\n",
    "\n",
    "# Predictions\n",
    "predictions_random = random_tuned_model.predict(X_test)\n",
    "print(classification_report(y_test, predictions_random, target_names=target_names))"
   ]
  },
  {
   "cell_type": "code",
   "execution_count": null,
   "metadata": {},
   "outputs": [
    {
     "ename": "TypeError",
     "evalue": "RandomForestClassifier.__init__() got an unexpected keyword argument 'learning_rate'",
     "output_type": "error",
     "traceback": [
      "\u001b[0;31m---------------------------------------------------------------------------\u001b[0m",
      "\u001b[0;31mTypeError\u001b[0m                                 Traceback (most recent call last)",
      "Cell \u001b[0;32mIn[32], line 12\u001b[0m\n\u001b[1;32m      3\u001b[0m param_grid \u001b[38;5;241m=\u001b[39m {\n\u001b[1;32m      4\u001b[0m     \u001b[38;5;124m\"\u001b[39m\u001b[38;5;124mn_estimators\u001b[39m\u001b[38;5;124m\"\u001b[39m: \u001b[38;5;241m80\u001b[39m,\n\u001b[1;32m      5\u001b[0m     \u001b[38;5;124m\"\u001b[39m\u001b[38;5;124mmax_depth\u001b[39m\u001b[38;5;124m\"\u001b[39m: \u001b[38;5;241m50\u001b[39m,\n\u001b[0;32m   (...)\u001b[0m\n\u001b[1;32m      8\u001b[0m     \u001b[38;5;124m\"\u001b[39m\u001b[38;5;124mbootstrap\u001b[39m\u001b[38;5;124m\"\u001b[39m: \u001b[38;5;28;01mFalse\u001b[39;00m\n\u001b[1;32m      9\u001b[0m }\n\u001b[1;32m     11\u001b[0m \u001b[38;5;66;03m# Create and train the RandomForest classifier with the best parameters\u001b[39;00m\n\u001b[0;32m---> 12\u001b[0m rfc \u001b[38;5;241m=\u001b[39m \u001b[43mRandomForestClassifier\u001b[49m\u001b[43m(\u001b[49m\u001b[38;5;241;43m*\u001b[39;49m\u001b[38;5;241;43m*\u001b[39;49m\u001b[43mbest_params\u001b[49m\u001b[43m)\u001b[49m  \u001b[38;5;66;03m# Use ** to unpack the dictionary\u001b[39;00m\n\u001b[1;32m     13\u001b[0m rfc\u001b[38;5;241m.\u001b[39mfit(X_train, y_train)\n\u001b[1;32m     15\u001b[0m \u001b[38;5;66;03m# Make predictions on the test set\u001b[39;00m\n",
      "\u001b[0;31mTypeError\u001b[0m: RandomForestClassifier.__init__() got an unexpected keyword argument 'learning_rate'"
     ]
    }
   ],
   "source": [
    "# Optimization 7b: Rerun RandomForest with RandomizedSearchCV Best Fit:\n",
    "\n",
    "param_grid = {\n",
    "    \"n_estimators\": 80,\n",
    "    \"max_depth\": 50,\n",
    "    \"min_samples_split\": 2,\n",
    "    \"min_samples_leaf\": 2,\n",
    "    \"bootstrap\": False\n",
    "}\n",
    "\n",
    "# Create and train the RandomForest classifier with the best parameters\n",
    "rfc = RandomForestClassifier(**best_params)  # Use ** to unpack the dictionary\n",
    "rfc.fit(X_train, y_train)\n",
    "\n",
    "# Make predictions on the test set\n",
    "predictions = rfc.predict(X_test)\n",
    "\n",
    "print(f'RFC Score: {rfc.score(X_test, y_test)}')\n",
    "\n",
    "\n",
    "# Evaluate the model\n",
    "target_names = [\"0\", \"1\", \"2\", \"3\"]  # Your target names\n",
    "print(classification_report(y_test, predictions, target_names=target_names))\n",
    "\n",
    "# #If you want to use the model later, you can save it.\n",
    "# import joblib\n",
    "# joblib.dump(rfc, 'rfc_model.pkl') #Save the model\n",
    "# #To load the model later:\n",
    "# #loaded_ada = joblib.load('rfc_model.pkl')"
   ]
  },
  {
   "cell_type": "code",
   "execution_count": null,
   "metadata": {},
   "outputs": [],
   "source": []
  }
 ],
 "metadata": {
  "kernelspec": {
   "display_name": "dev",
   "language": "python",
   "name": "python3"
  },
  "language_info": {
   "codemirror_mode": {
    "name": "ipython",
    "version": 3
   },
   "file_extension": ".py",
   "mimetype": "text/x-python",
   "name": "python",
   "nbconvert_exporter": "python",
   "pygments_lexer": "ipython3",
   "version": "3.10.15"
  }
 },
 "nbformat": 4,
 "nbformat_minor": 2
}
